{
 "cells": [
  {
   "cell_type": "markdown",
   "metadata": {},
   "source": [
    "## Exercise 2: Word's feeling\n",
    "#### (written in Spanish)\n",
    "Dado un archivo que contiene en cada línea una palabra o conjunto de palabras seguido de un valor numérico denominado “sentimiento” y un conjunto de tweets, se pide calcular el sentimiento de aquellas palabras o conjunto de palabras que no tienen un valor asociado en el archivo de “sentimientos”. Se pueden seguir distintas estrategias para asignar un valor. Por ejemplo, se podría asignar como valor el valor del “sentimiento” del tweet en que se encuentra la palabra o conjunto de palabras sin valor, o el valor medio del “sentimiento” del tweet.\n",
    "\n",
    "Obsérvese que:\n",
    "- Como resultado se debe mostrar por pantalla en cada línea, una palabra o conjunto de palabras y a continuación un valor numérico que represente el “sentimiento” de dicha palabra o conjunto de palabras. Solo se mostrarán la palabra o conjunto de palabras que no aparecían con un valor en el archivo original.\n",
    "- No todos los tweets que se van a considerar tienen contenido, por lo que hay que filtrar aquellos que tienen de los que no tienen.\n",
    "- El programa tendrá 2 parámetros de entrada: el archivo que contiene los sentimientos de los términos y el archivo que contiene los tweets."
   ]
  },
  {
   "cell_type": "code",
   "execution_count": 1,
   "metadata": {
    "collapsed": true
   },
   "outputs": [],
   "source": [
    "import numpy as np\n",
    "import json  as js"
   ]
  },
  {
   "cell_type": "code",
   "execution_count": 2,
   "metadata": {
    "collapsed": true
   },
   "outputs": [],
   "source": [
    "# Function which read the feelings file with name 'filename'.\n",
    "# Return a dictionary with the words and its feeling.\n",
    "def readFeelingsFile(filename) :\n",
    "    data = open(filename)\n",
    "    feelings = {}\n",
    "    \n",
    "    for line in data:\n",
    "        word, feeling = line.split(\"\\t\")\n",
    "        feelings[word] = int(feeling)\n",
    "    \n",
    "    return feelings"
   ]
  },
  {
   "cell_type": "code",
   "execution_count": 3,
   "metadata": {
    "collapsed": true
   },
   "outputs": [],
   "source": [
    "# Function which read the tweets file with name 'filename'.\n",
    "# Return a list with the tweets.\n",
    "def readTweetsFile(filename) :\n",
    "    data = open(filename)\n",
    "    \n",
    "    tweets = []\n",
    "    \n",
    "    for line in data :\n",
    "        tweets.append(js.loads(line))\n",
    "    \n",
    "    return tweets"
   ]
  },
  {
   "cell_type": "code",
   "execution_count": 4,
   "metadata": {
    "collapsed": true
   },
   "outputs": [],
   "source": [
    "# Function which gets the feeling of the 'text' param with the feelings in 'feelings' param.\n",
    "def getTweetFeeling(feelings, text) :\n",
    "    feeling = 0\n",
    "    # For each word in tweet's text\n",
    "    for word in text.split(\" \") :\n",
    "        if word in feelings : \n",
    "            # If the word is in feelings, its feeling's amount increments with its feeling in feelings\n",
    "            feeling += feelings[word]\n",
    "            \n",
    "    return feeling"
   ]
  },
  {
   "cell_type": "code",
   "execution_count": 5,
   "metadata": {
    "collapsed": true
   },
   "outputs": [],
   "source": [
    "# Function which calculates the word's feeling with the params: 'feelings' and 'tweets'.\n",
    "# Return a list of string with the word and its feeling.\n",
    "def calculateWordsFeeling(feelings, tweets) :\n",
    "    \n",
    "    # Get the words in feelings with feeling = 0\n",
    "    wordsWithOutFeeling = [ word for word in feelings if feelings[word] == 0 ]\n",
    "    \n",
    "    # Get the tweets with contents\n",
    "    tweetsWithContents = [ tweet for tweet in tweets if 'delete' not in tweet ]\n",
    "    \n",
    "    wordsFeeling = []\n",
    "    \n",
    "    # For each word without feeling\n",
    "    for word in wordsWithOutFeeling :\n",
    "        amountTweets  = 0 # Amount of tweets which the word appears\n",
    "        amountFeeling = 0 # Amount of feeling which the word contains\n",
    "    \n",
    "        # For each tweet\n",
    "        for tweet in tweetsWithContents :\n",
    "            if word in tweet['text'] : # Tweet contains the word\n",
    "                # Add the tweet's feeling\n",
    "                amountFeeling += getTweetFeeling(feelings, tweet['text'])\n",
    "                # Increase amount of tweets\n",
    "                amountTweets  += 1\n",
    "        \n",
    "        if amountTweets != 0 and amountFeeling != 0 :\n",
    "            # If the word appears in several tweets, its feeling is the mean of all tweet's feelings\n",
    "            wordsFeeling.append(word + '\\t' + str(amountFeeling/amountTweets))\n",
    "        else :\n",
    "            # Else, its feeling is 0\n",
    "            wordsFeeling.append(word + '\\t' + str(amountFeeling))\n",
    "            \n",
    "    return wordsFeeling"
   ]
  },
  {
   "cell_type": "code",
   "execution_count": 6,
   "metadata": {},
   "outputs": [
    {
     "name": "stdout",
     "output_type": "stream",
     "text": [
      "playing\t0\n",
      "believe\t2.5\n",
      "mean \t-0.5\n",
      "everything\t3.0\n",
      "some kind\t0\n"
     ]
    }
   ],
   "source": [
    "if __name__ == '__main__' :\n",
    "    \n",
    "    # Get feelings of the file\n",
    "    feelings = readFeelingsFile('feelings.txt')\n",
    "    # Get tweets of the file\n",
    "    tweets = readTweetsFile('tweets.txt')\n",
    "\n",
    "    # Calculate tweet's feeling\n",
    "    wordsFeelings = calculateWordsFeeling(feelings, tweets)\n",
    "    \n",
    "    # Show the results:\n",
    "    for word in wordsFeelings:\n",
    "        print(word)"
   ]
  }
 ],
 "metadata": {
  "kernelspec": {
   "display_name": "Python 3",
   "language": "python",
   "name": "python3"
  },
  "language_info": {
   "codemirror_mode": {
    "name": "ipython",
    "version": 3
   },
   "file_extension": ".py",
   "mimetype": "text/x-python",
   "name": "python",
   "nbconvert_exporter": "python",
   "pygments_lexer": "ipython3",
   "version": "3.6.3"
  }
 },
 "nbformat": 4,
 "nbformat_minor": 2
}
