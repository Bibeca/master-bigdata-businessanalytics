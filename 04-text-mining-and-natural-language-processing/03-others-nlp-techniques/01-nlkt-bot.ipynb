{
 "cells": [
  {
   "cell_type": "markdown",
   "metadata": {},
   "source": [
    "# Others NLP Techniques - NLTK Bot"
   ]
  },
  {
   "cell_type": "code",
   "execution_count": 1,
   "metadata": {},
   "outputs": [
    {
     "name": "stdout",
     "output_type": "stream",
     "text": [
      "Using matplotlib backend: Qt5Agg\n",
      "Populating the interactive namespace from numpy and matplotlib\n"
     ]
    }
   ],
   "source": [
    "%pylab\n",
    "%matplotlib inline\n",
    "\n",
    "%config InlineBackend.figure_format = 'retina'\n",
    "\n",
    "import numpy as np"
   ]
  },
  {
   "cell_type": "markdown",
   "metadata": {},
   "source": [
    "### `NLTK.Chat` Library "
   ]
  },
  {
   "cell_type": "markdown",
   "metadata": {},
   "source": [
    "We are going to use the `nltk.chat` library for making a simple chatbots:"
   ]
  },
  {
   "cell_type": "code",
   "execution_count": 2,
   "metadata": {
    "collapsed": true
   },
   "outputs": [],
   "source": [
    "# Import all libraries\n",
    "from nltk.chat.util import Chat"
   ]
  },
  {
   "cell_type": "code",
   "execution_count": 3,
   "metadata": {},
   "outputs": [],
   "source": [
    "# Let's make the pairs (question-answer)\n",
    "pairs = (\n",
    "    (r'I need (.*)',\n",
    "    ('Why do you need %1?',\n",
    "     'Are you sure to need %1')),\n",
    "    \n",
    "    (r'exit',\n",
    "    ('Thank you for talk to me',\n",
    "     'Good bye! :)',\n",
    "     'Have a great day!')),\n",
    "    \n",
    "    (r\"I am (.*) and you?\",\n",
    "    (\"I'm %1 too, thank you for asking me. But let's talk about you\",\n",
    "     \"Why are you %1?\")),\n",
    "    \n",
    "    (r'(.*)',\n",
    "    (\"I'm a repetitor, so you've said: %1\",\n",
    "     \"%1\"))\n",
    "    \n",
    ")\n",
    "\n",
    "# Let's make the reflections\n",
    "reflections = {\n",
    "  \"i am\"       : \"you are\",\n",
    "  \"i was\"      : \"you were\",\n",
    "  \"i\"          : \"you\",\n",
    "  \"i'm\"        : \"you are\",\n",
    "  \"i'd\"        : \"you would\",\n",
    "  \"i've\"       : \"you have\",\n",
    "  \"i'll\"       : \"you will\",\n",
    "  \"my\"         : \"your\",\n",
    "  \"you are\"    : \"I am\",\n",
    "  \"you're\"     : \"I'm\",\n",
    "  \"you were\"   : \"I was\",\n",
    "  \"you've\"     : \"I have\",\n",
    "  \"you'll\"     : \"I will\",\n",
    "  \"your\"       : \"my\",\n",
    "  \"yours\"      : \"mine\",\n",
    "  \"you\"        : \"me\",\n",
    "  \"me\"         : \"you\"\n",
    "}\n",
    "\n",
    "\n",
    "# Let's create the chatbot\n",
    "chatbot = Chat(pairs, reflections)\n",
    "\n",
    "def test_chat():\n",
    "    print(\"Testing bot\\n----\\n\")\n",
    "    print(\"Write 'exit' to finish the conversation\")\n",
    "    print(\"=\"*73)\n",
    "    print(\"Hello, how are you?\")\n",
    "    \n",
    "    chatbot.converse(quit='exit')"
   ]
  },
  {
   "cell_type": "code",
   "execution_count": 4,
   "metadata": {},
   "outputs": [
    {
     "name": "stdout",
     "output_type": "stream",
     "text": [
      "Testing bot\n",
      "----\n",
      "\n",
      "Write 'exit' to finish the conversation\n",
      "=========================================================================\n",
      "Hello, how are you?\n",
      ">I am fine\n",
      "you are fine\n",
      ">I am fine and you?\n",
      "Why are you fine?\n",
      ">Because yes\n",
      "because yes\n",
      ">why do you repeat all I'v said?\n",
      "I'm a repetitor, so you've said: why do me repeat all you'v said?\n",
      ">exit\n",
      "Thank you for talk to me\n"
     ]
    }
   ],
   "source": [
    "test_chat()"
   ]
  }
 ],
 "metadata": {
  "kernelspec": {
   "display_name": "Python 3",
   "language": "python",
   "name": "python3"
  },
  "language_info": {
   "codemirror_mode": {
    "name": "ipython",
    "version": 3
   },
   "file_extension": ".py",
   "mimetype": "text/x-python",
   "name": "python",
   "nbconvert_exporter": "python",
   "pygments_lexer": "ipython3",
   "version": "3.6.3"
  }
 },
 "nbformat": 4,
 "nbformat_minor": 2
}
