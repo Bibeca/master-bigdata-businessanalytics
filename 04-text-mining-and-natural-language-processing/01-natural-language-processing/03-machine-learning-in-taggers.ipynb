{
 "cells": [
  {
   "cell_type": "markdown",
   "metadata": {},
   "source": [
    "# NLP - Machine learning in taggers"
   ]
  },
  {
   "cell_type": "code",
   "execution_count": 1,
   "metadata": {},
   "outputs": [
    {
     "name": "stdout",
     "output_type": "stream",
     "text": [
      "Using matplotlib backend: Qt5Agg\n",
      "Populating the interactive namespace from numpy and matplotlib\n"
     ]
    }
   ],
   "source": [
    "%pylab\n",
    "%matplotlib inline\n",
    "\n",
    "%config InlineBackend.figure_format = 'retina'\n",
    "\n",
    "import numpy as np"
   ]
  },
  {
   "cell_type": "markdown",
   "metadata": {},
   "source": [
    "### Import NLTK and Spanish CESS corpus"
   ]
  },
  {
   "cell_type": "code",
   "execution_count": 2,
   "metadata": {
    "collapsed": true,
    "scrolled": true
   },
   "outputs": [],
   "source": [
    "import nltk\n",
    "from nltk.corpus import cess_esp\n",
    "\n",
    "# Load all tagged sentences of CESS corpus\n",
    "sents = cess_esp.tagged_sents()"
   ]
  },
  {
   "cell_type": "markdown",
   "metadata": {},
   "source": [
    "### Make a training and test datasets "
   ]
  },
  {
   "cell_type": "code",
   "execution_count": 3,
   "metadata": {
    "collapsed": true
   },
   "outputs": [],
   "source": [
    "# 90% -> training\n",
    "# 10% -> test\n",
    "training = []\n",
    "test = []\n",
    "for i in range(len(sents)) :\n",
    "    if i % 10 :\n",
    "        training.append(sents[i])\n",
    "    else :\n",
    "        test.append(sents[i])"
   ]
  },
  {
   "cell_type": "markdown",
   "metadata": {},
   "source": [
    "### Import the four types of morphology analyzer (taggers) "
   ]
  },
  {
   "cell_type": "code",
   "execution_count": 4,
   "metadata": {
    "collapsed": true
   },
   "outputs": [],
   "source": [
    "# UnigramTagger -> it learn of the each word's statistics on CESS corpus\n",
    "# BigramTagger -> it learn of the each word's statistics and its previous word\n",
    "# TrigramTagger -> it learn of the each word's statistics and its two previous words\n",
    "# HiddenMarkovModelTagger -> it is the more complete model\n",
    "from nltk import UnigramTagger, BigramTagger, TrigramTagger\n",
    "from nltk.tag.hmm import HiddenMarkovModelTagger"
   ]
  },
  {
   "cell_type": "markdown",
   "metadata": {},
   "source": [
    "### Training the taggers "
   ]
  },
  {
   "cell_type": "code",
   "execution_count": 5,
   "metadata": {
    "collapsed": true
   },
   "outputs": [],
   "source": [
    "unigram_tagger = UnigramTagger(training)\n",
    "\n",
    "# The backoff is unigram_tagger because if the tagger cannot tag the word, it use the unigram_tagger like backoff\n",
    "bigram_tagger = BigramTagger(training, backoff=unigram_tagger) \n",
    "trigram_tagger = TrigramTagger(training, backoff=unigram_tagger)\n",
    "\n",
    "hmm_tagger = HiddenMarkovModelTagger.train(training)"
   ]
  },
  {
   "cell_type": "markdown",
   "metadata": {},
   "source": [
    "### Evaluate the taggers "
   ]
  },
  {
   "cell_type": "code",
   "execution_count": 6,
   "metadata": {},
   "outputs": [
    {
     "name": "stdout",
     "output_type": "stream",
     "text": [
      "Success with unigrams: 87.65970871234029\n",
      "Success with bigrams: 89.42636311057363\n",
      "Success with trigrams: 89.01624691098375\n",
      "Success with HMMs: 89.88905831011094\n"
     ]
    }
   ],
   "source": [
    "print ('Success with unigrams:',unigram_tagger.evaluate(test)*100)\n",
    "print ('Success with bigrams:',bigram_tagger.evaluate(test)*100)\n",
    "print ('Success with trigrams:',trigram_tagger.evaluate(test)*100)\n",
    "print ('Success with HMMs:',hmm_tagger.evaluate(test)*100)"
   ]
  },
  {
   "cell_type": "markdown",
   "metadata": {},
   "source": [
    "### Words with `None` tag "
   ]
  },
  {
   "cell_type": "markdown",
   "metadata": {},
   "source": [
    "If the tagger cannot tag a word because it is not on corpus in the training or it does not belong the found context, the tagger tags that word with the `None` tag. Let's see that:"
   ]
  },
  {
   "cell_type": "code",
   "execution_count": 7,
   "metadata": {},
   "outputs": [
    {
     "name": "stdout",
     "output_type": "stream",
     "text": [
      "[('Los', 'da0mp0'), ('perros', 'ncmp000'), ('son', 'vsip3p0'), ('buenos', 'aq0mp0'), ('chuchetes', None)]\n"
     ]
    }
   ],
   "source": [
    "# Chuchetes is not on corpus\n",
    "sentence = \"Los perros son buenos chuchetes\"\n",
    "\n",
    "tokens = nltk.word_tokenize(sentence)\n",
    "tagged = trigram_tagger.tag(tokens)\n",
    "\n",
    "print (tagged)"
   ]
  }
 ],
 "metadata": {
  "kernelspec": {
   "display_name": "Python 3",
   "language": "python",
   "name": "python3"
  },
  "language_info": {
   "codemirror_mode": {
    "name": "ipython",
    "version": 3
   },
   "file_extension": ".py",
   "mimetype": "text/x-python",
   "name": "python",
   "nbconvert_exporter": "python",
   "pygments_lexer": "ipython3",
   "version": "3.6.3"
  }
 },
 "nbformat": 4,
 "nbformat_minor": 2
}
