{
 "cells": [
  {
   "cell_type": "markdown",
   "metadata": {},
   "source": [
    "# NLP - Practical case 2"
   ]
  },
  {
   "cell_type": "markdown",
   "metadata": {},
   "source": [
    "Using the Taggers which we used in the [last notebook](03-machine-learning-in-taggers.ipynb), we have to train a Catalan trigram tagger. \n",
    "\n",
    "To train the tagger, if it cannot tag a word it will use a bigram tagger, and if this last tagger neither, then it will use a unigram tagger. If the last tagger neither, then it will use a default tagger.\n",
    "\n",
    "Once the tagger is trained, we have to test it with the sentence `'My dog is a very cute chuchete, but the word chuchete is not recognized.'` in catalan: \n",
    "       \n",
    "    'El meu gos és un chuchete molt bonic, però la paraula chuchete no es reconeix.'"
   ]
  },
  {
   "cell_type": "code",
   "execution_count": 1,
   "metadata": {},
   "outputs": [
    {
     "name": "stdout",
     "output_type": "stream",
     "text": [
      "Using matplotlib backend: Qt5Agg\n",
      "Populating the interactive namespace from numpy and matplotlib\n"
     ]
    }
   ],
   "source": [
    "%pylab\n",
    "%matplotlib inline\n",
    "\n",
    "%config InlineBackend.figure_format = 'retina'\n",
    "\n",
    "import numpy as np"
   ]
  },
  {
   "cell_type": "markdown",
   "metadata": {},
   "source": [
    "### Import NLTK and Catalan CESS corpus"
   ]
  },
  {
   "cell_type": "code",
   "execution_count": 2,
   "metadata": {
    "collapsed": true,
    "scrolled": true
   },
   "outputs": [],
   "source": [
    "import nltk\n",
    "from nltk.corpus import cess_cat\n",
    "\n",
    "# Load all tagged sentences of CESS corpus\n",
    "sents = cess_cat.tagged_sents()"
   ]
  },
  {
   "cell_type": "markdown",
   "metadata": {},
   "source": [
    "### Make a training and test datasets "
   ]
  },
  {
   "cell_type": "code",
   "execution_count": 3,
   "metadata": {
    "collapsed": true
   },
   "outputs": [],
   "source": [
    "# 90% -> training\n",
    "# 10% -> test\n",
    "training = []\n",
    "test = []\n",
    "for i in range(len(sents)) :\n",
    "    if i % 10 :\n",
    "        training.append(sents[i])\n",
    "    else :\n",
    "        test.append(sents[i])"
   ]
  },
  {
   "cell_type": "markdown",
   "metadata": {},
   "source": [
    "### Import the four types of morphology analyzer (taggers) "
   ]
  },
  {
   "cell_type": "code",
   "execution_count": 4,
   "metadata": {
    "collapsed": true
   },
   "outputs": [],
   "source": [
    "# DefaultTagger -> it tag all words with the same tag (it is indicated in the constructor)\n",
    "# UnigramTagger -> it learn of the each word's statistics on CESS corpus\n",
    "# BigramTagger -> it learn of the each word's statistics and its previous word\n",
    "# TrigramTagger -> it learn of the each word's statistics and its two previous words\n",
    "from nltk import DefaultTagger, UnigramTagger, BigramTagger, TrigramTagger"
   ]
  },
  {
   "cell_type": "markdown",
   "metadata": {},
   "source": [
    "### Training the taggers "
   ]
  },
  {
   "cell_type": "code",
   "execution_count": 5,
   "metadata": {
    "collapsed": true
   },
   "outputs": [],
   "source": [
    "default_tagger = DefaultTagger('Practical-Case2')\n",
    "unigram_tagger = UnigramTagger(training, backoff = default_tagger)\n",
    "bigram_tagger = BigramTagger(training, backoff=unigram_tagger) \n",
    "\n",
    "trigram_tagger = TrigramTagger(training, backoff=bigram_tagger)"
   ]
  },
  {
   "cell_type": "markdown",
   "metadata": {},
   "source": [
    "### Evaluate the tagger"
   ]
  },
  {
   "cell_type": "code",
   "execution_count": 6,
   "metadata": {},
   "outputs": [
    {
     "name": "stdout",
     "output_type": "stream",
     "text": [
      "Success: 91.83444970437448\n"
     ]
    }
   ],
   "source": [
    "print ('Success:',trigram_tagger.evaluate(test)*100)"
   ]
  },
  {
   "cell_type": "markdown",
   "metadata": {},
   "source": [
    "### Test the tagger with the sentence"
   ]
  },
  {
   "cell_type": "code",
   "execution_count": 7,
   "metadata": {},
   "outputs": [
    {
     "name": "stdout",
     "output_type": "stream",
     "text": [
      "[('El', 'da0ms0'), ('meu', 'dp1mss'), ('gos', 'ncms000'), ('és', 'vsip3s0'), ('un', 'di0ms0'), ('chuchete', 'Practical-Case2'), ('molt', 'rg'), ('bonic', 'aq0ms0'), (',', 'Fc'), ('però', 'cc'), ('la', 'da0fs0'), ('paraula', 'ncfs000'), ('chuchete', 'Practical-Case2'), ('no', 'rn'), ('es', 'p0000000'), ('reconeix', 'vmip3s0'), ('.', 'Fp')]\n"
     ]
    }
   ],
   "source": [
    "# Chuchetes is not on corpus\n",
    "sentence = \"El meu gos és un chuchete molt bonic, però la paraula chuchete no es reconeix.\"\n",
    "\n",
    "# Tokenize the sentence\n",
    "tokens = nltk.word_tokenize(sentence)\n",
    "\n",
    "# Tag the tokens\n",
    "tagged = trigram_tagger.tag(tokens)\n",
    "\n",
    "print (tagged)"
   ]
  },
  {
   "cell_type": "markdown",
   "metadata": {},
   "source": [
    "As we can see, the token `chuchete` is not on corpus, and the tagger has tagged that word with `Practical-Case2` tag, which is the default tag, like we wanted."
   ]
  }
 ],
 "metadata": {
  "kernelspec": {
   "display_name": "Python 3",
   "language": "python",
   "name": "python3"
  },
  "language_info": {
   "codemirror_mode": {
    "name": "ipython",
    "version": 3
   },
   "file_extension": ".py",
   "mimetype": "text/x-python",
   "name": "python",
   "nbconvert_exporter": "python",
   "pygments_lexer": "ipython3",
   "version": "3.6.3"
  }
 },
 "nbformat": 4,
 "nbformat_minor": 2
}
