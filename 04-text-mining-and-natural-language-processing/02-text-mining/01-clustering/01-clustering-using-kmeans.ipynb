{
 "cells": [
  {
   "cell_type": "markdown",
   "metadata": {},
   "source": [
    "# Text Mining - Clustering usign `K-Means`"
   ]
  },
  {
   "cell_type": "code",
   "execution_count": 1,
   "metadata": {},
   "outputs": [
    {
     "name": "stdout",
     "output_type": "stream",
     "text": [
      "Using matplotlib backend: Qt5Agg\n",
      "Populating the interactive namespace from numpy and matplotlib\n"
     ]
    }
   ],
   "source": [
    "%pylab\n",
    "%matplotlib inline\n",
    "\n",
    "%config InlineBackend.figure_format = 'retina'\n",
    "\n",
    "import numpy as np"
   ]
  },
  {
   "cell_type": "markdown",
   "metadata": {},
   "source": [
    "### 1. Load the corpus of texts"
   ]
  },
  {
   "cell_type": "code",
   "execution_count": 2,
   "metadata": {},
   "outputs": [
    {
     "name": "stdout",
     "output_type": "stream",
     "text": [
      "1. Load the corpus of texts\n",
      "\t Me gustan las vacas\n",
      "\t Me gustan los caballos\n",
      "\t odio los perros\n",
      "\t odio los caballos\n",
      "\t me gustan las ranas\n",
      "\t me gusta el helado\n",
      "\t no quiero comer\n"
     ]
    }
   ],
   "source": [
    "# 1. Load the corpus of texts\n",
    "print('1. Load the corpus of texts')\n",
    "trainCorpus = [\"Me gustan las vacas\",\n",
    "               \"Me gustan los caballos\",\n",
    "               \"odio los perros\",0\n",
    "               \"odio los caballos\",\n",
    "               \"me gustan las ranas\",\n",
    "               \"me gusta el helado\",\n",
    "               \"no quiero comer\"]\n",
    "\n",
    "for text in trainCorpus :\n",
    "    print('\\t', text)"
   ]
  },
  {
   "cell_type": "markdown",
   "metadata": {},
   "source": [
    "### 2. Texts vectorization "
   ]
  },
  {
   "cell_type": "code",
   "execution_count": 3,
   "metadata": {},
   "outputs": [
    {
     "name": "stdout",
     "output_type": "stream",
     "text": [
      "2. Texts vectorization\n",
      "\n",
      "Features:  ['caballos', 'comer', 'el', 'gusta', 'gustan', 'helado', 'las', 'los', 'me', 'no', 'odio', 'perros', 'quiero', 'ranas', 'vacas']\n",
      "\n",
      "tf Matrix:\n",
      " [[0 0 0 0 1 0 1 0 1 0 0 0 0 0 1]\n",
      " [1 0 0 0 1 0 0 1 1 0 0 0 0 0 0]\n",
      " [0 0 0 0 0 0 0 1 0 0 1 1 0 0 0]\n",
      " [1 0 0 0 0 0 0 1 0 0 1 0 0 0 0]\n",
      " [0 0 0 0 1 0 1 0 1 0 0 0 0 1 0]\n",
      " [0 0 1 1 0 1 0 0 1 0 0 0 0 0 0]\n",
      " [0 1 0 0 0 0 0 0 0 1 0 0 1 0 0]]\n",
      "number of sentences 7, number of features 15\n"
     ]
    }
   ],
   "source": [
    "# 2. Texts vectorization\n",
    "print('2. Texts vectorization\\n')\n",
    "\n",
    "# Import the vectorizer\n",
    "from sklearn.feature_extraction.text import CountVectorizer\n",
    "\n",
    "# Create the vectorizer\n",
    "vectorizer = CountVectorizer()\n",
    "\n",
    "# Use the vectorizer to transform the documents on a matrix of tf's (term frequency) of documents\n",
    "vectorizer.fit(trainCorpus)\n",
    "\n",
    "# Print the features of vectorizer\n",
    "print('Features: ', vectorizer.get_feature_names())\n",
    "\n",
    "# Extract the terms frequency\n",
    "tfMatrix = vectorizer.transform(trainCorpus)\n",
    "\n",
    "# Print the matrix. \n",
    "# This matrix converted in array indicates: \n",
    "#    - Each column is a one feature, \n",
    "#    - Each row is a one sentence of corpus.\n",
    "#    - The (i,j) value indicates the frequency of j feature in a i sentence\n",
    "print('\\ntf Matrix:\\n', tfMatrix.toarray())\n",
    "\n",
    "# Print the shape of our matrix:\n",
    "print(\"number of sentences %d, number of features %d\" % tfMatrix.shape)"
   ]
  },
  {
   "cell_type": "markdown",
   "metadata": {},
   "source": [
    "### 3. Texts clustering "
   ]
  },
  {
   "cell_type": "code",
   "execution_count": 4,
   "metadata": {},
   "outputs": [
    {
     "name": "stdout",
     "output_type": "stream",
     "text": [
      "3. Texts clustering\n",
      "Clusters:  [0 0 1 1 0 0 1]\n",
      "Cluster  0\n",
      "\t Me gustan las vacas\n",
      "\t Me gustan los caballos\n",
      "\t me gustan las ranas\n",
      "\t me gusta el helado\n",
      "Cluster  1\n",
      "\t odio los perros\n",
      "\t odio los caballos\n",
      "\t no quiero comer\n"
     ]
    }
   ],
   "source": [
    "# 3. Texts clustering\n",
    "print('3. Texts clustering')\n",
    "\n",
    "# Import the KMeans algorithm\n",
    "from sklearn.cluster import KMeans\n",
    "\n",
    "# Assign the kmeans's k-value to k=2 because we want to get 2 clusters: positive and negative sentences \n",
    "k = 2\n",
    "\n",
    "# Create and fit the KMeans\n",
    "km = KMeans(n_clusters = k, max_iter = 10, random_state = 1)\n",
    "km.fit(tfMatrix)\n",
    "\n",
    "# Print the results:\n",
    "print('Clusters: ', km.labels_)\n",
    "\n",
    "# Print the clusters with its sentences:\n",
    "# For each cluster\n",
    "for i in range(k) :\n",
    "    print('Cluster ', i)\n",
    "    \n",
    "    # For each sentence\n",
    "    for j in range(km.labels_.size) :\n",
    "        if km.labels_[j] == i :\n",
    "            print('\\t', trainCorpus[j])"
   ]
  },
  {
   "cell_type": "markdown",
   "metadata": {},
   "source": [
    "### 4. Clustering quality measurement"
   ]
  },
  {
   "cell_type": "code",
   "execution_count": 5,
   "metadata": {},
   "outputs": [
    {
     "name": "stdout",
     "output_type": "stream",
     "text": [
      "4. Clustering quality measurement\n",
      "Clusters:  [0 0 1 1 0 0 1]\n",
      "Sentences:  [0, 0, 1, 1, 0, 0, 1]\n",
      "Homogeneity: 1.000\n",
      "Completeness: 1.000\n",
      "V-measure: 1.000\n"
     ]
    }
   ],
   "source": [
    "# 4. Clustering quality measurement\n",
    "print('4. Clustering quality measurement')\n",
    "\n",
    "# Import the metrics\n",
    "from sklearn import metrics\n",
    "\n",
    "# To measure the clustering quality, we need the real categories: 1 - negative sentences, 0 - positive sentences\n",
    "sentencesTruth = [0,0,1,1,0,0,1]\n",
    "\n",
    "print(\"Clusters: \", km.labels_)\n",
    "print(\"Sentences: \", sentencesTruth)\n",
    "\n",
    "# Calculate the clustering goodness with: homogeneity_score, completeness_score and v_measure_score\n",
    "# A cluster is homogeneous if its all elements contains members of the same class\n",
    "print(\"Homogeneity: %0.3f\" % metrics.homogeneity_score(sentencesTruth, km.labels_))\n",
    "\n",
    "# A class is compelete if its all elements belong to the same cluster\n",
    "print(\"Completeness: %0.3f\" % metrics.completeness_score(sentencesTruth, km.labels_))\n",
    "\n",
    "# V-measure is the weighted average of the last two metrics\n",
    "print(\"V-measure: %0.3f\" % metrics.v_measure_score(sentencesTruth, km.labels_))"
   ]
  },
  {
   "cell_type": "markdown",
   "metadata": {},
   "source": [
    "### 5. Use the trained KMeans to classify others texts "
   ]
  },
  {
   "cell_type": "code",
   "execution_count": 6,
   "metadata": {},
   "outputs": [
    {
     "name": "stdout",
     "output_type": "stream",
     "text": [
      "5. Use the trained KMeans to classify others texts\n",
      "\n",
      "Testing tests:\n",
      "\t odio los animales\n",
      "\t me gustan los pájaros\n",
      "\n",
      "tfMatrixTest:\n",
      " [[0 0 0 0 0 0 0 1 0 0 1 0 0 0 0]\n",
      " [0 0 0 0 1 0 0 1 1 0 0 0 0 0 0]]\n",
      "\n",
      "Clusters prediction:  [1 0]\n"
     ]
    }
   ],
   "source": [
    "# 5. Use the trained KMeans to classify others texts\n",
    "print('5. Use the trained KMeans to classify others texts')\n",
    "\n",
    "testCorpus = ['odio los animales', 'me gustan los pájaros']\n",
    "\n",
    "print('\\nTesting tests:')\n",
    "for text in testCorpus :\n",
    "    print('\\t', text)\n",
    "    \n",
    "# Text vectorization\n",
    "tfMatrixTest = vectorizer.transform(testCorpus)\n",
    "print('\\ntfMatrixTest:\\n', tfMatrixTest.toarray())\n",
    "\n",
    "# Classify the texts\n",
    "pred = km.predict(tfMatrixTest)\n",
    "print('\\nClusters prediction: ', pred)"
   ]
  }
 ],
 "metadata": {
  "kernelspec": {
   "display_name": "Python 3",
   "language": "python",
   "name": "python3"
  },
  "language_info": {
   "codemirror_mode": {
    "name": "ipython",
    "version": 3
   },
   "file_extension": ".py",
   "mimetype": "text/x-python",
   "name": "python",
   "nbconvert_exporter": "python",
   "pygments_lexer": "ipython3",
   "version": "3.6.3"
  }
 },
 "nbformat": 4,
 "nbformat_minor": 2
}
