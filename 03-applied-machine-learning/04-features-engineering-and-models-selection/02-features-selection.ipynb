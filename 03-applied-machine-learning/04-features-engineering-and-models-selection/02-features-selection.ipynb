{
 "cells": [
  {
   "cell_type": "markdown",
   "metadata": {},
   "source": [
    "# Features engineering and models selection - Features selection "
   ]
  },
  {
   "cell_type": "code",
   "execution_count": 1,
   "metadata": {
    "scrolled": true
   },
   "outputs": [
    {
     "name": "stdout",
     "output_type": "stream",
     "text": [
      "Using matplotlib backend: Qt5Agg\n",
      "Populating the interactive namespace from numpy and matplotlib\n"
     ]
    }
   ],
   "source": [
    "%pylab\n",
    "%matplotlib inline\n",
    "\n",
    "%config InlineBackend.figure_format = 'retina'\n",
    "\n",
    "import numpy as np"
   ]
  },
  {
   "cell_type": "markdown",
   "metadata": {},
   "source": [
    "### Features univariate selection"
   ]
  },
  {
   "cell_type": "markdown",
   "metadata": {},
   "source": [
    "We are going to use the features univariate selection above the `winequality-white.csv` file."
   ]
  },
  {
   "cell_type": "code",
   "execution_count": 2,
   "metadata": {
    "collapsed": true
   },
   "outputs": [],
   "source": [
    "import pandas as pd"
   ]
  },
  {
   "cell_type": "code",
   "execution_count": 3,
   "metadata": {},
   "outputs": [],
   "source": [
    "# Read file\n",
    "data = pd.read_csv('data/winequality-white.csv', sep = ';')\n",
    "\n",
    "# Remove the quality feature:\n",
    "target = 'quality'\n",
    "features = list(data.columns)\n",
    "features.remove(target)\n",
    "\n",
    "features = data[features]\n",
    "target = data[target]"
   ]
  },
  {
   "cell_type": "markdown",
   "metadata": {},
   "source": [
    "#### Remove variables with low variance"
   ]
  },
  {
   "cell_type": "markdown",
   "metadata": {},
   "source": [
    "This allows remove the variables which have a low variance. For that, we use `VarianceThreshold` given by `scikit-learn`"
   ]
  },
  {
   "cell_type": "code",
   "execution_count": 4,
   "metadata": {
    "collapsed": true
   },
   "outputs": [],
   "source": [
    "from sklearn.feature_selection import VarianceThreshold"
   ]
  },
  {
   "cell_type": "code",
   "execution_count": 5,
   "metadata": {},
   "outputs": [
    {
     "name": "stdout",
     "output_type": "stream",
     "text": [
      "Original features: 11\n",
      "Final features: 5\n",
      "List of final features: ['fixed acidity' 'residual sugar' 'free sulfur dioxide'\n",
      " 'total sulfur dioxide' 'alcohol']\n"
     ]
    }
   ],
   "source": [
    "# Create the VarianceThreshold object\n",
    "var_th = VarianceThreshold(threshold = 0.6)\n",
    "\n",
    "# Transform the features\n",
    "features_var = var_th.fit_transform(features)\n",
    "\n",
    "# Print the results:\n",
    "print('Original features:', features.shape[1])\n",
    "print('Final features:', features_var.shape[1])\n",
    "\n",
    "print('List of final features:', np.asarray(list(features))[var_th.get_support()])"
   ]
  },
  {
   "cell_type": "markdown",
   "metadata": {
    "collapsed": true
   },
   "source": [
    "#### K-best selection "
   ]
  },
  {
   "cell_type": "markdown",
   "metadata": {
    "collapsed": true
   },
   "source": [
    "This allows select the k-best features which get a better results with a function. For that, we use `SelectKBest` given by `scikit-learn`. The functions used are: `f_regression` for linear regression models and `chi2` for classification models."
   ]
  },
  {
   "cell_type": "code",
   "execution_count": 6,
   "metadata": {
    "collapsed": true
   },
   "outputs": [],
   "source": [
    "from sklearn.feature_selection import SelectKBest\n",
    "from sklearn.feature_selection import f_regression\n",
    "from sklearn.feature_selection import chi2"
   ]
  },
  {
   "cell_type": "code",
   "execution_count": 7,
   "metadata": {},
   "outputs": [
    {
     "name": "stdout",
     "output_type": "stream",
     "text": [
      "Using f_regression:\n",
      "  Final variables: 5\n",
      "  List of final variables: ['volatile acidity' 'chlorides' 'total sulfur dioxide' 'density' 'alcohol']\n"
     ]
    }
   ],
   "source": [
    "# Create a f_regression SelectKBest\n",
    "var_sk = SelectKBest(f_regression, k = 5) # the 5 best features\n",
    "features_sk = var_sk.fit_transform(features, target)\n",
    "\n",
    "# Print the results:\n",
    "print('Using f_regression:')\n",
    "print('  Final variables:', features_sk.shape[1])\n",
    "print('  List of final variables:', np.asarray(list(features))[var_sk.get_support()])"
   ]
  },
  {
   "cell_type": "code",
   "execution_count": 8,
   "metadata": {},
   "outputs": [
    {
     "name": "stdout",
     "output_type": "stream",
     "text": [
      "Using chi2:\n",
      "  Final variables: 5\n",
      "  List of final variables: ['volatile acidity' 'residual sugar' 'free sulfur dioxide'\n",
      " 'total sulfur dioxide' 'alcohol']\n"
     ]
    }
   ],
   "source": [
    "# Create a f_regression SelectKBest\n",
    "var_sk = SelectKBest(chi2, k = 5) # the 5 best features\n",
    "features_sk = var_sk.fit_transform(features, target)\n",
    "\n",
    "# Print the results:\n",
    "print('Using chi2:')\n",
    "print('  Final variables:', features_sk.shape[1])\n",
    "print('  List of final variables:', np.asarray(list(features))[var_sk.get_support()])\n"
   ]
  },
  {
   "cell_type": "markdown",
   "metadata": {
    "collapsed": true
   },
   "source": [
    "One alternative to `SelectKBest` is `SelectPercentile`, where a percentage of features is selected:"
   ]
  },
  {
   "cell_type": "code",
   "execution_count": 9,
   "metadata": {
    "collapsed": true
   },
   "outputs": [],
   "source": [
    "from sklearn.feature_selection import SelectPercentile\n",
    "from sklearn.feature_selection import f_regression\n",
    "from sklearn.feature_selection import chi2"
   ]
  },
  {
   "cell_type": "code",
   "execution_count": 10,
   "metadata": {},
   "outputs": [
    {
     "name": "stdout",
     "output_type": "stream",
     "text": [
      "Using f_regression:\n",
      "  Final variables: 5\n",
      "  List of final variables: ['volatile acidity' 'chlorides' 'total sulfur dioxide' 'density' 'alcohol']\n"
     ]
    }
   ],
   "source": [
    "# Create a f_regression SelectPercentile\n",
    "var_sk = SelectPercentile(f_regression, percentile = 50) # the 50% best features\n",
    "features_sk = var_sk.fit_transform(features, target)\n",
    "\n",
    "# Print the results:\n",
    "print('Using f_regression:')\n",
    "print('  Final variables:', features_sk.shape[1])\n",
    "print('  List of final variables:', np.asarray(list(features))[var_sk.get_support()])"
   ]
  },
  {
   "cell_type": "code",
   "execution_count": 11,
   "metadata": {},
   "outputs": [
    {
     "name": "stdout",
     "output_type": "stream",
     "text": [
      "Using chi2:\n",
      "  Final variables: 5\n",
      "  List of final variables: ['volatile acidity' 'residual sugar' 'free sulfur dioxide'\n",
      " 'total sulfur dioxide' 'alcohol']\n"
     ]
    }
   ],
   "source": [
    "# Create a f_regression SelectPercentile\n",
    "var_sk = SelectPercentile(chi2, percentile = 50) # the 50% best features\n",
    "features_sk = var_sk.fit_transform(features, target)\n",
    "\n",
    "# Print the results:\n",
    "print('Using chi2:')\n",
    "print('  Final variables:', features_sk.shape[1])\n",
    "print('  List of final variables:', np.asarray(list(features))[var_sk.get_support()])\n"
   ]
  },
  {
   "cell_type": "markdown",
   "metadata": {
    "collapsed": true
   },
   "source": [
    "### IV - Information Value"
   ]
  },
  {
   "cell_type": "markdown",
   "metadata": {
    "collapsed": true
   },
   "source": [
    "The IV measures the classification capacity of the different independient variables in classification problems. As guiding approach, for selecting the variables we can use the following IV values:\n",
    "\n",
    "| IV value | Classification capacity |\n",
    "|----------|-------------------------|\n",
    "|  <0.02   | Very soft |\n",
    "| 0.02 to 0.1 | Soft |\n",
    "| 0.1 to 0.3 | Average |\n",
    "| 0.3 to 0.5 | Hard |\n",
    "| >0.5 | Very Hard |\n",
    "\n",
    "For use the IV is needed to have a categorical features. We are going to use the `credit-approval.csv` file for use the IV."
   ]
  },
  {
   "cell_type": "code",
   "execution_count": 12,
   "metadata": {
    "collapsed": true
   },
   "outputs": [],
   "source": [
    "import pandas as pd"
   ]
  },
  {
   "cell_type": "code",
   "execution_count": 13,
   "metadata": {},
   "outputs": [],
   "source": [
    "# Load data and remove null values\n",
    "data = pd.read_csv('data/credit-approval.csv', sep = ',')\n",
    "data.head()\n",
    "mask = data.applymap(lambda x : x in ['?'])\n",
    "data = data[-mask.any(axis=1)]\n",
    "\n",
    "# Separate the variables\n",
    "categoricals = ['V1', 'V4', 'V5', 'V6', 'V7', 'V9', 'V10', 'V11', 'V12', 'V13']\n",
    "numerics     = ['V2', 'V3', 'V8', 'V14', 'V15']\n",
    "target       = data['V16'] == '+'"
   ]
  },
  {
   "cell_type": "code",
   "execution_count": 14,
   "metadata": {},
   "outputs": [],
   "source": [
    "def getIV(data, categoricals, target) :\n",
    "    \n",
    "    result_IV = []\n",
    "\n",
    "    # For each categorical variable\n",
    "    for v_cat in categoricals :\n",
    "\n",
    "        # Get target, categorical values and categorical levels\n",
    "        var_target = array(target)\n",
    "        var_values = array(data[v_cat])\n",
    "        var_levels = unique(var_values)\n",
    "\n",
    "        # Get the values matrix of the categorical variable\n",
    "        mat_values = np.zeros(shape=(len(var_levels), 2))\n",
    "\n",
    "        for i in range(len(var_target)) :\n",
    "            # Get the position of each level\n",
    "            pos = 0\n",
    "            while ((pos < len(var_levels)) and (var_levels[pos] != var_values[i])) : \n",
    "                pos += 1\n",
    "\n",
    "            # Estimation of the number of values in each level\n",
    "            if var_target[i] :\n",
    "                mat_values[pos][0] += 1\n",
    "            else :\n",
    "                mat_values[pos][1] += 1\n",
    "\n",
    "            # Get the IV value\n",
    "            IV = 0\n",
    "            for j in range(len(var_levels)) :\n",
    "                if mat_values[j][0] > 0 and mat_values[j][1] > 0 :\n",
    "                    rt = mat_values[j][0] / (mat_values[j][0] + mat_values[j][1])\n",
    "                    rf = mat_values[j][1] / (mat_values[j][0] + mat_values[j][1])\n",
    "\n",
    "                    IV += (rt - rf) * np.log(rt / rf)\n",
    "\n",
    "        # Append the IV value\n",
    "        result_IV.append(IV)\n",
    "    \n",
    "    # Return result\n",
    "    return result_IV"
   ]
  },
  {
   "cell_type": "code",
   "execution_count": 15,
   "metadata": {},
   "outputs": [
    {
     "name": "stdout",
     "output_type": "stream",
     "text": [
      "The V1 feature has an IV: 0.0310557839282\n",
      "The V4 feature has an IV: 0.353312725336\n",
      "The V5 feature has an IV: 0.353312725336\n",
      "The V6 feature has an IV: 5.30149147134\n",
      "The V7 feature has an IV: 2.34839349885\n",
      "The V9 feature has an IV: 3.24769074169\n",
      "The V10 feature has an IV: 0.895478013341\n",
      "The V11 feature has an IV: 11.0569990916\n",
      "The V12 feature has an IV: 0.0423925791404\n",
      "The V13 feature has an IV: 0.411470398153\n"
     ]
    }
   ],
   "source": [
    "# Print the IV value\n",
    "IV = getIV(data, categoricals, target)\n",
    "\n",
    "for i in range(len(categoricals)) :\n",
    "    print('The', categoricals[i], 'feature has an IV:', IV[i])"
   ]
  },
  {
   "cell_type": "markdown",
   "metadata": {
    "collapsed": true
   },
   "source": [
    "With these results, we can say that the `V6`, `V7`, `V9` and `V11` features have a very hard classification capacity, while the `V4`, `V5` and `V13` have a hard."
   ]
  },
  {
   "cell_type": "markdown",
   "metadata": {
    "collapsed": true
   },
   "source": [
    "### VIF - Variance Inflation Factor"
   ]
  },
  {
   "cell_type": "markdown",
   "metadata": {
    "collapsed": true
   },
   "source": [
    "The multicollinearity in a independient features set impacts negatively to the models built with them. A solution of this problem is use the VIF which allows cuantify the intensity of multicollinearity. The VIF value increases according to the multicollinearity increases. The VIF values bigger than 5 are considered high and VIF values bigger than 10 are considered very high.\n",
    "\n",
    "The VIF value calculation can be implement like this:"
   ]
  },
  {
   "cell_type": "code",
   "execution_count": 16,
   "metadata": {
    "collapsed": true
   },
   "outputs": [],
   "source": [
    "def calculateVIF(data) :\n",
    "    from sklearn.linear_model import LinearRegression\n",
    "    import pandas as pd\n",
    "    \n",
    "    features = list(data.columns)\n",
    "    num_features = len(features)\n",
    "    \n",
    "    # Create the model and the result dataframe\n",
    "    model = LinearRegression()\n",
    "    result = pd.DataFrame(index = ['VIF'], columns = features)\n",
    "    result = result.fillna(0)\n",
    "    \n",
    "    # For each feature\n",
    "    for ite in range(num_features) :\n",
    "        x_features = features[:]\n",
    "        y_feature  = features[ite]\n",
    "        # Remove the feature (because it is the independient)\n",
    "        x_features.remove(y_feature)\n",
    "        \n",
    "        x = data[x_features]\n",
    "        y = data[y_feature]\n",
    "        \n",
    "        # Fit the model \n",
    "        model.fit(x, y)\n",
    "        # Calculate VIF\n",
    "        result[y_feature] = 1 / (1 - model.score(x, y))\n",
    "    \n",
    "    return result"
   ]
  },
  {
   "cell_type": "code",
   "execution_count": 17,
   "metadata": {},
   "outputs": [
    {
     "data": {
      "text/html": [
       "<div>\n",
       "<style>\n",
       "    .dataframe thead tr:only-child th {\n",
       "        text-align: right;\n",
       "    }\n",
       "\n",
       "    .dataframe thead th {\n",
       "        text-align: left;\n",
       "    }\n",
       "\n",
       "    .dataframe tbody tr th {\n",
       "        vertical-align: top;\n",
       "    }\n",
       "</style>\n",
       "<table border=\"1\" class=\"dataframe\">\n",
       "  <thead>\n",
       "    <tr style=\"text-align: right;\">\n",
       "      <th></th>\n",
       "      <th>fixed acidity</th>\n",
       "      <th>volatile acidity</th>\n",
       "      <th>citric acid</th>\n",
       "      <th>residual sugar</th>\n",
       "      <th>chlorides</th>\n",
       "      <th>free sulfur dioxide</th>\n",
       "      <th>total sulfur dioxide</th>\n",
       "      <th>density</th>\n",
       "      <th>pH</th>\n",
       "      <th>sulphates</th>\n",
       "      <th>alcohol</th>\n",
       "    </tr>\n",
       "  </thead>\n",
       "  <tbody>\n",
       "    <tr>\n",
       "      <th>VIF</th>\n",
       "      <td>2.691435</td>\n",
       "      <td>1.141156</td>\n",
       "      <td>1.165215</td>\n",
       "      <td>12.644064</td>\n",
       "      <td>1.236822</td>\n",
       "      <td>1.78788</td>\n",
       "      <td>2.239233</td>\n",
       "      <td>28.232546</td>\n",
       "      <td>2.196362</td>\n",
       "      <td>1.13854</td>\n",
       "      <td>7.706957</td>\n",
       "    </tr>\n",
       "  </tbody>\n",
       "</table>\n",
       "</div>"
      ],
      "text/plain": [
       "     fixed acidity  volatile acidity  citric acid  residual sugar  chlorides  \\\n",
       "VIF       2.691435          1.141156     1.165215       12.644064   1.236822   \n",
       "\n",
       "     free sulfur dioxide  total sulfur dioxide    density        pH  \\\n",
       "VIF              1.78788              2.239233  28.232546  2.196362   \n",
       "\n",
       "     sulphates   alcohol  \n",
       "VIF    1.13854  7.706957  "
      ]
     },
     "execution_count": 17,
     "metadata": {},
     "output_type": "execute_result"
    }
   ],
   "source": [
    "VIF = calculateVIF(features)\n",
    "VIF"
   ]
  },
  {
   "cell_type": "markdown",
   "metadata": {
    "collapsed": true
   },
   "source": [
    "Once VIF method has been defined, a procedure which remove the features is needed. This procedure is the following: "
   ]
  },
  {
   "cell_type": "code",
   "execution_count": 18,
   "metadata": {
    "collapsed": true
   },
   "outputs": [],
   "source": [
    "# data    -> data\n",
    "# max_VIF -> maximum VIF value to follow removing features\n",
    "def selectDataUsingVIF(data, max_VIF = 5) :\n",
    "    # Copy data\n",
    "    result = data.copy(deep = True)\n",
    "    \n",
    "    VIF = calculateVIF(result)\n",
    "    \n",
    "    # While the VIF value is bigger than max_VIF:\n",
    "    while VIF.as_matrix().max() > max_VIF :\n",
    "        # Get the column of the feature which gets the maximum VIF\n",
    "        col_max = np.where(VIF == VIF.as_matrix().max())[1][0]\n",
    "        \n",
    "        # Remove this feature of the data\n",
    "        features = list(result.columns)\n",
    "        features.remove(features[col_max])\n",
    "        result = result[features]\n",
    "        \n",
    "        # Again, calculate VIF\n",
    "        VIF = calculateVIF(result)\n",
    "\n",
    "    # Return the result\n",
    "    return result"
   ]
  },
  {
   "cell_type": "code",
   "execution_count": 19,
   "metadata": {},
   "outputs": [
    {
     "data": {
      "text/html": [
       "<div>\n",
       "<style>\n",
       "    .dataframe thead tr:only-child th {\n",
       "        text-align: right;\n",
       "    }\n",
       "\n",
       "    .dataframe thead th {\n",
       "        text-align: left;\n",
       "    }\n",
       "\n",
       "    .dataframe tbody tr th {\n",
       "        vertical-align: top;\n",
       "    }\n",
       "</style>\n",
       "<table border=\"1\" class=\"dataframe\">\n",
       "  <thead>\n",
       "    <tr style=\"text-align: right;\">\n",
       "      <th></th>\n",
       "      <th>fixed acidity</th>\n",
       "      <th>volatile acidity</th>\n",
       "      <th>citric acid</th>\n",
       "      <th>residual sugar</th>\n",
       "      <th>chlorides</th>\n",
       "      <th>free sulfur dioxide</th>\n",
       "      <th>total sulfur dioxide</th>\n",
       "      <th>pH</th>\n",
       "      <th>sulphates</th>\n",
       "      <th>alcohol</th>\n",
       "    </tr>\n",
       "  </thead>\n",
       "  <tbody>\n",
       "    <tr>\n",
       "      <th>0</th>\n",
       "      <td>7.0</td>\n",
       "      <td>0.27</td>\n",
       "      <td>0.36</td>\n",
       "      <td>20.7</td>\n",
       "      <td>0.045</td>\n",
       "      <td>45.0</td>\n",
       "      <td>170.0</td>\n",
       "      <td>3.00</td>\n",
       "      <td>0.45</td>\n",
       "      <td>8.8</td>\n",
       "    </tr>\n",
       "    <tr>\n",
       "      <th>1</th>\n",
       "      <td>6.3</td>\n",
       "      <td>0.30</td>\n",
       "      <td>0.34</td>\n",
       "      <td>1.6</td>\n",
       "      <td>0.049</td>\n",
       "      <td>14.0</td>\n",
       "      <td>132.0</td>\n",
       "      <td>3.30</td>\n",
       "      <td>0.49</td>\n",
       "      <td>9.5</td>\n",
       "    </tr>\n",
       "    <tr>\n",
       "      <th>2</th>\n",
       "      <td>8.1</td>\n",
       "      <td>0.28</td>\n",
       "      <td>0.40</td>\n",
       "      <td>6.9</td>\n",
       "      <td>0.050</td>\n",
       "      <td>30.0</td>\n",
       "      <td>97.0</td>\n",
       "      <td>3.26</td>\n",
       "      <td>0.44</td>\n",
       "      <td>10.1</td>\n",
       "    </tr>\n",
       "    <tr>\n",
       "      <th>3</th>\n",
       "      <td>7.2</td>\n",
       "      <td>0.23</td>\n",
       "      <td>0.32</td>\n",
       "      <td>8.5</td>\n",
       "      <td>0.058</td>\n",
       "      <td>47.0</td>\n",
       "      <td>186.0</td>\n",
       "      <td>3.19</td>\n",
       "      <td>0.40</td>\n",
       "      <td>9.9</td>\n",
       "    </tr>\n",
       "    <tr>\n",
       "      <th>4</th>\n",
       "      <td>7.2</td>\n",
       "      <td>0.23</td>\n",
       "      <td>0.32</td>\n",
       "      <td>8.5</td>\n",
       "      <td>0.058</td>\n",
       "      <td>47.0</td>\n",
       "      <td>186.0</td>\n",
       "      <td>3.19</td>\n",
       "      <td>0.40</td>\n",
       "      <td>9.9</td>\n",
       "    </tr>\n",
       "  </tbody>\n",
       "</table>\n",
       "</div>"
      ],
      "text/plain": [
       "   fixed acidity  volatile acidity  citric acid  residual sugar  chlorides  \\\n",
       "0            7.0              0.27         0.36            20.7      0.045   \n",
       "1            6.3              0.30         0.34             1.6      0.049   \n",
       "2            8.1              0.28         0.40             6.9      0.050   \n",
       "3            7.2              0.23         0.32             8.5      0.058   \n",
       "4            7.2              0.23         0.32             8.5      0.058   \n",
       "\n",
       "   free sulfur dioxide  total sulfur dioxide    pH  sulphates  alcohol  \n",
       "0                 45.0                 170.0  3.00       0.45      8.8  \n",
       "1                 14.0                 132.0  3.30       0.49      9.5  \n",
       "2                 30.0                  97.0  3.26       0.44     10.1  \n",
       "3                 47.0                 186.0  3.19       0.40      9.9  \n",
       "4                 47.0                 186.0  3.19       0.40      9.9  "
      ]
     },
     "execution_count": 19,
     "metadata": {},
     "output_type": "execute_result"
    }
   ],
   "source": [
    "selectDataUsingVIF(features).head()"
   ]
  },
  {
   "cell_type": "code",
   "execution_count": 20,
   "metadata": {},
   "outputs": [
    {
     "data": {
      "text/html": [
       "<div>\n",
       "<style>\n",
       "    .dataframe thead tr:only-child th {\n",
       "        text-align: right;\n",
       "    }\n",
       "\n",
       "    .dataframe thead th {\n",
       "        text-align: left;\n",
       "    }\n",
       "\n",
       "    .dataframe tbody tr th {\n",
       "        vertical-align: top;\n",
       "    }\n",
       "</style>\n",
       "<table border=\"1\" class=\"dataframe\">\n",
       "  <thead>\n",
       "    <tr style=\"text-align: right;\">\n",
       "      <th></th>\n",
       "      <th>fixed acidity</th>\n",
       "      <th>volatile acidity</th>\n",
       "      <th>citric acid</th>\n",
       "      <th>residual sugar</th>\n",
       "      <th>chlorides</th>\n",
       "      <th>free sulfur dioxide</th>\n",
       "      <th>total sulfur dioxide</th>\n",
       "      <th>pH</th>\n",
       "      <th>sulphates</th>\n",
       "      <th>alcohol</th>\n",
       "    </tr>\n",
       "  </thead>\n",
       "  <tbody>\n",
       "    <tr>\n",
       "      <th>VIF</th>\n",
       "      <td>1.356128</td>\n",
       "      <td>1.128298</td>\n",
       "      <td>1.159884</td>\n",
       "      <td>1.435215</td>\n",
       "      <td>1.203645</td>\n",
       "      <td>1.744627</td>\n",
       "      <td>2.15317</td>\n",
       "      <td>1.330912</td>\n",
       "      <td>1.056637</td>\n",
       "      <td>1.647117</td>\n",
       "    </tr>\n",
       "  </tbody>\n",
       "</table>\n",
       "</div>"
      ],
      "text/plain": [
       "     fixed acidity  volatile acidity  citric acid  residual sugar  chlorides  \\\n",
       "VIF       1.356128          1.128298     1.159884        1.435215   1.203645   \n",
       "\n",
       "     free sulfur dioxide  total sulfur dioxide        pH  sulphates   alcohol  \n",
       "VIF             1.744627               2.15317  1.330912   1.056637  1.647117  "
      ]
     },
     "execution_count": 20,
     "metadata": {},
     "output_type": "execute_result"
    }
   ],
   "source": [
    "calculateVIF(selectDataUsingVIF(features))"
   ]
  },
  {
   "cell_type": "markdown",
   "metadata": {
    "collapsed": true
   },
   "source": [
    "### Stepwise"
   ]
  },
  {
   "cell_type": "code",
   "execution_count": 21,
   "metadata": {
    "collapsed": true
   },
   "outputs": [],
   "source": [
    "import pandas as pd\n",
    "\n",
    "# Read file\n",
    "data = pd.read_csv('data/winequality-white.csv', sep = ';')\n",
    "\n",
    "# Remove the quality feature:\n",
    "target = 'quality'\n",
    "features = list(data.columns)\n",
    "features.remove(target)\n",
    "\n",
    "x = data[features]\n",
    "y = data[target]"
   ]
  },
  {
   "cell_type": "code",
   "execution_count": 22,
   "metadata": {},
   "outputs": [
    {
     "name": "stdout",
     "output_type": "stream",
     "text": [
      "In the step 0 the variable  alcohol  has been inserted with an error: 0.797128462875\n",
      "In the step 1 the variable  volatile acidity  has been inserted with an error: 0.771885562801\n",
      "In the step 2 the variable  residual sugar  has been inserted with an error: 0.762535563398\n",
      "In the step 3 the variable  free sulfur dioxide  has been inserted with an error: 0.759718668181\n",
      "In the step 4 the variable  density  has been inserted with an error: 0.757155814934\n",
      "In the step 5 the variable  pH  has been inserted with an error: 0.753922382042\n",
      "In the step 6 the variable  sulphates  has been inserted with an error: 0.751350130086\n",
      "In the step 7 the variable  fixed acidity  has been inserted with an error: 0.750497776187\n",
      "In the step 8 the variable  total sulfur dioxide  has been inserted with an error: 0.750454216295\n",
      "In the step 9 the variable  chlorides  has been inserted with an error: 0.750440001069\n",
      "In the step 10 the variable  citric acid  has been inserted with an error: 0.750435915311\n"
     ]
    }
   ],
   "source": [
    "from sklearn.linear_model import LinearRegression\n",
    "\n",
    "# Model for make the adjustments \n",
    "model = LinearRegression()\n",
    "\n",
    "# Variable for store the index of the used attributes list\n",
    "feature_order =  []\n",
    "feature_error = []\n",
    "\n",
    "# For each feature \n",
    "for i in range(len(features)):\n",
    "    # Get the indices which have not been used\n",
    "    idx_try = [val for val in range(len(features)) if val not in feature_order]\n",
    "    iter_error = []\n",
    "\n",
    "    # for each index\n",
    "    for i_try in idx_try:\n",
    "        useRow = feature_order[:]\n",
    "        useRow.append(i_try)\n",
    "\n",
    "        use = x[x.columns[useRow]]\n",
    "\n",
    "        model.fit(use, y)\n",
    "        rmsError = numpy.linalg.norm((y - model.predict(use)), 2)/sqrt(len(y))\n",
    "        iter_error.append(rmsError)\n",
    "\n",
    "    pos_best = numpy.argmin(iter_error)\n",
    "    feature_order.append(idx_try[pos_best])\n",
    "    feature_error.append(iter_error[pos_best])\n",
    "\n",
    "for i in range(len(features)):\n",
    "    print(\"In the step\", i, \"the variable \", \n",
    "        features[feature_order[i]], \" has been inserted with an error:\", feature_error[i])"
   ]
  },
  {
   "cell_type": "code",
   "execution_count": 23,
   "metadata": {},
   "outputs": [
    {
     "data": {
      "text/plain": [
       "Text(0,0.5,'Error (RMS)')"
      ]
     },
     "execution_count": 23,
     "metadata": {},
     "output_type": "execute_result"
    },
    {
     "data": {
      "image/png": "[encoded data removed]",
      "text/plain": [
       "<matplotlib.figure.Figure at 0x7f7f7fcd6d68>"
      ]
     },
     "metadata": {
      "image/png": {
       "height": 263,
       "width": 393
      }
     },
     "output_type": "display_data"
    }
   ],
   "source": [
    "plot(range(len(features)), feature_error, 'r-', label = 'Datos')\n",
    "\n",
    "xlabel('Number of attributes')\n",
    "ylabel('Error (RMS)')"
   ]
  },
  {
   "cell_type": "markdown",
   "metadata": {
    "collapsed": true
   },
   "source": [
    "### Lasso Regression "
   ]
  },
  {
   "cell_type": "code",
   "execution_count": 24,
   "metadata": {},
   "outputs": [
    {
     "name": "stdout",
     "output_type": "stream",
     "text": [
      "[-0.         -0.          0.          0.00702328 -0.          0.00808195\n",
      " -0.0027108  -0.          0.          0.          0.24638052]\n"
     ]
    }
   ],
   "source": [
    "from sklearn.linear_model import Lasso\n",
    "\n",
    "lasso = Lasso(alpha = 0.1)\n",
    "lasso.fit(x, y)\n",
    "\n",
    "print(lasso.coef_)"
   ]
  }
 ],
 "metadata": {
  "kernelspec": {
   "display_name": "Python 3",
   "language": "python",
   "name": "python3"
  },
  "language_info": {
   "codemirror_mode": {
    "name": "ipython",
    "version": 3
   },
   "file_extension": ".py",
   "mimetype": "text/x-python",
   "name": "python",
   "nbconvert_exporter": "python",
   "pygments_lexer": "ipython3",
   "version": "3.6.3"
  }
 },
 "nbformat": 4,
 "nbformat_minor": 2
}
