{
 "cells": [
  {
   "cell_type": "markdown",
   "metadata": {},
   "source": [
    "# Association rule learning"
   ]
  },
  {
   "cell_type": "code",
   "execution_count": 1,
   "metadata": {
    "scrolled": true
   },
   "outputs": [
    {
     "name": "stdout",
     "output_type": "stream",
     "text": [
      "Using matplotlib backend: Qt5Agg\n",
      "Populating the interactive namespace from numpy and matplotlib\n"
     ]
    }
   ],
   "source": [
    "%pylab\n",
    "%matplotlib inline\n",
    "\n",
    "%config InlineBackend.figure_format = 'retina'\n",
    "\n",
    "import numpy as np"
   ]
  },
  {
   "cell_type": "markdown",
   "metadata": {},
   "source": [
    "### Apriori algorithm "
   ]
  },
  {
   "cell_type": "markdown",
   "metadata": {},
   "source": [
    "Apriori algorithm is not implemented on `scikit-learn`. For that, we have to use another implementation: here are going to use the Everaldo Aguiar & Reid Johnson implementation (http://nbviewer.jupyter.org/github/cse40647/cse40647/blob/sp.14/10%20-%20Apriori.ipynb) and it is in the `apriori.py` file.\n",
    "\n",
    "So, first, let's import `apriori` algorithm:"
   ]
  },
  {
   "cell_type": "code",
   "execution_count": 2,
   "metadata": {
    "collapsed": true
   },
   "outputs": [],
   "source": [
    "import apriori"
   ]
  },
  {
   "cell_type": "markdown",
   "metadata": {},
   "source": [
    "For using that algorithm, we are going to use the following market basket dataset:"
   ]
  },
  {
   "cell_type": "code",
   "execution_count": 3,
   "metadata": {
    "collapsed": true
   },
   "outputs": [],
   "source": [
    "dataset = [['Pan', 'Leche'],\n",
    "           ['Pan', 'Pañales', 'Cerveza', 'Huevos'],\n",
    "           ['Leche', 'Pañales', 'Cerveza', 'Cola'],\n",
    "           ['Leche', 'Pan', 'Pañales', 'Cerveza'],\n",
    "           ['Pañales', 'Pan', 'Leche', 'Cola'],\n",
    "           ['Pan', 'Leche', 'Pañales'],\n",
    "           ['Pan', 'Cola']]"
   ]
  },
  {
   "cell_type": "code",
   "execution_count": 4,
   "metadata": {},
   "outputs": [
    {
     "name": "stdout",
     "output_type": "stream",
     "text": [
      "{Pañales}:  sup = 0.714\n",
      "{Pan}:  sup = 0.857\n",
      "{Leche}:  sup = 0.714\n",
      "{Leche, Pañales}:  sup = 0.571\n",
      "{Pan, Pañales}:  sup = 0.571\n",
      "{Pan, Leche}:  sup = 0.571\n"
     ]
    }
   ],
   "source": [
    "# Let's apply apriori algorithm:\n",
    "F, support = apriori.apriori(dataset, min_support = 0.55, verbose = True)"
   ]
  },
  {
   "cell_type": "code",
   "execution_count": 5,
   "metadata": {},
   "outputs": [
    {
     "name": "stdout",
     "output_type": "stream",
     "text": [
      "{Pañales} ---> {Leche}:  conf = 0.8, sup = 0.571\n",
      "{Leche} ---> {Pañales}:  conf = 0.8, sup = 0.571\n",
      "{Pañales} ---> {Pan}:  conf = 0.8, sup = 0.571\n",
      "{Leche} ---> {Pan}:  conf = 0.8, sup = 0.571\n"
     ]
    }
   ],
   "source": [
    "# Let's generate the rules:\n",
    "H = apriori.generate_rules(F, support, min_confidence = 0.75, verbose = True)"
   ]
  },
  {
   "cell_type": "markdown",
   "metadata": {},
   "source": [
    "### FP-Growth algorithm "
   ]
  },
  {
   "cell_type": "markdown",
   "metadata": {},
   "source": [
    "FG-Growth algorithm is enabled on the `pyfpgrowth` library, but it have to installed before its use:\n",
    "\n",
    "    conda install pyfpgrowth\n",
    "    "
   ]
  },
  {
   "cell_type": "code",
   "execution_count": 6,
   "metadata": {},
   "outputs": [],
   "source": [
    "import pyfpgrowth"
   ]
  },
  {
   "cell_type": "code",
   "execution_count": 7,
   "metadata": {},
   "outputs": [
    {
     "data": {
      "text/plain": [
       "{('Leche',): 5,\n",
       " ('Leche', 'Pan'): 4,\n",
       " ('Pan',): 6,\n",
       " ('Pan', 'Pañales'): 4,\n",
       " ('Pañales',): 5}"
      ]
     },
     "execution_count": 7,
     "metadata": {},
     "output_type": "execute_result"
    }
   ],
   "source": [
    "# Let's apply FG-Growth algorithm\n",
    "patterns = pyfpgrowth.find_frequent_patterns(dataset, \n",
    "                                             support_threshold = 4) #number minimum of appareances on dataset\n",
    "patterns"
   ]
  },
  {
   "cell_type": "code",
   "execution_count": 8,
   "metadata": {},
   "outputs": [
    {
     "data": {
      "text/plain": [
       "{('Leche',): (('Pan',), 0.8), ('Pañales',): (('Pan',), 0.8)}"
      ]
     },
     "execution_count": 8,
     "metadata": {},
     "output_type": "execute_result"
    }
   ],
   "source": [
    "# Let's generate the rules:\n",
    "rules = pyfpgrowth.generate_association_rules(patterns, confidence_threshold = 0.75)\n",
    "rules"
   ]
  }
 ],
 "metadata": {
  "kernelspec": {
   "display_name": "Python 3",
   "language": "python",
   "name": "python3"
  },
  "language_info": {
   "codemirror_mode": {
    "name": "ipython",
    "version": 3
   },
   "file_extension": ".py",
   "mimetype": "text/x-python",
   "name": "python",
   "nbconvert_exporter": "python",
   "pygments_lexer": "ipython3",
   "version": "3.6.3"
  }
 },
 "nbformat": 4,
 "nbformat_minor": 2
}
