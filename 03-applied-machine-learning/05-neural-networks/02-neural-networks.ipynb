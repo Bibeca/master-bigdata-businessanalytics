{
 "cells": [
  {
   "cell_type": "markdown",
   "metadata": {},
   "source": [
    "# Neural networks "
   ]
  },
  {
   "cell_type": "code",
   "execution_count": 1,
   "metadata": {
    "scrolled": true
   },
   "outputs": [
    {
     "name": "stdout",
     "output_type": "stream",
     "text": [
      "Using matplotlib backend: Qt5Agg\n",
      "Populating the interactive namespace from numpy and matplotlib\n"
     ]
    }
   ],
   "source": [
    "%pylab\n",
    "%matplotlib inline\n",
    "\n",
    "%config InlineBackend.figure_format = 'retina'\n",
    "\n",
    "import numpy as np"
   ]
  },
  {
   "cell_type": "markdown",
   "metadata": {},
   "source": [
    "### Import Theano "
   ]
  },
  {
   "cell_type": "code",
   "execution_count": 2,
   "metadata": {},
   "outputs": [
    {
     "name": "stdout",
     "output_type": "stream",
     "text": [
      "env: MKL_THREADING_LAYER=GNU\n"
     ]
    }
   ],
   "source": [
    "env MKL_THREADING_LAYER=GNU"
   ]
  },
  {
   "cell_type": "code",
   "execution_count": 3,
   "metadata": {
    "collapsed": true
   },
   "outputs": [],
   "source": [
    "import theano\n",
    "import theano.tensor as T"
   ]
  },
  {
   "cell_type": "markdown",
   "metadata": {},
   "source": [
    "### Perceptron implementation with `Theano`"
   ]
  },
  {
   "cell_type": "markdown",
   "metadata": {},
   "source": [
    "After studing `Theano`'s syntax, we are going to use it to define a neural network. At first, let's define a neuron which calculates the `AND` logic function. The neuron's model is:\n",
    "\n",
    "<img src=\"img/perceptron-model.png\" alt=\"Drawing\" style=\"width: 200px;\"/>\n",
    "\n",
    "Being: $x$ the input vector and $w$ the weight vector, and $b$ the bias."
   ]
  },
  {
   "cell_type": "code",
   "execution_count": 4,
   "metadata": {},
   "outputs": [
    {
     "name": "stdout",
     "output_type": "stream",
     "text": [
      "The result for [0, 0] is 0\n",
      "The result for [0, 1] is 0\n",
      "The result for [1, 0] is 0\n",
      "The result for [1, 1] is 1\n"
     ]
    }
   ],
   "source": [
    "# Definition of the symbolic variables\n",
    "x = T.vector('x')\n",
    "\n",
    "# Definition of shared variables\n",
    "w = theano.shared(np.array([1, 1], dtype = theano.config.floatX))\n",
    "b = theano.shared(-1.5)\n",
    "\n",
    "# Definition of neuron\n",
    "z = T.dot(x, w) + b\n",
    "a = T.switch(T.lt(z, 0), 0, 1)\n",
    "\n",
    "# Creation of the function\n",
    "neuron = theano.function([x], a)\n",
    "\n",
    "# Input dataset\n",
    "inputs = [[0, 0], [0, 1], [1, 0], [1, 1]]\n",
    "\n",
    "# Let's iterate above the inputs\n",
    "for i in range(len(inputs)) :\n",
    "    t = inputs[i]\n",
    "    out = neuron(t)\n",
    "    \n",
    "    print('The result for [%d, %d] is %d' % (t[0], t[1], out))"
   ]
  },
  {
   "cell_type": "markdown",
   "metadata": {},
   "source": [
    "### Types of neuron "
   ]
  },
  {
   "cell_type": "markdown",
   "metadata": {},
   "source": [
    "There are serveral kind of neurons, and `Theano` gives its implementation on `nnet` library. Here, there are some of them: \n",
    "\n",
    "- sigmoid: $$a(z) = \\frac{1}{1 + e^{-z}}$$\n",
    "- softplus: $$a(z) = \\log_e{(1 + e^z)}$$\n",
    "- softmax: $$a_{ij}(z) = \\frac{e^{z_{ij}}}{\\sum_k{e^{z_{ik}}}}$$\n",
    "- softsign: $$a(z) = \\frac{1}{1 + |z|}$$"
   ]
  },
  {
   "cell_type": "markdown",
   "metadata": {
    "collapsed": true
   },
   "source": [
    "### Backpropagation "
   ]
  },
  {
   "cell_type": "markdown",
   "metadata": {},
   "source": [
    "For trainning the neural network, we need an effort function. We can implement this function, but `Theano` has some of them on `nnet` library. However, we are going to use the cross entropy function given on `T.nnet.binary_crossentropy()` and its definition is:\n",
    "\n",
    "$$ J(z) = - \\sum_{i=1}^{n}{(a_i * \\log{(a(z_i))} + (1 - a_i) * \\log{(1 - a(z_i)})} $$\n",
    "\n",
    "Now, we are going to use this effort function to train a neural network:"
   ]
  },
  {
   "cell_type": "code",
   "execution_count": 5,
   "metadata": {
    "collapsed": true
   },
   "outputs": [],
   "source": [
    "# Let's define functions for init the weights the random way:\n",
    "def floatX(X):\n",
    "    return np.asarray(X, dtype = theano.config.floatX)\n",
    "\n",
    "def init_weights(shape):\n",
    "    return theano.shared(floatX(np.random.randn(*shape) * 0.01))"
   ]
  },
  {
   "cell_type": "code",
   "execution_count": 6,
   "metadata": {
    "collapsed": true
   },
   "outputs": [],
   "source": [
    "# Seed\n",
    "rng = np.random.RandomState(1)\n",
    "\n",
    "# Definition of symbolics variables\n",
    "x = T.matrix('x')\n",
    "w = init_weights((2,)) # A vector with 2 values\n",
    "b = theano.shared(1.0)\n",
    "learning_rate = 0.01\n",
    "\n",
    "# Definition of neuron\n",
    "z = T.dot(x, w) + b\n",
    "a = T.nnet.sigmoid(z)\n",
    "\n",
    "# Definition of effort function\n",
    "a_hat = T.vector('a_hat')\n",
    "cost = T.nnet.binary_crossentropy(a, a_hat).sum()\n",
    "\n",
    "# Effort function's gradient\n",
    "dw, db = T.grad(cost, [w, b])\n",
    "\n",
    "# Train function's definition\n",
    "train = theano.function(inputs = [x, a_hat],\n",
    "                        outputs = [a, cost],\n",
    "                        updates = [[w, w - learning_rate * dw], [b, b - learning_rate * db]])"
   ]
  },
  {
   "cell_type": "code",
   "execution_count": 7,
   "metadata": {},
   "outputs": [
    {
     "name": "stdout",
     "output_type": "stream",
     "text": [
      "The neurnal network results are:\n",
      "The result for [0, 0] is 0.00\n",
      "The result for [0, 1] is 0.05\n",
      "The result for [1, 0] is 0.05\n",
      "The result for [1, 1] is 0.93\n",
      "\n",
      "The w vector is [5.55, 5.55]\n",
      "The b vector is -8.50\n"
     ]
    },
    {
     "data": {
      "text/plain": [
       "[<matplotlib.lines.Line2D at 0x7fbcf9ff0860>]"
      ]
     },
     "execution_count": 7,
     "metadata": {},
     "output_type": "execute_result"
    },
    {
     "data": {
      "image/png": "[encoded data removed]",
      "text/plain": [
       "<matplotlib.figure.Figure at 0x7fbcf8c1d3c8>"
      ]
     },
     "metadata": {
      "image/png": {
       "height": 250,
       "width": 373
      }
     },
     "output_type": "display_data"
    }
   ],
   "source": [
    "## Train dataset\n",
    "inputs = [[0, 0], [0, 1], [1, 0], [1, 1]]\n",
    "outputs = [0,0,0,1]\n",
    "\n",
    "# Let's iterate 10.000 times above train dataset\n",
    "cost = []\n",
    "for iteration in range(10000) :\n",
    "    pred, cost_iter = train(inputs, outputs)\n",
    "    # Append the cost. Don't append the pred value because we only want the last value\n",
    "    cost.append(cost_iter)\n",
    "    \n",
    "# Print the results\n",
    "print('The neurnal network results are:')\n",
    "for i in range(len(inputs)) :\n",
    "    print('The result for [%d, %d] is %.2f' % (inputs[i][0], inputs[i][1], pred[i]))\n",
    "    \n",
    "# Print the results of weights and bias\n",
    "print()\n",
    "print('The w vector is [%.2f, %.2f]' % (w.get_value()[0], w.get_value()[1]))\n",
    "print('The b vector is %.2f' % (b.get_value()))\n",
    "\n",
    "# Plot the effort function according to number of iterations\n",
    "plt.plot(cost)"
   ]
  },
  {
   "cell_type": "markdown",
   "metadata": {
    "collapsed": true
   },
   "source": [
    "### Neural network with two layers "
   ]
  },
  {
   "cell_type": "markdown",
   "metadata": {
    "collapsed": true
   },
   "source": [
    "Now, we are going to implement a neural network with two layers. In the first one, let's use two neurons and in the second one, one neuron. The model of this neural network is:\n",
    "\n",
    "<img src=\"img/neural-network-two-layers-model.png\" alt=\"Drawing\" style=\"width: 400px;\"/>\n",
    "\n",
    "With this neural network model, we are going to train it for `XNOR` logic function with the following results:\n",
    "\n",
    "X1 | X2 | out\n",
    "-- | -- | --\n",
    "0 | 0 | 1\n",
    "0 | 1 | 0\n",
    "1 | 0 | 0\n",
    "1 | 1 | 1"
   ]
  },
  {
   "cell_type": "code",
   "execution_count": 8,
   "metadata": {
    "collapsed": true
   },
   "outputs": [],
   "source": [
    "# Let's define functions for init the weights the random way:\n",
    "def floatX(X):\n",
    "    return np.asarray(X, dtype = theano.config.floatX)\n",
    "\n",
    "def init_weights(shape):\n",
    "    return theano.shared(floatX(np.random.randn(*shape) * 0.01))"
   ]
  },
  {
   "cell_type": "code",
   "execution_count": 9,
   "metadata": {
    "collapsed": true
   },
   "outputs": [],
   "source": [
    "# Seed\n",
    "rng = np.random.RandomState(1)\n",
    "\n",
    "# Let's define the symbolics variables\n",
    "x = T.matrix('x')\n",
    "w1 = init_weights((2,))\n",
    "w2 = init_weights((2,))\n",
    "w3 = init_weights((2,))\n",
    "b1 = theano.shared(1.)\n",
    "b2 = theano.shared(1.)\n",
    "learning_rate = 0.1\n",
    "\n",
    "# Let's define the neurons and its relationships\n",
    "a1 = T.nnet.sigmoid(T.dot(x, w1) - b1)\n",
    "a2 = T.nnet.sigmoid(T.dot(x, w2) - b1)\n",
    "# Let's join the output of the first neurons for input the last neuron\n",
    "x2 = T.stack([a1, a2], axis = 1)\n",
    "a3 = T.nnet.sigmoid(T.dot(x2, w3 - b2))\n",
    "\n",
    "# Let's define the effort function and its gradient\n",
    "a_hat = T.vector('a_hat')\n",
    "cost = T.nnet.binary_crossentropy(a3, a_hat).sum()\n",
    "dw1, dw2, dw3, db1, db2 = T.grad(cost, [w1, w2, w3, b1, b2])\n",
    "\n",
    "# Let's define the train function\n",
    "train = theano.function(inputs = [x, a_hat],\n",
    "                        outputs = [a3, cost],\n",
    "                        updates = [\n",
    "                            [w1, w1 - learning_rate * dw1],\n",
    "                            [w2, w2 - learning_rate * dw2],\n",
    "                            [w3, w3 - learning_rate * dw3],\n",
    "                            [b1, b1 - learning_rate * db1],\n",
    "                            [b2, b2 - learning_rate * db2]\n",
    "                        ])"
   ]
  },
  {
   "cell_type": "code",
   "execution_count": 10,
   "metadata": {},
   "outputs": [
    {
     "name": "stdout",
     "output_type": "stream",
     "text": [
      "The neurnal network results are:\n",
      "The result for [0, 0] is 1.00\n",
      "The result for [0, 1] is 0.00\n",
      "The result for [1, 0] is 0.00\n",
      "The result for [1, 1] is 0.50\n",
      "\n",
      "The w1 vector is [-9.00, -9.00]\n",
      "The w2 vector is [-13.53, -13.53]\n",
      "The w3 vector is [-12.56, 15.74]\n",
      "The b1 vector is -10.06\n",
      "The b2 vector is -2.17\n"
     ]
    },
    {
     "data": {
      "text/plain": [
       "[<matplotlib.lines.Line2D at 0x7fbcf66a1550>]"
      ]
     },
     "execution_count": 10,
     "metadata": {},
     "output_type": "execute_result"
    },
    {
     "data": {
      "image/png": "[encoded data removed]",
      "text/plain": [
       "<matplotlib.figure.Figure at 0x7fbcf9ef4a90>"
      ]
     },
     "metadata": {
      "image/png": {
       "height": 250,
       "width": 373
      }
     },
     "output_type": "display_data"
    }
   ],
   "source": [
    "## Train dataset\n",
    "inputs = [[0, 0], [0, 1], [1, 0], [1, 1]]\n",
    "outputs = [1, 0, 0, 1]\n",
    "\n",
    "# Let's iterate 50.000 times above train dataset\n",
    "cost = []\n",
    "for iteration in range(50000) :\n",
    "    pred, cost_iter = train(inputs, outputs)\n",
    "    # Append the cost. Don't append the pred value because we only want the last value\n",
    "    cost.append(cost_iter)\n",
    "    \n",
    "# Print the results\n",
    "print('The neurnal network results are:')\n",
    "for i in range(len(inputs)) :\n",
    "    print('The result for [%d, %d] is %.2f' % (inputs[i][0], inputs[i][1], pred[i]))\n",
    "    \n",
    "# Print the results of weights and bias\n",
    "print()\n",
    "print('The w1 vector is [%.2f, %.2f]' % (w1.get_value()[0], w1.get_value()[1]))\n",
    "print('The w2 vector is [%.2f, %.2f]' % (w2.get_value()[0], w2.get_value()[1]))\n",
    "print('The w3 vector is [%.2f, %.2f]' % (w3.get_value()[0], w3.get_value()[1]))\n",
    "print('The b1 vector is %.2f' % (b1.get_value()))\n",
    "print('The b2 vector is %.2f' % (b2.get_value()))\n",
    "\n",
    "# Plot the effort function according to number of iterations\n",
    "plt.plot(cost)"
   ]
  },
  {
   "cell_type": "markdown",
   "metadata": {
    "collapsed": true
   },
   "source": [
    "There is another way to make this neural network. This way is the following:"
   ]
  },
  {
   "cell_type": "code",
   "execution_count": 11,
   "metadata": {
    "collapsed": true
   },
   "outputs": [],
   "source": [
    "# Let's define functions for init the weights the random way:\n",
    "def floatX(X):\n",
    "    return np.asarray(X, dtype = theano.config.floatX)\n",
    "\n",
    "def init_weights(shape):\n",
    "    return theano.shared(floatX(np.random.randn(*shape) * 0.01))"
   ]
  },
  {
   "cell_type": "code",
   "execution_count": 12,
   "metadata": {
    "collapsed": true
   },
   "outputs": [],
   "source": [
    "# Seed\n",
    "rng = np.random.RandomState(1)\n",
    "\n",
    "# Symbolic variable \n",
    "x = T.matrix('x')\n",
    "learning_rate = 0.1\n",
    "\n",
    "# Bias\n",
    "b1 = theano.shared(1.)\n",
    "b2 = theano.shared(1.)\n",
    "\n",
    "# Random weights\n",
    "w1 = init_weights((2, 3)) # Three neurons with 2 inputs and 3 outputs\n",
    "w2 = init_weights((3, 1)) # One neuron with 3 inputs and 1 output\n",
    "\n",
    "\n",
    "# Let's define the neurons and its relationships\n",
    "a1 = T.nnet.sigmoid(T.dot(x, w1) - b1)  # First three neurons\n",
    "a2 = T.nnet.sigmoid(T.dot(a1, w2) - b2) # Last one neuron\n",
    "a3 = T.flatten(a2) # Flatten the result for having the same format that input\n",
    "\n",
    "# Let's define the effort function and its gradient\n",
    "a_hat = T.vector('a_hat')\n",
    "cost = T.nnet.binary_crossentropy(a3, a_hat).sum()\n",
    "dw1, dw2, db1, db2 = T.grad(cost, [w1, w2, b1, b2])\n",
    "\n",
    "# Let's define the train function\n",
    "train = theano.function(inputs = [x, a_hat],\n",
    "                        outputs = [a3, cost],\n",
    "                        updates = [\n",
    "                            [w1, w1 - learning_rate * dw1],\n",
    "                            [w2, w2 - learning_rate * dw2],\n",
    "                            [b1, b1 - learning_rate * db1],\n",
    "                            [b2, b2 - learning_rate * db2]\n",
    "                        ])"
   ]
  },
  {
   "cell_type": "code",
   "execution_count": 13,
   "metadata": {},
   "outputs": [
    {
     "name": "stdout",
     "output_type": "stream",
     "text": [
      "The neurnal network results are:\n",
      "The result for [0, 0] is 0.33\n",
      "The result for [0, 1] is 0.33\n",
      "The result for [1, 0] is 0.33\n",
      "The result for [1, 1] is 1.00\n"
     ]
    },
    {
     "data": {
      "text/plain": [
       "[<matplotlib.lines.Line2D at 0x7fbcf4be8be0>]"
      ]
     },
     "execution_count": 13,
     "metadata": {},
     "output_type": "execute_result"
    },
    {
     "data": {
      "image/png": "[encoded data removed]",
      "text/plain": [
       "<matplotlib.figure.Figure at 0x7fbcf88ef4a8>"
      ]
     },
     "metadata": {
      "image/png": {
       "height": 250,
       "width": 373
      }
     },
     "output_type": "display_data"
    }
   ],
   "source": [
    "## Train dataset\n",
    "inputs = [[0, 0], [0, 1], [1, 0], [1, 1]]\n",
    "outputs = [1, 0, 0, 1]\n",
    "\n",
    "# Let's iterate 50.000 times above train dataset\n",
    "cost = []\n",
    "for iteration in range(50000) :\n",
    "    pred, cost_iter = train(inputs, outputs)\n",
    "    # Append the cost. Don't append the pred value because we only want the last value\n",
    "    cost.append(cost_iter)\n",
    "    \n",
    "# Print the results\n",
    "print('The neurnal network results are:')\n",
    "for i in range(len(inputs)) :\n",
    "    print('The result for [%d, %d] is %.2f' % (inputs[i][0], inputs[i][1], pred[i]))\n",
    "    \n",
    "# Plot the effort function according to number of iterations\n",
    "plt.plot(cost)"
   ]
  }
 ],
 "metadata": {
  "kernelspec": {
   "display_name": "Python 3",
   "language": "python",
   "name": "python3"
  },
  "language_info": {
   "codemirror_mode": {
    "name": "ipython",
    "version": 3
   },
   "file_extension": ".py",
   "mimetype": "text/x-python",
   "name": "python",
   "nbconvert_exporter": "python",
   "pygments_lexer": "ipython3",
   "version": "3.6.3"
  }
 },
 "nbformat": 4,
 "nbformat_minor": 2
}
