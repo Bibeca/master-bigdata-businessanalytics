{
 "cells": [
  {
   "cell_type": "markdown",
   "metadata": {},
   "source": [
    "# Practical case - XOR logic"
   ]
  },
  {
   "cell_type": "code",
   "execution_count": 1,
   "metadata": {
    "scrolled": true
   },
   "outputs": [
    {
     "name": "stdout",
     "output_type": "stream",
     "text": [
      "Using matplotlib backend: Qt5Agg\n",
      "Populating the interactive namespace from numpy and matplotlib\n"
     ]
    }
   ],
   "source": [
    "%pylab\n",
    "%matplotlib inline\n",
    "\n",
    "%config InlineBackend.figure_format = 'retina'\n",
    "\n",
    "import numpy as np"
   ]
  },
  {
   "cell_type": "markdown",
   "metadata": {},
   "source": [
    "### Import Theano "
   ]
  },
  {
   "cell_type": "code",
   "execution_count": 2,
   "metadata": {},
   "outputs": [
    {
     "name": "stdout",
     "output_type": "stream",
     "text": [
      "env: MKL_THREADING_LAYER=GNU\n"
     ]
    }
   ],
   "source": [
    "env MKL_THREADING_LAYER=GNU"
   ]
  },
  {
   "cell_type": "code",
   "execution_count": 3,
   "metadata": {
    "collapsed": true
   },
   "outputs": [],
   "source": [
    "import theano\n",
    "import theano.tensor as T"
   ]
  },
  {
   "cell_type": "markdown",
   "metadata": {},
   "source": [
    "### Problem: Implement a XOR logic with a neuralnet"
   ]
  },
  {
   "cell_type": "markdown",
   "metadata": {},
   "source": [
    "The problem is implement the `XOR` logic function with three inputs with a neuralnet. This model have to reproduce this table:\n",
    "\n",
    "| Input 1\t| Input 2\t| Input 3\t| Output |\n",
    "|-----------|-----------|-----------|--------|\n",
    "| 0 | 0 | 0 | 0 |\n",
    "| 0\t| 0\t| 1\t| 1 |\n",
    "| 0\t| 1\t| 0\t| 1 |\n",
    "| 0\t| 1\t| 1\t| 0 |\n",
    "| 1\t| 0\t| 0\t| 1 |\n",
    "| 1\t| 0\t| 1\t| 0 |\n",
    "| 1\t| 1\t| 0\t| 0 |\n",
    "| 1\t| 1\t| 1\t| 1 |\n",
    "\n",
    "Let's implement this model:"
   ]
  },
  {
   "cell_type": "code",
   "execution_count": 4,
   "metadata": {
    "collapsed": true
   },
   "outputs": [],
   "source": [
    "# Let's define functions for init the weights the random way:\n",
    "def floatX(X):\n",
    "    return np.asarray(X, dtype = theano.config.floatX)\n",
    "\n",
    "def init_weights(shape):\n",
    "    return theano.shared(floatX(np.random.randn(*shape) * 1.5))"
   ]
  },
  {
   "cell_type": "code",
   "execution_count": 5,
   "metadata": {},
   "outputs": [],
   "source": [
    "# Definition of the symbolic variables\n",
    "X = T.matrix()\n",
    "Y = T.vector()\n",
    "learning_rate = 0.01\n",
    "\n",
    "# Bias\n",
    "b1 = theano.shared(1.)\n",
    "b2 = theano.shared(1.)\n",
    "\n",
    "# Random weights\n",
    "w1 = init_weights((3, 3)) # 3 neurons with 3 input each one\n",
    "w2 = init_weights((3, 1)) # 1 neuron with 3 inputs\n",
    "\n",
    "# Let's define the neurons and its relationships\n",
    "a1 = T.nnet.sigmoid(T.dot(X, w1) - b1)  # Three first neurons\n",
    "a2 = T.nnet.sigmoid(T.dot(a1, w2) - b2) # Last one neuron\n",
    "a3 = T.flatten(a2)                      # Flatten the result for having the same format that input\n",
    "\n",
    "# Let's define the effort function and its gradient\n",
    "cost = T.nnet.binary_crossentropy(a3, Y).sum()\n",
    "dw1, dw2, db1, db2 = T.grad(cost, [w1, w2, b1, b2])\n",
    "\n",
    "# Let's define the updates\n",
    "updates = [[w1, w1 - dw1 * learning_rate],\n",
    "           [w2, w2 - dw2 * learning_rate],\n",
    "           [b1, b1 - db1 * learning_rate],\n",
    "           [b2, b2 - db2 * learning_rate]]\n",
    "\n",
    "# Let's define the training function\n",
    "train = theano.function(inputs = [X, Y],\n",
    "                        outputs = [a3, cost],\n",
    "                        updates = updates)"
   ]
  },
  {
   "cell_type": "markdown",
   "metadata": {},
   "source": [
    "Let's training the model:"
   ]
  },
  {
   "cell_type": "code",
   "execution_count": 6,
   "metadata": {},
   "outputs": [
    {
     "name": "stdout",
     "output_type": "stream",
     "text": [
      "The neurnal network results are:\n",
      "The result for [0, 0, 0] is 0.0032\n",
      "The result for [0, 1, 0] is 0.9950\n",
      "The result for [1, 0, 0] is 0.9942\n",
      "The result for [1, 1, 0] is 0.0047\n",
      "The result for [0, 0, 1] is 0.9942\n",
      "The result for [0, 1, 1] is 0.0047\n",
      "The result for [1, 0, 1] is 0.0077\n",
      "The result for [1, 1, 1] is 0.9984\n",
      "\n",
      "The vector w1.1 is [-5.94, 3.99, 9.30]\n",
      "The vector w1.2 is [8.19, -4.91, -7.91]\n",
      "The vector w1.3 is [-5.94, 3.99, 9.30]\n",
      "The vector w2 is [12.23, -13.74, 13.08]\n",
      "The bias b1 is [5.93]\n",
      "The bias b2 is [5.77]\n"
     ]
    },
    {
     "data": {
      "text/plain": [
       "[<matplotlib.lines.Line2D at 0x7f6e0eaa3a90>]"
      ]
     },
     "execution_count": 6,
     "metadata": {},
     "output_type": "execute_result"
    },
    {
     "data": {
      "image/png": "[encoded data removed]",
      "text/plain": [
       "<matplotlib.figure.Figure at 0x7f6e0be08588>"
      ]
     },
     "metadata": {
      "image/png": {
       "height": 250,
       "width": 364
      }
     },
     "output_type": "display_data"
    }
   ],
   "source": [
    "# Training dataset\n",
    "inputs = [[0, 0, 0], [0, 1, 0], [1, 0, 0], [1, 1, 0], [0, 0, 1], [0, 1, 1], [1, 0, 1], [1, 1, 1]]\n",
    "outputs = [0, 1, 1, 0, 1, 0, 0, 1]\n",
    "\n",
    "# Let's iterate 50.000 times above train dataset\n",
    "cost = []\n",
    "for iteration in range(50000) :\n",
    "    pred, cost_iter = train(inputs, outputs)\n",
    "    # Append the cost. Don't append the pred value because we only want the last value\n",
    "    cost.append(cost_iter)\n",
    "    \n",
    "# Print the results\n",
    "print('The neurnal network results are:')\n",
    "for i in range(len(inputs)) :\n",
    "    print('The result for [%d, %d, %d] is %.4f' % (inputs[i][0], inputs[i][1], inputs[i][2], pred[i]))\n",
    "    \n",
    "\n",
    "# Resultados\n",
    "print()\n",
    "print('The vector w1.1 is [%.2f, %.2f, %.2f]' % (w1.get_value()[0][0], w1.get_value()[0][1], w1.get_value()[0][2]))\n",
    "print('The vector w1.2 is [%.2f, %.2f, %.2f]' % (w1.get_value()[1][0], w1.get_value()[1][1], w1.get_value()[1][2]))\n",
    "print('The vector w1.3 is [%.2f, %.2f, %.2f]' % (w1.get_value()[2][0], w1.get_value()[2][1], w1.get_value()[2][2]))\n",
    "print('The vector w2 is [%.2f, %.2f, %.2f]' % (w2.get_value()[0], w2.get_value()[1], w2.get_value()[2]))\n",
    "print('The bias b1 is [%.2f]' % (b1.get_value()))\n",
    "print('The bias b2 is [%.2f]' % (b2.get_value()))\n",
    "\n",
    "    \n",
    "# Plot the effort function according to number of iterations\n",
    "plt.plot(cost)\n"
   ]
  }
 ],
 "metadata": {
  "kernelspec": {
   "display_name": "Python 3",
   "language": "python",
   "name": "python3"
  },
  "language_info": {
   "codemirror_mode": {
    "name": "ipython",
    "version": 3
   },
   "file_extension": ".py",
   "mimetype": "text/x-python",
   "name": "python",
   "nbconvert_exporter": "python",
   "pygments_lexer": "ipython3",
   "version": "3.6.3"
  }
 },
 "nbformat": 4,
 "nbformat_minor": 2
}
