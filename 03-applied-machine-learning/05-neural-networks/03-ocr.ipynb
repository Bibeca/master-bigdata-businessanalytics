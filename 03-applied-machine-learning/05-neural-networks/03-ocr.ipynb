{
 "cells": [
  {
   "cell_type": "markdown",
   "metadata": {},
   "source": [
    "# Neural networks - Optical Character Recognition (OCR)"
   ]
  },
  {
   "cell_type": "code",
   "execution_count": 1,
   "metadata": {
    "scrolled": true
   },
   "outputs": [
    {
     "name": "stdout",
     "output_type": "stream",
     "text": [
      "Using matplotlib backend: Qt5Agg\n",
      "Populating the interactive namespace from numpy and matplotlib\n"
     ]
    }
   ],
   "source": [
    "%pylab\n",
    "%matplotlib inline\n",
    "\n",
    "%config InlineBackend.figure_format = 'retina'\n",
    "\n",
    "import numpy as np"
   ]
  },
  {
   "cell_type": "markdown",
   "metadata": {},
   "source": [
    "### Import Theano "
   ]
  },
  {
   "cell_type": "code",
   "execution_count": 2,
   "metadata": {},
   "outputs": [
    {
     "name": "stdout",
     "output_type": "stream",
     "text": [
      "env: MKL_THREADING_LAYER=GNU\n"
     ]
    }
   ],
   "source": [
    "env MKL_THREADING_LAYER=GNU"
   ]
  },
  {
   "cell_type": "code",
   "execution_count": 3,
   "metadata": {
    "collapsed": true
   },
   "outputs": [],
   "source": [
    "import theano\n",
    "import theano.tensor as T"
   ]
  },
  {
   "cell_type": "markdown",
   "metadata": {},
   "source": [
    "### Using MNIST database"
   ]
  },
  {
   "cell_type": "code",
   "execution_count": 4,
   "metadata": {
    "collapsed": true
   },
   "outputs": [],
   "source": [
    "import os\n",
    "\n",
    "datasets_dir = 'data/'\n",
    "\n",
    "def one_hot(x,n):\n",
    "    if type(x) == list:\n",
    "        x = np.array(x)\n",
    "    x = x.flatten()\n",
    "    o_h = np.zeros((len(x),n))\n",
    "    o_h[np.arange(len(x)),x] = 1\n",
    "    return o_h\n",
    "\n",
    "def mnist(ntrain=60000,ntest=10000,onehot=True):\n",
    "    data_dir = os.path.join(datasets_dir,'mnist/')\n",
    "    fd = open(os.path.join(data_dir,'train-images-idx3-ubyte'))\n",
    "    loaded = np.fromfile(file=fd,dtype=np.uint8)\n",
    "    trX = loaded[16:].reshape((60000,28*28)).astype(float)\n",
    "\n",
    "    fd = open(os.path.join(data_dir,'train-labels-idx1-ubyte'))\n",
    "    loaded = np.fromfile(file=fd,dtype=np.uint8)\n",
    "    trY = loaded[8:].reshape((60000))\n",
    "\n",
    "    fd = open(os.path.join(data_dir,'t10k-images-idx3-ubyte'))\n",
    "    loaded = np.fromfile(file=fd,dtype=np.uint8)\n",
    "    teX = loaded[16:].reshape((10000,28*28)).astype(float)\n",
    "\n",
    "    fd = open(os.path.join(data_dir,'t10k-labels-idx1-ubyte'))\n",
    "    loaded = np.fromfile(file=fd,dtype=np.uint8)\n",
    "    teY = loaded[8:].reshape((10000))\n",
    "\n",
    "    trX = trX/255.\n",
    "    teX = teX/255.\n",
    "\n",
    "    trX = trX[:ntrain]\n",
    "    trY = trY[:ntrain]\n",
    "\n",
    "    teX = teX[:ntest]\n",
    "    teY = teY[:ntest]\n",
    "\n",
    "    if onehot:\n",
    "        trY = one_hot(trY, 10)\n",
    "        teY = one_hot(teY, 10)\n",
    "    else:\n",
    "        trY = np.asarray(trY)\n",
    "        teY = np.asarray(teY)\n",
    "\n",
    "    return trX,teX,trY,teY\n",
    "\n",
    "trX, teX, trY, teY = mnist()"
   ]
  },
  {
   "cell_type": "code",
   "execution_count": 5,
   "metadata": {
    "scrolled": true
   },
   "outputs": [
    {
     "name": "stdout",
     "output_type": "stream",
     "text": [
      "[ 1.  0.  0.  0.  0.  0.  0.  0.  0.  0.]\n"
     ]
    },
    {
     "data": {
      "image/png": "[encoded data removed]",
      "text/plain": [
       "<matplotlib.figure.Figure at 0x7f1052c19668>"
      ]
     },
     "metadata": {
      "image/png": {
       "height": 250,
       "width": 253
      }
     },
     "output_type": "display_data"
    }
   ],
   "source": [
    "print(trY[1,:])\n",
    "imshow(trX[1,:].reshape(28, 28), cmap = mpl.cm.gray)\n",
    "show()"
   ]
  },
  {
   "cell_type": "markdown",
   "metadata": {},
   "source": [
    "### Problem's analysis"
   ]
  },
  {
   "cell_type": "markdown",
   "metadata": {
    "collapsed": true
   },
   "source": [
    "Before implementing a neural network which can classify the images of dataset, it is necessary to analyse the shape of the input and output layers. The input layer is definied by the image's size, in this case, each image has 784 pixels, so the input layer's size will be 784. On the other hand, the output layer is definied by the characters to identify, in this case, the characters to identify are 10 (each one is one number from 0 to 9), so the output layer's size will be 10."
   ]
  },
  {
   "cell_type": "markdown",
   "metadata": {
    "collapsed": true
   },
   "source": [
    "### First solution. One layer: 10 neurons, with 784 inputs each one. "
   ]
  },
  {
   "cell_type": "code",
   "execution_count": 6,
   "metadata": {
    "collapsed": true
   },
   "outputs": [],
   "source": [
    "# Let's define functions for init the weights the random way:\n",
    "def floatX(X):\n",
    "    return np.asarray(X, dtype = theano.config.floatX)\n",
    "\n",
    "def init_weights(shape):\n",
    "    return theano.shared(floatX(np.random.randn(*shape) * 0.01))"
   ]
  },
  {
   "cell_type": "code",
   "execution_count": 7,
   "metadata": {},
   "outputs": [],
   "source": [
    "# Load dataset\n",
    "trX, teX, trY, teY = mnist()\n",
    "\n",
    "# Create the symbolic variables\n",
    "X = T.fmatrix()\n",
    "Y = T.fmatrix()\n",
    "learning_rate = 0.1\n",
    "\n",
    "# Initialize the weights\n",
    "w = init_weights((784, 10)) # 10 neurons with 784 inputs\n",
    "\n",
    "# Create the neurons\n",
    "py_x = T.nnet.sigmoid(T.dot(X, w)) # Let's use the sigmoid neurons\n",
    "\n",
    "# Create the output of neuralnet -> for prediction\n",
    "# The output of neuralnet is the maximum value of the all neurons\n",
    "y_pred = T.argmax(py_x, axis = 1)\n",
    "\n",
    "# Create the effort function\n",
    "cost = T.mean(T.nnet.categorical_crossentropy(py_x, Y))\n",
    "gradient = T.grad(cost, w)\n",
    "\n",
    "# Create the update function\n",
    "update = [[w, w - gradient * learning_rate]]\n",
    "\n",
    "# Create the traning function\n",
    "train = theano.function(inputs = [X, Y],\n",
    "                        outputs = cost,\n",
    "                        updates = update,\n",
    "                        allow_input_downcast = True)    # Make the data types conversion of \n",
    "                                                        # input data so that it will be adapted \n",
    "                                                        # to data types needed in the model\n",
    "\n",
    "# Create the prediction function\n",
    "predict = theano.function(inputs = [X],\n",
    "                          outputs = y_pred,\n",
    "                          allow_input_downcast = True)\n"
   ]
  },
  {
   "cell_type": "code",
   "execution_count": 8,
   "metadata": {},
   "outputs": [
    {
     "name": "stdout",
     "output_type": "stream",
     "text": [
      "0 0.721 0.0027029250705039904\n",
      "1 0.7027 0.0012359935650084043\n",
      "2 0.6929 0.0007827126020154541\n",
      "3 0.6842 0.0005661670688884367\n",
      "4 0.6782 0.0004404375966753246\n",
      "5 0.6749 0.0003587461438120202\n",
      "6 0.6713 0.00030161591541922066\n",
      "7 0.6677 0.0002595307049547664\n",
      "8 0.6649 0.00022730458286666656\n",
      "9 0.6627 0.00020187703911309947\n",
      "10 0.6611 0.00018132851666172823\n",
      "11 0.6599 0.0001643957286224651\n",
      "12 0.6585 0.00015021421087009279\n",
      "13 0.6565 0.0001381729949705559\n",
      "14 0.6559 0.00012782837096527995\n",
      "15 0.6552 0.00011885053112700169\n",
      "16 0.6544 0.00011098936515787504\n",
      "17 0.654 0.00010405185281010549\n",
      "18 0.6525 9.788671947520187e-05\n",
      "19 0.652 9.237377559188429e-05\n",
      "20 0.6514 8.741635558006916e-05\n",
      "21 0.6504 8.293585544184047e-05\n",
      "22 0.6494 7.886772073380761e-05\n",
      "23 0.6485 7.515845551924303e-05\n",
      "24 0.648 7.176336209440906e-05\n"
     ]
    }
   ],
   "source": [
    "num_iter = 25\n",
    "\n",
    "# Training the model\n",
    "for i in range(num_iter) :\n",
    "    for start, end in zip(range(0, len(trX), 128), range(128, len(trX), 128)) :\n",
    "        cost = train(trX[start:end], trY[start:end])\n",
    "    \n",
    "    # Make the prediction\n",
    "    pred = predict(teX)\n",
    "    # Print the result\n",
    "    print(i, np.mean(np.argmax(teY, axis = 1) == pred), cost)"
   ]
  },
  {
   "cell_type": "markdown",
   "metadata": {
    "collapsed": true
   },
   "source": [
    "With 25 iterations, the model has got a precision of 64.33%.\n",
    "\n",
    "One way to improve this model is modify the neuron's type. In the last example, we used the `sigmoid` neuron. Now, we are going to use the `softmax` neuron. The implementation with this neuron is the following:"
   ]
  },
  {
   "cell_type": "code",
   "execution_count": 9,
   "metadata": {
    "collapsed": true
   },
   "outputs": [],
   "source": [
    "# Load dataset\n",
    "trX, teX, trY, teY = mnist()\n",
    "\n",
    "# Create the symbolic variables\n",
    "X = T.fmatrix()\n",
    "Y = T.fmatrix()\n",
    "learning_rate = 0.1\n",
    "\n",
    "# Initialize the weights\n",
    "w = init_weights((784, 10)) # 10 neurons with 784 inputs\n",
    "\n",
    "# Create the neurons\n",
    "py_x = T.nnet.softmax(T.dot(X, w)) # Let's use the softmax neurons\n",
    "\n",
    "# Create the output of neuralnet -> for prediction\n",
    "# The output of neuralnet is the maximum value of the all neurons\n",
    "y_pred = T.argmax(py_x, axis = 1)\n",
    "\n",
    "# Create the effort function\n",
    "cost = T.mean(T.nnet.categorical_crossentropy(py_x, Y))\n",
    "gradient = T.grad(cost, w)\n",
    "\n",
    "# Create the update function\n",
    "update = [[w, w - gradient * learning_rate]]\n",
    "\n",
    "# Create the traning function\n",
    "train = theano.function(inputs = [X, Y],\n",
    "                        outputs = cost,\n",
    "                        updates = update,\n",
    "                        allow_input_downcast = True)    # Make the data types conversion of \n",
    "                                                        # input data so that it will be adapted \n",
    "                                                        # to data types needed in the model\n",
    "\n",
    "# Create the prediction function\n",
    "predict = theano.function(inputs = [X],\n",
    "                          outputs = y_pred,\n",
    "                          allow_input_downcast = True)\n"
   ]
  },
  {
   "cell_type": "code",
   "execution_count": 10,
   "metadata": {},
   "outputs": [
    {
     "name": "stdout",
     "output_type": "stream",
     "text": [
      "0 0.8976 0.1410743366750079\n",
      "1 0.9072 0.11161650977249434\n",
      "2 0.911 0.09968903727711292\n",
      "3 0.9131 0.09282863142173241\n",
      "4 0.9152 0.08825177029847385\n",
      "5 0.916 0.08493602419833998\n",
      "6 0.9176 0.08240406134611025\n",
      "7 0.9185 0.08039836474664207\n",
      "8 0.9191 0.07876580948445258\n",
      "9 0.9196 0.07740875931823077\n",
      "10 0.9196 0.07626160793535955\n",
      "11 0.9198 0.07527843514866621\n",
      "12 0.9199 0.07442603004817548\n",
      "13 0.9202 0.07367971764752164\n",
      "14 0.9202 0.07302074549995513\n",
      "15 0.92 0.0724345843052235\n",
      "16 0.9208 0.07190978738408238\n",
      "17 0.9213 0.07143720432738752\n",
      "18 0.9216 0.07100942602801297\n",
      "19 0.9219 0.07062038488929062\n",
      "20 0.9219 0.0702650615140738\n",
      "21 0.9221 0.06993926595820882\n",
      "22 0.9221 0.06963947215796719\n",
      "23 0.922 0.0693626909077854\n",
      "24 0.922 0.06910637121026347\n"
     ]
    }
   ],
   "source": [
    "num_iter = 25\n",
    "\n",
    "# Training the model\n",
    "for i in range(num_iter) :\n",
    "    for start, end in zip(range(0, len(trX), 128), range(128, len(trX), 128)) :\n",
    "        cost = train(trX[start:end], trY[start:end])\n",
    "    \n",
    "    # Make the prediction\n",
    "    pred = predict(teX)\n",
    "    # Print the result\n",
    "    print(i, np.mean(np.argmax(teY, axis = 1) == pred), cost)"
   ]
  },
  {
   "cell_type": "markdown",
   "metadata": {
    "collapsed": true
   },
   "source": [
    "We can observe that the results are better with the `softmax` neuron. Now, the model has got a precision of 92.19%."
   ]
  },
  {
   "cell_type": "markdown",
   "metadata": {
    "collapsed": true
   },
   "source": [
    "### Second solution. Two layers: 625 neurons with 784 inputs each one, and 10 neurons with 625 inputs each one"
   ]
  },
  {
   "cell_type": "code",
   "execution_count": 11,
   "metadata": {
    "collapsed": true
   },
   "outputs": [],
   "source": [
    "# Let's define functions for init the weights the random way:\n",
    "def floatX(X):\n",
    "    return np.asarray(X, dtype = theano.config.floatX)\n",
    "\n",
    "def init_weights(shape):\n",
    "    return theano.shared(floatX(np.random.randn(*shape) * 0.01))"
   ]
  },
  {
   "cell_type": "code",
   "execution_count": 12,
   "metadata": {},
   "outputs": [],
   "source": [
    "# Load dataset\n",
    "trX, teX, trY, teY = mnist()\n",
    "\n",
    "# Create the symbolic variables\n",
    "X = T.fmatrix()\n",
    "Y = T.fmatrix()\n",
    "learning_rate = 0.1\n",
    "\n",
    "# Initialize the weights\n",
    "w_h = init_weights((784, 625)) # 625 neurons with 784 inputs (hide layer) \n",
    "w_o = init_weights((625, 10))  # 10 neurons with 625 inputs  (output layer)\n",
    "\n",
    "# Create the neurons\n",
    "h = T.nnet.sigmoid(T.dot(X, w_h))    # For the hide layer, let's use the sigmoid\n",
    "py_x = T.nnet.softmax(T.dot(h, w_o)) # Let's use the softmax neurons with the result of the hide layer\n",
    "\n",
    "# Create the output of neuralnet -> for prediction\n",
    "# The output of neuralnet is the maximum value of the all neurons\n",
    "y_pred = T.argmax(py_x, axis = 1)\n",
    "\n",
    "# Create the effort function\n",
    "cost = T.mean(T.nnet.categorical_crossentropy(py_x, Y))\n",
    "dw_h = T.grad(cost, w_h)\n",
    "dw_o = T.grad(cost, w_o)\n",
    "\n",
    "# Create the update function\n",
    "updates = [[w_h, w_h - dw_h * learning_rate],\n",
    "           [w_o, w_o - dw_o * learning_rate]]\n",
    "\n",
    "# Create the traning function\n",
    "train = theano.function(inputs = [X, Y],\n",
    "                        outputs = cost,\n",
    "                        updates = updates,\n",
    "                        allow_input_downcast = True)    # Make the data types conversion of \n",
    "                                                        # input data so that it will be adapted \n",
    "                                                        # to data types needed in the model\n",
    "\n",
    "# Create the prediction function\n",
    "predict = theano.function(inputs = [X],\n",
    "                          outputs = y_pred,\n",
    "                          allow_input_downcast = True)\n"
   ]
  },
  {
   "cell_type": "code",
   "execution_count": 13,
   "metadata": {},
   "outputs": [
    {
     "name": "stdout",
     "output_type": "stream",
     "text": [
      "0 0.823 0.3734138127327109\n",
      "1 0.8771 0.1527132943075869\n",
      "2 0.8907 0.11456293864760102\n",
      "3 0.8977 0.09880993861258901\n",
      "4 0.9041 0.08944247557613755\n",
      "5 0.9066 0.08281563473800227\n",
      "6 0.9091 0.07771112933084755\n",
      "7 0.9116 0.07361295555864907\n",
      "8 0.9131 0.0702472972687059\n",
      "9 0.9142 0.06743981992373496\n",
      "10 0.915 0.06506632191559396\n",
      "11 0.9169 0.06303284264473215\n",
      "12 0.9179 0.06126611477910101\n",
      "13 0.9191 0.059708194405558516\n",
      "14 0.9205 0.058313027169474216\n",
      "15 0.9222 0.05704404029054002\n",
      "16 0.9226 0.05587235159832256\n",
      "17 0.9242 0.054775393138720846\n",
      "18 0.9249 0.05373583559280131\n",
      "19 0.9264 0.05274072782382834\n",
      "20 0.9284 0.05178076132947119\n",
      "21 0.9293 0.05084955845688987\n",
      "22 0.9306 0.04994289401470391\n",
      "23 0.9323 0.049057830308201954\n",
      "24 0.9337 0.04819189382381959\n"
     ]
    }
   ],
   "source": [
    "num_iter = 25\n",
    "\n",
    "# Training the model\n",
    "for i in range(num_iter) :\n",
    "    for start, end in zip(range(0, len(trX), 128), range(128, len(trX), 128)) :\n",
    "        cost = train(trX[start:end], trY[start:end])\n",
    "    \n",
    "    # Make the prediction\n",
    "    pred = predict(teX)\n",
    "    # Print the result\n",
    "    print(i, np.mean(np.argmax(teY, axis = 1) == pred), cost)"
   ]
  },
  {
   "cell_type": "markdown",
   "metadata": {
    "collapsed": true
   },
   "source": [
    "The precision got is the 93.4%. It is better than the last, although not much better because the precision already was high. As we increase the number of neurons and layers in a neuralnet is easy that the model will be unstable and overfitting can appear. This problem can be fixed using regularization techniques like `dropout`."
   ]
  },
  {
   "cell_type": "markdown",
   "metadata": {
    "collapsed": true
   },
   "source": [
    "### Regularization techniques: Dropout "
   ]
  },
  {
   "cell_type": "markdown",
   "metadata": {
    "collapsed": true
   },
   "source": [
    "This technique consists in turn off a percentage of neurons randomly during the training, like this, the contribution of these neurons in the model's training will not be considered and its weights will not be updates through backpropagation.\n",
    "\n",
    "The implementation of this technique is the following:"
   ]
  },
  {
   "cell_type": "code",
   "execution_count": 14,
   "metadata": {
    "collapsed": true
   },
   "outputs": [],
   "source": [
    "from theano.sandbox.rng_mrg import MRG_RandomStreams\n",
    "\n",
    "srng = MRG_RandomStreams() # Random values generator\n",
    "\n",
    "# Dropout function's definition\n",
    "def dropout(X, p):\n",
    "    if p > 0:\n",
    "        X *= srng.binomial(X.shape, p = 1 - p, dtype = theano.config.floatX)\n",
    "        X /= 1 - p\n",
    "    return X\n",
    "\n",
    "# Model's creation.\n",
    "#  X: input\n",
    "#  w_h: hide layer's weights\n",
    "#  w_o: output layer's weights\n",
    "#  p_drop: probability of the neuron's turn off\n",
    "def model(X, w_h, w_o, p_drop):\n",
    "    X = dropout(X, p_drop)\n",
    "    h = T.nnet.sigmoid(T.dot(X, w_h))\n",
    "    \n",
    "    h = dropout(h, p_drop)\n",
    "    py_x = T.nnet.softmax(T.dot(h, w_o))\n",
    "\n",
    "    return h, py_x"
   ]
  },
  {
   "cell_type": "code",
   "execution_count": 15,
   "metadata": {
    "collapsed": true
   },
   "outputs": [],
   "source": [
    "# Let's define functions for init the weights the random way:\n",
    "def floatX(X):\n",
    "    return np.asarray(X, dtype = theano.config.floatX)\n",
    "\n",
    "def init_weights(shape):\n",
    "    return theano.shared(floatX(np.random.randn(*shape) * 0.01))"
   ]
  },
  {
   "cell_type": "code",
   "execution_count": 16,
   "metadata": {
    "collapsed": true
   },
   "outputs": [],
   "source": [
    "# Load dataset\n",
    "trX, teX, trY, teY = mnist()\n",
    "\n",
    "# Create the symbolic variables\n",
    "X = T.fmatrix()\n",
    "Y = T.fmatrix()\n",
    "learning_rate = 0.1\n",
    "\n",
    "# Initialize the weights\n",
    "w_h = init_weights((784, 625)) # 625 neurons with 784 inputs (hide layer) \n",
    "w_o = init_weights((625, 10))  # 10 neurons with 625 inputs  (output layer)\n",
    "\n",
    "# Create the training model with the 0.05 probability of the neurons turn off\n",
    "h, py_x = model(X, w_h, w_o, 0.05)\n",
    "\n",
    "# Create the effort function\n",
    "cost = T.mean(T.nnet.categorical_crossentropy(py_x, Y))\n",
    "dw_h = T.grad(cost, w_h)\n",
    "dw_o = T.grad(cost, w_o)\n",
    "\n",
    "# Create the update function\n",
    "updates = [[w_h, w_h - dw_h * learning_rate],\n",
    "           [w_o, w_o - dw_o * learning_rate]]\n",
    "\n",
    "# Create the traning function\n",
    "train = theano.function(inputs = [X, Y],\n",
    "                        outputs = cost,\n",
    "                        updates = updates,\n",
    "                        allow_input_downcast = True)    # Make the data types conversion of \n",
    "                                                        # input data so that it will be adapted \n",
    "                                                        # to data types needed in the model\n",
    "\n",
    "# Create the prediction model with the 0 probability of the neurons turn off\n",
    "h_pred, py_pred = model(X, w_h, w_o, 0.0)\n",
    "y_pred = T.argmax(py_pred, axis = 1)\n",
    "\n",
    "\n",
    "# Create the prediction function\n",
    "predict = theano.function(inputs = [X],\n",
    "                          outputs = y_pred,\n",
    "                          allow_input_downcast = True)"
   ]
  },
  {
   "cell_type": "code",
   "execution_count": 17,
   "metadata": {},
   "outputs": [
    {
     "name": "stdout",
     "output_type": "stream",
     "text": [
      "0 0.8187 0.3899279482807628\n",
      "1 0.875 0.1710710303370585\n",
      "2 0.8911 0.11364033990474715\n",
      "3 0.8999 0.10564864778826542\n",
      "4 0.9038 0.08954041223557303\n",
      "5 0.9068 0.10605462035689366\n",
      "6 0.9111 0.07906449620753736\n",
      "7 0.9115 0.08267554004644682\n",
      "8 0.9134 0.08692265700817278\n",
      "9 0.9152 0.07876798194340817\n",
      "10 0.9161 0.07938227970168125\n",
      "11 0.9189 0.07529682797007944\n",
      "12 0.919 0.08166355504407538\n",
      "13 0.9221 0.06494165123617782\n",
      "14 0.9232 0.060956696709127074\n",
      "15 0.9243 0.06693294873547236\n",
      "16 0.9251 0.07654063350524679\n",
      "17 0.9265 0.07322145499318919\n",
      "18 0.9283 0.07225238765282022\n",
      "19 0.929 0.06423808436900896\n",
      "20 0.9309 0.06412209271163288\n",
      "21 0.9326 0.057904877354609224\n",
      "22 0.9342 0.0569937612054843\n",
      "23 0.9348 0.058714992857742926\n",
      "24 0.9359 0.0499382670773902\n"
     ]
    }
   ],
   "source": [
    "num_iter = 25\n",
    "\n",
    "# Training the model\n",
    "for i in range(num_iter) :\n",
    "    for start, end in zip(range(0, len(trX), 128), range(128, len(trX), 128)) :\n",
    "        cost = train(trX[start:end], trY[start:end])\n",
    "    \n",
    "    # Make the prediction\n",
    "    pred = predict(teX)\n",
    "    # Print the result\n",
    "    print(i, np.mean(np.argmax(teY, axis = 1) == pred), cost)"
   ]
  },
  {
   "cell_type": "markdown",
   "metadata": {},
   "source": [
    "In this case, the result is slightly greater than the last one."
   ]
  }
 ],
 "metadata": {
  "kernelspec": {
   "display_name": "Python 3",
   "language": "python",
   "name": "python3"
  },
  "language_info": {
   "codemirror_mode": {
    "name": "ipython",
    "version": 3
   },
   "file_extension": ".py",
   "mimetype": "text/x-python",
   "name": "python",
   "nbconvert_exporter": "python",
   "pygments_lexer": "ipython3",
   "version": "3.6.3"
  }
 },
 "nbformat": 4,
 "nbformat_minor": 2
}
