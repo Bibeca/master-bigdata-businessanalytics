{
 "cells": [
  {
   "cell_type": "markdown",
   "metadata": {},
   "source": [
    "# Practical case 3 - Crimen data"
   ]
  },
  {
   "cell_type": "code",
   "execution_count": 1,
   "metadata": {},
   "outputs": [
    {
     "name": "stdout",
     "output_type": "stream",
     "text": [
      "Using matplotlib backend: Qt5Agg\n",
      "Populating the interactive namespace from numpy and matplotlib\n"
     ]
    }
   ],
   "source": [
    "%pylab\n",
    "%matplotlib inline\n",
    "\n",
    "%config InlineBackend.figure_format = 'retina'\n",
    "\n",
    "import numpy as np"
   ]
  },
  {
   "cell_type": "markdown",
   "metadata": {},
   "source": [
    "In the `data/crime_data.csv` there are the crimes number for each 100.000 inhabitants in each state of USA, as well as the percentage of urban population. The crimes have been grouped like: `Murder`, `Assault` and `Rape`.\n",
    "\n",
    "Segment that dataset using `k-means` and get the centroids of each cluster and the states list of each cluster."
   ]
  },
  {
   "cell_type": "markdown",
   "metadata": {},
   "source": [
    "### Load data"
   ]
  },
  {
   "cell_type": "code",
   "execution_count": 2,
   "metadata": {
    "scrolled": true
   },
   "outputs": [
    {
     "data": {
      "text/html": [
       "<div>\n",
       "<style>\n",
       "    .dataframe thead tr:only-child th {\n",
       "        text-align: right;\n",
       "    }\n",
       "\n",
       "    .dataframe thead th {\n",
       "        text-align: left;\n",
       "    }\n",
       "\n",
       "    .dataframe tbody tr th {\n",
       "        vertical-align: top;\n",
       "    }\n",
       "</style>\n",
       "<table border=\"1\" class=\"dataframe\">\n",
       "  <thead>\n",
       "    <tr style=\"text-align: right;\">\n",
       "      <th></th>\n",
       "      <th>State</th>\n",
       "      <th>Murder</th>\n",
       "      <th>Assault</th>\n",
       "      <th>UrbanPop</th>\n",
       "      <th>Rape</th>\n",
       "    </tr>\n",
       "  </thead>\n",
       "  <tbody>\n",
       "    <tr>\n",
       "      <th>0</th>\n",
       "      <td>Alabama</td>\n",
       "      <td>13.2</td>\n",
       "      <td>236</td>\n",
       "      <td>58</td>\n",
       "      <td>21.2</td>\n",
       "    </tr>\n",
       "    <tr>\n",
       "      <th>1</th>\n",
       "      <td>Alaska</td>\n",
       "      <td>10.0</td>\n",
       "      <td>263</td>\n",
       "      <td>48</td>\n",
       "      <td>44.5</td>\n",
       "    </tr>\n",
       "    <tr>\n",
       "      <th>2</th>\n",
       "      <td>Arizona</td>\n",
       "      <td>8.1</td>\n",
       "      <td>294</td>\n",
       "      <td>80</td>\n",
       "      <td>31.0</td>\n",
       "    </tr>\n",
       "    <tr>\n",
       "      <th>3</th>\n",
       "      <td>Arkansas</td>\n",
       "      <td>8.8</td>\n",
       "      <td>190</td>\n",
       "      <td>50</td>\n",
       "      <td>19.5</td>\n",
       "    </tr>\n",
       "    <tr>\n",
       "      <th>4</th>\n",
       "      <td>California</td>\n",
       "      <td>9.0</td>\n",
       "      <td>276</td>\n",
       "      <td>91</td>\n",
       "      <td>40.6</td>\n",
       "    </tr>\n",
       "  </tbody>\n",
       "</table>\n",
       "</div>"
      ],
      "text/plain": [
       "        State  Murder  Assault  UrbanPop  Rape\n",
       "0     Alabama    13.2      236        58  21.2\n",
       "1      Alaska    10.0      263        48  44.5\n",
       "2     Arizona     8.1      294        80  31.0\n",
       "3    Arkansas     8.8      190        50  19.5\n",
       "4  California     9.0      276        91  40.6"
      ]
     },
     "execution_count": 2,
     "metadata": {},
     "output_type": "execute_result"
    }
   ],
   "source": [
    "import pandas as pd\n",
    "\n",
    "# Read file\n",
    "crimes = pd.read_csv(\"data/crime_data.csv\", sep = \",\")\n",
    "crimes.head()"
   ]
  },
  {
   "cell_type": "markdown",
   "metadata": {},
   "source": [
    "For segmenting data, we don't need the `State` variable. So, we remove it of data:"
   ]
  },
  {
   "cell_type": "code",
   "execution_count": 3,
   "metadata": {},
   "outputs": [
    {
     "data": {
      "text/html": [
       "<div>\n",
       "<style>\n",
       "    .dataframe thead tr:only-child th {\n",
       "        text-align: right;\n",
       "    }\n",
       "\n",
       "    .dataframe thead th {\n",
       "        text-align: left;\n",
       "    }\n",
       "\n",
       "    .dataframe tbody tr th {\n",
       "        vertical-align: top;\n",
       "    }\n",
       "</style>\n",
       "<table border=\"1\" class=\"dataframe\">\n",
       "  <thead>\n",
       "    <tr style=\"text-align: right;\">\n",
       "      <th></th>\n",
       "      <th>Murder</th>\n",
       "      <th>Assault</th>\n",
       "      <th>UrbanPop</th>\n",
       "      <th>Rape</th>\n",
       "    </tr>\n",
       "  </thead>\n",
       "  <tbody>\n",
       "    <tr>\n",
       "      <th>0</th>\n",
       "      <td>13.2</td>\n",
       "      <td>236</td>\n",
       "      <td>58</td>\n",
       "      <td>21.2</td>\n",
       "    </tr>\n",
       "    <tr>\n",
       "      <th>1</th>\n",
       "      <td>10.0</td>\n",
       "      <td>263</td>\n",
       "      <td>48</td>\n",
       "      <td>44.5</td>\n",
       "    </tr>\n",
       "    <tr>\n",
       "      <th>2</th>\n",
       "      <td>8.1</td>\n",
       "      <td>294</td>\n",
       "      <td>80</td>\n",
       "      <td>31.0</td>\n",
       "    </tr>\n",
       "    <tr>\n",
       "      <th>3</th>\n",
       "      <td>8.8</td>\n",
       "      <td>190</td>\n",
       "      <td>50</td>\n",
       "      <td>19.5</td>\n",
       "    </tr>\n",
       "    <tr>\n",
       "      <th>4</th>\n",
       "      <td>9.0</td>\n",
       "      <td>276</td>\n",
       "      <td>91</td>\n",
       "      <td>40.6</td>\n",
       "    </tr>\n",
       "  </tbody>\n",
       "</table>\n",
       "</div>"
      ],
      "text/plain": [
       "   Murder  Assault  UrbanPop  Rape\n",
       "0    13.2      236        58  21.2\n",
       "1    10.0      263        48  44.5\n",
       "2     8.1      294        80  31.0\n",
       "3     8.8      190        50  19.5\n",
       "4     9.0      276        91  40.6"
      ]
     },
     "execution_count": 3,
     "metadata": {},
     "output_type": "execute_result"
    }
   ],
   "source": [
    "col_names = list(crimes.columns)\n",
    "col_names.remove('State')\n",
    "\n",
    "data = crimes[col_names]\n",
    "data.head()"
   ]
  },
  {
   "cell_type": "markdown",
   "metadata": {},
   "source": [
    "Due to there are more of two dimensions, for selecting the number of clusters, we have to use the Silhouette method:"
   ]
  },
  {
   "cell_type": "code",
   "execution_count": 4,
   "metadata": {
    "collapsed": true
   },
   "outputs": [],
   "source": [
    "# blobs       -> data\n",
    "# figure_name -> figure name\n",
    "# max_k       -> maximum of clusters\n",
    "# n_init      -> maximum number which the algorithm will be executed\n",
    "def plot_silhouette(data, figure_name, max_k = 10, n_init = 10):\n",
    "    from sklearn.metrics import silhouette_score\n",
    "    from sklearn.cluster import KMeans\n",
    "    #from sklearn.spatial.distance import cdist\n",
    "    \n",
    "    silhouette_avgs = []\n",
    "    \n",
    "    for k in range(2, max_k):\n",
    "        kmean = KMeans(n_clusters = k, n_init = n_init).fit(data)\n",
    "        silhouette_avgs.append(silhouette_score(data, kmean.labels_))\n",
    "        \n",
    "    plot(range(2, max_k), silhouette_avgs)\n",
    "    xlabel('k')\n",
    "    title(figure_name)"
   ]
  },
  {
   "cell_type": "code",
   "execution_count": 5,
   "metadata": {},
   "outputs": [
    {
     "data": {
      "image/png": "[encoded data removed]",
      "text/plain": [
       "<matplotlib.figure.Figure at 0x7f39970dcf28>"
      ]
     },
     "metadata": {
      "image/png": {
       "height": 277,
       "width": 380
      }
     },
     "output_type": "display_data"
    }
   ],
   "source": [
    "plot_silhouette(np.copy(data), 'Crimes', 15, 10)"
   ]
  },
  {
   "cell_type": "markdown",
   "metadata": {},
   "source": [
    "With that result, we can say the maximum number of clusters is 8. So, let's use `K-Means` algorithm with 8 clusters:"
   ]
  },
  {
   "cell_type": "code",
   "execution_count": 6,
   "metadata": {
    "collapsed": true
   },
   "outputs": [],
   "source": [
    "from sklearn.cluster import KMeans"
   ]
  },
  {
   "cell_type": "code",
   "execution_count": 7,
   "metadata": {},
   "outputs": [
    {
     "name": "stdout",
     "output_type": "stream",
     "text": [
      "Cluster 0\n",
      "3      Arkansas\n",
      "5      Colorado\n",
      "9       Georgia\n",
      "24     Missouri\n",
      "41    Tennessee\n",
      "42        Texas\n",
      "Name: State, dtype: object\n",
      "\n",
      "\n",
      "Cluster 1\n",
      "10           Hawaii\n",
      "14             Iowa\n",
      "18            Maine\n",
      "22        Minnesota\n",
      "28    New Hampshire\n",
      "33     North Dakota\n",
      "40     South Dakota\n",
      "44          Vermont\n",
      "47    West Virginia\n",
      "48        Wisconsin\n",
      "Name: State, dtype: object\n",
      "\n",
      "\n",
      "Cluster 2\n",
      "8            Florida\n",
      "32    North Carolina\n",
      "Name: State, dtype: object\n",
      "\n",
      "\n",
      "Cluster 3\n",
      "1             Alaska\n",
      "23       Mississippi\n",
      "39    South Carolina\n",
      "Name: State, dtype: object\n",
      "\n",
      "\n",
      "Cluster 4\n",
      "6      Connecticut\n",
      "11           Idaho\n",
      "13         Indiana\n",
      "15          Kansas\n",
      "16        Kentucky\n",
      "25         Montana\n",
      "26        Nebraska\n",
      "34            Ohio\n",
      "37    Pennsylvania\n",
      "43            Utah\n",
      "Name: State, dtype: object\n",
      "\n",
      "\n",
      "Cluster 5\n",
      "0       Alabama\n",
      "7      Delaware\n",
      "12     Illinois\n",
      "17    Louisiana\n",
      "21     Michigan\n",
      "27       Nevada\n",
      "31     New York\n",
      "Name: State, dtype: object\n",
      "\n",
      "\n",
      "Cluster 6\n",
      "2        Arizona\n",
      "4     California\n",
      "19      Maryland\n",
      "30    New Mexico\n",
      "Name: State, dtype: object\n",
      "\n",
      "\n",
      "Cluster 7\n",
      "20    Massachusetts\n",
      "29       New Jersey\n",
      "35         Oklahoma\n",
      "36           Oregon\n",
      "38     Rhode Island\n",
      "45         Virginia\n",
      "46       Washington\n",
      "49          Wyoming\n",
      "Name: State, dtype: object\n",
      "\n",
      "\n"
     ]
    }
   ],
   "source": [
    "# Create KMeans\n",
    "kmeans = KMeans(n_clusters = 8, n_init = 10, random_state = 1).fit(np.copy(data))\n",
    "\n",
    "# Let's predict the cluster in which belong the mammals\n",
    "clusters = kmeans.predict(data)\n",
    "\n",
    "# Print the cluster of each mammals\n",
    "for c in range(max(clusters) + 1) :\n",
    "    print('Cluster', c)\n",
    "    print(crimes['State'][clusters == c])\n",
    "    print('\\n')"
   ]
  }
 ],
 "metadata": {
  "kernelspec": {
   "display_name": "Python 3",
   "language": "python",
   "name": "python3"
  },
  "language_info": {
   "codemirror_mode": {
    "name": "ipython",
    "version": 3
   },
   "file_extension": ".py",
   "mimetype": "text/x-python",
   "name": "python",
   "nbconvert_exporter": "python",
   "pygments_lexer": "ipython3",
   "version": "3.6.3"
  }
 },
 "nbformat": 4,
 "nbformat_minor": 2
}
