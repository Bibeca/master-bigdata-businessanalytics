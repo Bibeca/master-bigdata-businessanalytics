{
 "cells": [
  {
   "cell_type": "markdown",
   "metadata": {},
   "source": [
    "# Practical case 1 - Vehicle consumption "
   ]
  },
  {
   "cell_type": "code",
   "execution_count": 1,
   "metadata": {},
   "outputs": [
    {
     "name": "stdout",
     "output_type": "stream",
     "text": [
      "Using matplotlib backend: Qt5Agg\n",
      "Populating the interactive namespace from numpy and matplotlib\n"
     ]
    }
   ],
   "source": [
    "%pylab\n",
    "%matplotlib inline\n",
    "\n",
    "%config InlineBackend.figure_format = 'retina'\n",
    "\n",
    "import numpy as np"
   ]
  },
  {
   "cell_type": "markdown",
   "metadata": {},
   "source": [
    "In the `data/auto.csv` file there are the following data of different vehicles:\n",
    "\n",
    "- cylinders\n",
    "- displacement\n",
    "- horsepower\n",
    "- weight\n",
    "- acceleration\n",
    "- model_year\n",
    "- origin\n",
    "- mpg\n",
    "\n",
    "The units of the features are not in the IS. The `origin` variable is the origin country code of the vehicle.\n",
    "\n",
    "You have to make a model with that dataset which estimates the vehicle consumption (`mpg` variable) according to the others variables"
   ]
  },
  {
   "cell_type": "markdown",
   "metadata": {},
   "source": [
    "### Load data"
   ]
  },
  {
   "cell_type": "code",
   "execution_count": 2,
   "metadata": {
    "scrolled": true
   },
   "outputs": [
    {
     "data": {
      "text/html": [
       "<div>\n",
       "<style>\n",
       "    .dataframe thead tr:only-child th {\n",
       "        text-align: right;\n",
       "    }\n",
       "\n",
       "    .dataframe thead th {\n",
       "        text-align: left;\n",
       "    }\n",
       "\n",
       "    .dataframe tbody tr th {\n",
       "        vertical-align: top;\n",
       "    }\n",
       "</style>\n",
       "<table border=\"1\" class=\"dataframe\">\n",
       "  <thead>\n",
       "    <tr style=\"text-align: right;\">\n",
       "      <th></th>\n",
       "      <th>cylinders</th>\n",
       "      <th>displacement</th>\n",
       "      <th>horsepower</th>\n",
       "      <th>weight</th>\n",
       "      <th>acceleration</th>\n",
       "      <th>model_year</th>\n",
       "      <th>origin</th>\n",
       "      <th>mpg</th>\n",
       "    </tr>\n",
       "  </thead>\n",
       "  <tbody>\n",
       "    <tr>\n",
       "      <th>0</th>\n",
       "      <td>8</td>\n",
       "      <td>307.0</td>\n",
       "      <td>130.0</td>\n",
       "      <td>3504.0</td>\n",
       "      <td>12.0</td>\n",
       "      <td>70</td>\n",
       "      <td>1</td>\n",
       "      <td>18.0</td>\n",
       "    </tr>\n",
       "    <tr>\n",
       "      <th>1</th>\n",
       "      <td>8</td>\n",
       "      <td>350.0</td>\n",
       "      <td>165.0</td>\n",
       "      <td>3693.0</td>\n",
       "      <td>11.5</td>\n",
       "      <td>70</td>\n",
       "      <td>1</td>\n",
       "      <td>15.0</td>\n",
       "    </tr>\n",
       "    <tr>\n",
       "      <th>2</th>\n",
       "      <td>8</td>\n",
       "      <td>318.0</td>\n",
       "      <td>150.0</td>\n",
       "      <td>3436.0</td>\n",
       "      <td>11.0</td>\n",
       "      <td>70</td>\n",
       "      <td>1</td>\n",
       "      <td>18.0</td>\n",
       "    </tr>\n",
       "    <tr>\n",
       "      <th>3</th>\n",
       "      <td>8</td>\n",
       "      <td>304.0</td>\n",
       "      <td>150.0</td>\n",
       "      <td>3433.0</td>\n",
       "      <td>12.0</td>\n",
       "      <td>70</td>\n",
       "      <td>1</td>\n",
       "      <td>16.0</td>\n",
       "    </tr>\n",
       "    <tr>\n",
       "      <th>4</th>\n",
       "      <td>8</td>\n",
       "      <td>302.0</td>\n",
       "      <td>140.0</td>\n",
       "      <td>3449.0</td>\n",
       "      <td>10.5</td>\n",
       "      <td>70</td>\n",
       "      <td>1</td>\n",
       "      <td>17.0</td>\n",
       "    </tr>\n",
       "  </tbody>\n",
       "</table>\n",
       "</div>"
      ],
      "text/plain": [
       "   cylinders  displacement  horsepower  weight  acceleration  model_year  \\\n",
       "0          8         307.0       130.0  3504.0          12.0          70   \n",
       "1          8         350.0       165.0  3693.0          11.5          70   \n",
       "2          8         318.0       150.0  3436.0          11.0          70   \n",
       "3          8         304.0       150.0  3433.0          12.0          70   \n",
       "4          8         302.0       140.0  3449.0          10.5          70   \n",
       "\n",
       "   origin   mpg  \n",
       "0       1  18.0  \n",
       "1       1  15.0  \n",
       "2       1  18.0  \n",
       "3       1  16.0  \n",
       "4       1  17.0  "
      ]
     },
     "execution_count": 2,
     "metadata": {},
     "output_type": "execute_result"
    }
   ],
   "source": [
    "import pandas as pd\n",
    "\n",
    "# Read file\n",
    "auto = pd.read_csv(\"data/auto.csv\", sep = \",\")\n",
    "auto.head()"
   ]
  },
  {
   "cell_type": "code",
   "execution_count": 3,
   "metadata": {},
   "outputs": [],
   "source": [
    "# Remove the 'mpg' variable of features\n",
    "target_name = 'mpg'\n",
    "features_names = list(auto.columns)\n",
    "features_names.remove(target_name)\n",
    "\n",
    "# Split the features and target data\n",
    "features = auto[features_names]\n",
    "target = auto[target_name]"
   ]
  },
  {
   "cell_type": "markdown",
   "metadata": {
    "collapsed": true
   },
   "source": [
    "### VIF - Variance Inflation Factor"
   ]
  },
  {
   "cell_type": "markdown",
   "metadata": {
    "collapsed": true
   },
   "source": [
    "The multicollinearity in a independient features set impacts negatively to the models built with them. A solution of this problem is use the VIF which allows cuantify the intensity of multicollinearity. The VIF value increases according to the multicollinearity increases. The VIF values bigger than 5 are considered high and VIF values bigger than 10 are considered very high.\n",
    "\n",
    "The VIF value calculation can be implement like this:"
   ]
  },
  {
   "cell_type": "code",
   "execution_count": 4,
   "metadata": {
    "collapsed": true
   },
   "outputs": [],
   "source": [
    "def calculateVIF(data) :\n",
    "    from sklearn.linear_model import LinearRegression\n",
    "    import pandas as pd\n",
    "    \n",
    "    features = list(data.columns)\n",
    "    num_features = len(features)\n",
    "    \n",
    "    # Create the model and the result dataframe\n",
    "    model = LinearRegression()\n",
    "    result = pd.DataFrame(index = ['VIF'], columns = features)\n",
    "    result = result.fillna(0)\n",
    "    \n",
    "    # For each feature\n",
    "    for ite in range(num_features) :\n",
    "        x_features = features[:]\n",
    "        y_feature  = features[ite]\n",
    "        # Remove the feature (because it is the independient)\n",
    "        x_features.remove(y_feature)\n",
    "        \n",
    "        x = data[x_features]\n",
    "        y = data[y_feature]\n",
    "        \n",
    "        # Fit the model \n",
    "        model.fit(x, y)\n",
    "        # Calculate VIF\n",
    "        result[y_feature] = 1 / (1 - model.score(x, y))\n",
    "    \n",
    "    return result"
   ]
  },
  {
   "cell_type": "markdown",
   "metadata": {},
   "source": [
    "So, we are going to calculate the VIF value for each feature in our dataset: "
   ]
  },
  {
   "cell_type": "code",
   "execution_count": 5,
   "metadata": {},
   "outputs": [
    {
     "data": {
      "text/html": [
       "<div>\n",
       "<style>\n",
       "    .dataframe thead tr:only-child th {\n",
       "        text-align: right;\n",
       "    }\n",
       "\n",
       "    .dataframe thead th {\n",
       "        text-align: left;\n",
       "    }\n",
       "\n",
       "    .dataframe tbody tr th {\n",
       "        vertical-align: top;\n",
       "    }\n",
       "</style>\n",
       "<table border=\"1\" class=\"dataframe\">\n",
       "  <thead>\n",
       "    <tr style=\"text-align: right;\">\n",
       "      <th></th>\n",
       "      <th>cylinders</th>\n",
       "      <th>displacement</th>\n",
       "      <th>horsepower</th>\n",
       "      <th>weight</th>\n",
       "      <th>acceleration</th>\n",
       "      <th>model_year</th>\n",
       "      <th>origin</th>\n",
       "    </tr>\n",
       "  </thead>\n",
       "  <tbody>\n",
       "    <tr>\n",
       "      <th>VIF</th>\n",
       "      <td>10.737535</td>\n",
       "      <td>21.836792</td>\n",
       "      <td>9.943693</td>\n",
       "      <td>10.83126</td>\n",
       "      <td>2.625806</td>\n",
       "      <td>1.244952</td>\n",
       "      <td>1.772386</td>\n",
       "    </tr>\n",
       "  </tbody>\n",
       "</table>\n",
       "</div>"
      ],
      "text/plain": [
       "     cylinders  displacement  horsepower    weight  acceleration  model_year  \\\n",
       "VIF  10.737535     21.836792    9.943693  10.83126      2.625806    1.244952   \n",
       "\n",
       "       origin  \n",
       "VIF  1.772386  "
      ]
     },
     "execution_count": 5,
     "metadata": {},
     "output_type": "execute_result"
    }
   ],
   "source": [
    "VIF = calculateVIF(features)\n",
    "VIF"
   ]
  },
  {
   "cell_type": "markdown",
   "metadata": {
    "collapsed": true
   },
   "source": [
    "Once VIF method has been defined, a procedure which remove the features is needed. This procedure is the following: "
   ]
  },
  {
   "cell_type": "code",
   "execution_count": 6,
   "metadata": {
    "collapsed": true
   },
   "outputs": [],
   "source": [
    "# data    -> data\n",
    "# max_VIF -> maximum VIF value to follow removing features\n",
    "def selectDataUsingVIF(data, max_VIF = 5) :\n",
    "    # Copy data\n",
    "    result = data.copy(deep = True)\n",
    "    \n",
    "    VIF = calculateVIF(result)\n",
    "    \n",
    "    # While the VIF value is bigger than max_VIF:\n",
    "    while VIF.as_matrix().max() > max_VIF :\n",
    "        # Get the column of the feature which gets the maximum VIF\n",
    "        col_max = np.where(VIF == VIF.as_matrix().max())[1][0]\n",
    "        \n",
    "        # Remove this feature of the data\n",
    "        features = list(result.columns)\n",
    "        features.remove(features[col_max])\n",
    "        result = result[features]\n",
    "        \n",
    "        # Again, calculate VIF\n",
    "        VIF = calculateVIF(result)\n",
    "\n",
    "    # Return the result\n",
    "    return result"
   ]
  },
  {
   "cell_type": "markdown",
   "metadata": {},
   "source": [
    "Now, we are going to select data using VIF:"
   ]
  },
  {
   "cell_type": "code",
   "execution_count": 7,
   "metadata": {},
   "outputs": [
    {
     "data": {
      "text/html": [
       "<div>\n",
       "<style>\n",
       "    .dataframe thead tr:only-child th {\n",
       "        text-align: right;\n",
       "    }\n",
       "\n",
       "    .dataframe thead th {\n",
       "        text-align: left;\n",
       "    }\n",
       "\n",
       "    .dataframe tbody tr th {\n",
       "        vertical-align: top;\n",
       "    }\n",
       "</style>\n",
       "<table border=\"1\" class=\"dataframe\">\n",
       "  <thead>\n",
       "    <tr style=\"text-align: right;\">\n",
       "      <th></th>\n",
       "      <th>cylinders</th>\n",
       "      <th>acceleration</th>\n",
       "      <th>model_year</th>\n",
       "      <th>origin</th>\n",
       "    </tr>\n",
       "  </thead>\n",
       "  <tbody>\n",
       "    <tr>\n",
       "      <th>VIF</th>\n",
       "      <td>1.999959</td>\n",
       "      <td>1.384478</td>\n",
       "      <td>1.159429</td>\n",
       "      <td>1.495041</td>\n",
       "    </tr>\n",
       "  </tbody>\n",
       "</table>\n",
       "</div>"
      ],
      "text/plain": [
       "     cylinders  acceleration  model_year    origin\n",
       "VIF   1.999959      1.384478    1.159429  1.495041"
      ]
     },
     "execution_count": 7,
     "metadata": {},
     "output_type": "execute_result"
    }
   ],
   "source": [
    "selected_features = selectDataUsingVIF(features)\n",
    "calculateVIF(selected_features)"
   ]
  },
  {
   "cell_type": "markdown",
   "metadata": {},
   "source": [
    "Once we have removed the features with multicollinearity, we are going to make a model with selected features. That model will be a `Linear Regression`. For training the model, we are going to use crossvalidation for the model will not be overfitting.\n",
    "\n",
    "Let's implement:"
   ]
  },
  {
   "cell_type": "code",
   "execution_count": 8,
   "metadata": {
    "collapsed": true
   },
   "outputs": [],
   "source": [
    "from sklearn.linear_model import LinearRegression\n",
    "from sklearn.metrics import mean_squared_error, mean_absolute_error, median_absolute_error\n",
    "from sklearn.model_selection import train_test_split"
   ]
  },
  {
   "cell_type": "code",
   "execution_count": 9,
   "metadata": {},
   "outputs": [
    {
     "name": "stdout",
     "output_type": "stream",
     "text": [
      "The model's metrics are:\n",
      "Trainning R^2 =  0.723846058505\n",
      "Testing R^2 =  0.763162966762\n",
      "MSE =  16.8929209872\n",
      "MAE =  3.00502160024\n",
      "MedianAE =  2.22425381474\n"
     ]
    }
   ],
   "source": [
    "# Default = 75% train, 25% test\n",
    "x_train, x_test, y_train, y_test = train_test_split(selected_features, target,\n",
    "                                                    # train_size, for change default values\n",
    "                                                    # test_size, for change default values\n",
    "                                                    random_state = 1) # for the split don't change in each execution\n",
    "\n",
    "# Create a model and fit it with de train data\n",
    "model = LinearRegression()\n",
    "model.fit(x_train, y_train)\n",
    "\n",
    "# Let's predict the x_test data\n",
    "pred = model.predict(x_test)\n",
    "\n",
    "print(\"The model's metrics are:\")\n",
    "print('Trainning R^2 = ', model.score(x_train, y_train))\n",
    "print('Testing R^2 = ', model.score(x_test, y_test))\n",
    "print('MSE = ', mean_squared_error(pred, y_test))\n",
    "print('MAE = ', mean_absolute_error(pred, y_test))\n",
    "print('MedianAE = ', median_absolute_error(pred, y_test))"
   ]
  },
  {
   "cell_type": "markdown",
   "metadata": {},
   "source": [
    "With that, we can say the model is not overfitting and the metrics are good. So, we have made the model which estimates the vehicle consumption."
   ]
  },
  {
   "cell_type": "markdown",
   "metadata": {},
   "source": [
    "For curiosity, we are going to make that model with all features. Like this, we see if the model with all features is better than our model:"
   ]
  },
  {
   "cell_type": "code",
   "execution_count": 10,
   "metadata": {},
   "outputs": [
    {
     "name": "stdout",
     "output_type": "stream",
     "text": [
      "The model's metrics are:\n",
      "Trainning R^2 =  0.815333962764\n",
      "Testing R^2 =  0.829570053694\n",
      "MSE =  12.1562898227\n",
      "MAE =  2.63899727715\n",
      "MedianAE =  2.13787537813\n"
     ]
    }
   ],
   "source": [
    "# Default = 75% train, 25% test\n",
    "x_train, x_test, y_train, y_test = train_test_split(features, target,\n",
    "                                                    # train_size, for change default values\n",
    "                                                    # test_size, for change default values\n",
    "                                                    random_state = 1) # for the split don't change in each execution\n",
    "\n",
    "# Create a model and fit it with de train data\n",
    "all_features_model = LinearRegression()\n",
    "all_features_model.fit(x_train, y_train)\n",
    "\n",
    "# Let's predict the x_test data\n",
    "pred = all_features_model.predict(x_test)\n",
    "\n",
    "print(\"The model's metrics are:\")\n",
    "print('Trainning R^2 = ', all_features_model.score(x_train, y_train))\n",
    "print('Testing R^2 = ', all_features_model.score(x_test, y_test))\n",
    "print('MSE = ', mean_squared_error(pred, y_test))\n",
    "print('MAE = ', mean_absolute_error(pred, y_test))\n",
    "print('MedianAE = ', median_absolute_error(pred, y_test))"
   ]
  },
  {
   "cell_type": "markdown",
   "metadata": {},
   "source": [
    "As we can observe, the metrics are a little better, but that model is more complex because it use more features and them have multicollinearity, so we have made a model more simple and without features multicollinearity. "
   ]
  }
 ],
 "metadata": {
  "kernelspec": {
   "display_name": "Python 3",
   "language": "python",
   "name": "python3"
  },
  "language_info": {
   "codemirror_mode": {
    "name": "ipython",
    "version": 3
   },
   "file_extension": ".py",
   "mimetype": "text/x-python",
   "name": "python",
   "nbconvert_exporter": "python",
   "pygments_lexer": "ipython3",
   "version": "3.6.3"
  }
 },
 "nbformat": 4,
 "nbformat_minor": 2
}
