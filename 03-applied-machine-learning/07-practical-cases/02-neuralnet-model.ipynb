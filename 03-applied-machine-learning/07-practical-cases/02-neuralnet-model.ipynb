{
 "cells": [
  {
   "cell_type": "markdown",
   "metadata": {},
   "source": [
    "# Practical case 2 - Neuralnet model"
   ]
  },
  {
   "cell_type": "code",
   "execution_count": 1,
   "metadata": {},
   "outputs": [
    {
     "name": "stdout",
     "output_type": "stream",
     "text": [
      "Using matplotlib backend: Qt5Agg\n",
      "Populating the interactive namespace from numpy and matplotlib\n"
     ]
    }
   ],
   "source": [
    "%pylab\n",
    "%matplotlib inline\n",
    "\n",
    "%config InlineBackend.figure_format = 'retina'\n",
    "\n",
    "import numpy as np"
   ]
  },
  {
   "cell_type": "markdown",
   "metadata": {},
   "source": [
    "Use `Theano` of getting the params $w_0$ and $w_1$ of the following model:\n",
    "\n",
    "$$y = \\log(1 + w_0|x|) + w_1 x$$\n",
    "\n",
    "For that, use the following data:"
   ]
  },
  {
   "cell_type": "code",
   "execution_count": 2,
   "metadata": {},
   "outputs": [],
   "source": [
    "import math\n",
    "\n",
    "trX = np.linspace(-1, 1, 101)\n",
    "trY = np.linspace(-1, 1, 101)\n",
    "\n",
    "for i in range(len(trY)) :\n",
    "    trY[i] = math.log(1 + 0.5 * abs(trX[i])) + trX[i]/3 + np.random.randn() * 0.033"
   ]
  },
  {
   "cell_type": "markdown",
   "metadata": {},
   "source": [
    "### Import Theano "
   ]
  },
  {
   "cell_type": "code",
   "execution_count": 3,
   "metadata": {},
   "outputs": [
    {
     "name": "stdout",
     "output_type": "stream",
     "text": [
      "env: MKL_THREADING_LAYER=GNU\n"
     ]
    }
   ],
   "source": [
    "env MKL_THREADING_LAYER=GNU"
   ]
  },
  {
   "cell_type": "code",
   "execution_count": 4,
   "metadata": {
    "collapsed": true
   },
   "outputs": [],
   "source": [
    "import theano\n",
    "import theano.tensor as T"
   ]
  },
  {
   "cell_type": "markdown",
   "metadata": {},
   "source": [
    "### Neuralnet model"
   ]
  },
  {
   "cell_type": "markdown",
   "metadata": {},
   "source": [
    "Let's define the neuralnet model:"
   ]
  },
  {
   "cell_type": "code",
   "execution_count": 5,
   "metadata": {},
   "outputs": [
    {
     "name": "stdout",
     "output_type": "stream",
     "text": [
      "In the step 0 \n",
      "\tw1 value: 0.900527667728423 \n",
      "\tw2 value: 0.6506840813073652 \n",
      "\twith a cost: 0.2908689493911234\n",
      "In the step 1 \n",
      "\tw1 value: 0.8102913056554691 \n",
      "\tw2 value: 0.48020152667770016 \n",
      "\twith a cost: 0.09900116027899758\n",
      "In the step 2 \n",
      "\tw1 value: 0.7342387963399374 \n",
      "\tw2 value: 0.3982495980584079 \n",
      "\twith a cost: 0.034795150907766324\n",
      "In the step 3 \n",
      "\tw1 value: 0.6732979737824707 \n",
      "\tw2 value: 0.3597572953901716 \n",
      "\twith a cost: 0.012164807075768313\n",
      "In the step 4 \n",
      "\tw1 value: 0.6262661034695987 \n",
      "\tw2 value: 0.34232459113920577 \n",
      "\twith a cost: 0.003981306438551631\n",
      "In the step 5 \n",
      "\tw1 value: 0.5909920935085502 \n",
      "\tw2 value: 0.3349005844382728 \n",
      "\twith a cost: 0.001084021411674078\n",
      "In the step 6 \n",
      "\tw1 value: 0.5651048336510083 \n",
      "\tw2 value: 0.33209509413615523 \n",
      "\twith a cost: 0.00017335132245247488\n",
      "In the step 7 \n",
      "\tw1 value: 0.5464129717558212 \n",
      "\tw2 value: 0.3313223970860686 \n",
      "\twith a cost: 6.811141896124885e-11\n",
      "In the step 8 \n",
      "\tw1 value: 0.5330774513328284 \n",
      "\tw2 value: 0.33137192358270245 \n",
      "\twith a cost: 7.842616137674012e-05\n",
      "In the step 9 \n",
      "\tw1 value: 0.5236459364626068 \n",
      "\tw2 value: 0.3316976695144255 \n",
      "\twith a cost: 0.0002212446622432638\n",
      "In the step 10 \n",
      "\tw1 value: 0.5170171580868963 \n",
      "\tw2 value: 0.3320682977143724 \n",
      "\twith a cost: 0.00036034573261143547\n",
      "In the step 11 \n",
      "\tw1 value: 0.5123789557854932 \n",
      "\tw2 value: 0.33239705603495934 \n",
      "\twith a cost: 0.0004751571367500178\n",
      "In the step 12 \n",
      "\tw1 value: 0.5091437870302125 \n",
      "\tw2 value: 0.33266052588551004 \n",
      "\twith a cost: 0.0005632340074902088\n",
      "In the step 13 \n",
      "\tw1 value: 0.5068922414180348 \n",
      "\tw2 value: 0.3328607477187301 \n",
      "\twith a cost: 0.0006282230334312236\n",
      "In the step 14 \n",
      "\tw1 value: 0.5053276939103668 \n",
      "\tw2 value: 0.333008214820954 \n",
      "\twith a cost: 0.0006750978971282333\n"
     ]
    }
   ],
   "source": [
    "# Define the symbolics variables\n",
    "X = T.scalar()\n",
    "Y = T.scalar()\n",
    "learning_rate = 0.01\n",
    "\n",
    "# Define the model\n",
    "def nnet_model(w1, w2, X) :\n",
    "    return T.log(1 + w1 * abs(X)) + w2 * X\n",
    "\n",
    "# Define the shared variables\n",
    "w1 = theano.shared(np.array(1., dtype = theano.config.floatX))\n",
    "w2 = theano.shared(np.array(1., dtype = theano.config.floatX))\n",
    "\n",
    "# Create the model \n",
    "y = nnet_model(w1, w2, X)\n",
    "\n",
    "# Define the effort function and its gradient\n",
    "cost = T.mean(T.sqr(y - Y))\n",
    "dw1, dw2 = T.grad(cost, [w1, w2])\n",
    "\n",
    "# Define the update functions\n",
    "updates = [[w1, w1 - dw1 * learning_rate],\n",
    "           [w2, w2 - dw2 * learning_rate]]\n",
    "\n",
    "# Define the training function\n",
    "train = theano.function(inputs = [X, Y],\n",
    "                        outputs = [y, cost],\n",
    "                        updates = updates)\n",
    "\n",
    "\n",
    "\n",
    "#Let's train the model with 15 iterations\n",
    "num_iter = 15\n",
    "\n",
    "for i in range(num_iter) :\n",
    "    for x, y in zip(trX, trY) :\n",
    "        y_pred, cost_i = train(x, y)\n",
    "    \n",
    "    print('In the step', i, '\\n\\tw1 value:', w1.get_value(), \n",
    "            '\\n\\tw2 value:', w2.get_value(), '\\n\\twith a cost:', cost_i)"
   ]
  },
  {
   "cell_type": "markdown",
   "metadata": {},
   "source": [
    "As we can observe, with 15 iterations, the model approximates the params good."
   ]
  }
 ],
 "metadata": {
  "kernelspec": {
   "display_name": "Python 3",
   "language": "python",
   "name": "python3"
  },
  "language_info": {
   "codemirror_mode": {
    "name": "ipython",
    "version": 3
   },
   "file_extension": ".py",
   "mimetype": "text/x-python",
   "name": "python",
   "nbconvert_exporter": "python",
   "pygments_lexer": "ipython3",
   "version": "3.6.3"
  }
 },
 "nbformat": 4,
 "nbformat_minor": 2
}
