{
 "cells": [
  {
   "cell_type": "markdown",
   "metadata": {},
   "source": [
    "# Analysis of Chemicals in Cosmetic Products\n",
    "# Forecasting\n",
    "___"
   ]
  },
  {
   "cell_type": "markdown",
   "metadata": {},
   "source": [
    "## 1. Load data and aggregation "
   ]
  },
  {
   "cell_type": "markdown",
   "metadata": {},
   "source": [
    "#### Import libraries"
   ]
  },
  {
   "cell_type": "code",
   "execution_count": 1,
   "metadata": {},
   "outputs": [
    {
     "name": "stdout",
     "output_type": "stream",
     "text": [
      "Using matplotlib backend: Qt5Agg\n",
      "Populating the interactive namespace from numpy and matplotlib\n"
     ]
    },
    {
     "data": {
      "text/html": [
       "<script type=\"text/javascript\">window.PlotlyConfig = {MathJaxConfig: 'local'};</script><script type=\"text/javascript\">if (window.MathJax) {MathJax.Hub.Config({SVG: {font: \"STIX-Web\"}});}</script><script>requirejs.config({paths: { 'plotly': ['https://cdn.plot.ly/plotly-latest.min']},});if(!window._Plotly) {require(['plotly'],function(plotly) {window._Plotly=plotly;});}</script>"
      ],
      "text/vnd.plotly.v1+html": [
       "<script type=\"text/javascript\">window.PlotlyConfig = {MathJaxConfig: 'local'};</script><script type=\"text/javascript\">if (window.MathJax) {MathJax.Hub.Config({SVG: {font: \"STIX-Web\"}});}</script><script>requirejs.config({paths: { 'plotly': ['https://cdn.plot.ly/plotly-latest.min']},});if(!window._Plotly) {require(['plotly'],function(plotly) {window._Plotly=plotly;});}</script>"
      ]
     },
     "metadata": {},
     "output_type": "display_data"
    }
   ],
   "source": [
    "%pylab\n",
    "%matplotlib inline\n",
    "\n",
    "%config InlineBackend.figure_format = 'retina'\n",
    "\n",
    "import os\n",
    "import sys\n",
    "import numpy    as np\n",
    "import pandas   as pd\n",
    "import datetime\n",
    "\n",
    "# Use Plotly for statistics graphics\n",
    "import plotly.plotly         as py\n",
    "import plotly.graph_objs     as go\n",
    "import plotly.offline        as offline\n",
    "import plotly.io             as pio\n",
    "\n",
    "# Set notebook mode = True\n",
    "offline.init_notebook_mode(connected=True)\n",
    "\n",
    "from sklearn.cluster       import KMeans\n",
    "from sklearn.metrics       import silhouette_score\n",
    "from sklearn.linear_model  import LinearRegression\n",
    "from IPython.display       import Image"
   ]
  },
  {
   "cell_type": "markdown",
   "metadata": {},
   "source": [
    "#### Declare constants "
   ]
  },
  {
   "cell_type": "code",
   "execution_count": 2,
   "metadata": {},
   "outputs": [],
   "source": [
    "# Variables with the names of each column in data\n",
    "CDPHID_COLUMN                 = 'CDPHId'\n",
    "PRODUCTNAME_COLUMN            = 'ProductName'\n",
    "CSFID_COLUMN                  = 'CSFId'\n",
    "CSF_COLUMN                    = 'CSF'\n",
    "COMPANYID_COLUMN              = 'CompanyId'\n",
    "COMPANYNAME_COLUMN            = 'CompanyName'\n",
    "BRANDNAME_COLUMN              = 'BrandName'\n",
    "PRIMARYCATEGORYID_COLUMN      = 'PrimaryCategoryId'\n",
    "PRIMARYCATEGORY_COLUMN        = 'PrimaryCategory'\n",
    "SUBCATEGORYID_COLUMN          = 'SubCategoryId'\n",
    "SUBCATEGORY_COLUMN            = 'SubCategory'\n",
    "CASID_COLUMN                  = 'CasId'\n",
    "CASNUMBER_COLUMN              = 'CasNumber'\n",
    "CHEMICALID_COLUMN             = 'ChemicalId'\n",
    "CHEMICALNAME_COLUMN           = 'ChemicalName'\n",
    "INITIALDATEREPORTED_COLUMN    = 'InitialDateReported'\n",
    "MOSTRECENTDATEREPORTED_COLUMN = 'MostRecentDateReported'\n",
    "DISCONTINUEDDATE_COLUMN       = 'DiscontinuedDate'\n",
    "CHEMICALCREATEDAT_COLUMN      = 'ChemicalCreatedAt'\n",
    "CHEMICALUPDATEDAT_COLUMN      = 'ChemicalUpdatedAt'\n",
    "CHEMICALDATEREMOVED_COLUMN    = 'ChemicalDateRemoved'\n",
    "CHEMICALCOUNT_COLUMN          = 'ChemicalCount'\n",
    "\n",
    "# Number to replace empty value in CSFId column\n",
    "CSFID_EMPTY_NUMBER  = -1\n",
    "# Date value which means NaT \n",
    "NAT_DATE            = datetime.date(1900,1,1)\n",
    "\n",
    "# List of columns which contains a Names\n",
    "list_names = [ PRODUCTNAME_COLUMN, CSF_COLUMN, COMPANYNAME_COLUMN, BRANDNAME_COLUMN, \n",
    "               PRIMARYCATEGORY_COLUMN, SUBCATEGORY_COLUMN, CHEMICALNAME_COLUMN ]\n",
    "\n",
    "# List of columns which contains a Dates\n",
    "list_dates = [ INITIALDATEREPORTED_COLUMN, MOSTRECENTDATEREPORTED_COLUMN, DISCONTINUEDDATE_COLUMN,\n",
    "               CHEMICALCREATEDAT_COLUMN, CHEMICALUPDATEDAT_COLUMN, CHEMICALDATEREMOVED_COLUMN ]\n",
    "\n",
    "# Other columns\n",
    "list_ids   = [ CDPHID_COLUMN, CSFID_COLUMN, COMPANYID_COLUMN, PRIMARYCATEGORYID_COLUMN, \n",
    "               SUBCATEGORYID_COLUMN, CASID_COLUMN, CHEMICALID_COLUMN ]\n",
    "\n",
    "# Path to save the images\n",
    "IMAGES_PATH   = 'img'\n",
    "\n",
    "# Format of images\n",
    "IMAGES_FORMAT = '.png'\n",
    "\n",
    "# Function to get completed path to an image\n",
    "def get_path(name) :\n",
    "    global IMAGES_PATH, IMAGES_FORMAT\n",
    "    \n",
    "    return os.path.join(IMAGES_PATH, name + IMAGES_FORMAT)"
   ]
  },
  {
   "cell_type": "markdown",
   "metadata": {},
   "source": [
    "---"
   ]
  },
  {
   "cell_type": "markdown",
   "metadata": {},
   "source": [
    "### 1.1. Load data"
   ]
  },
  {
   "cell_type": "code",
   "execution_count": 36,
   "metadata": {},
   "outputs": [
    {
     "data": {
      "text/html": [
       "<div>\n",
       "<style scoped>\n",
       "    .dataframe tbody tr th:only-of-type {\n",
       "        vertical-align: middle;\n",
       "    }\n",
       "\n",
       "    .dataframe tbody tr th {\n",
       "        vertical-align: top;\n",
       "    }\n",
       "\n",
       "    .dataframe thead th {\n",
       "        text-align: right;\n",
       "    }\n",
       "</style>\n",
       "<table border=\"1\" class=\"dataframe\">\n",
       "  <thead>\n",
       "    <tr style=\"text-align: right;\">\n",
       "      <th></th>\n",
       "      <th>CDPHId</th>\n",
       "      <th>ProductName</th>\n",
       "      <th>CSFId</th>\n",
       "      <th>CSF</th>\n",
       "      <th>CompanyId</th>\n",
       "      <th>CompanyName</th>\n",
       "      <th>BrandName</th>\n",
       "      <th>PrimaryCategoryId</th>\n",
       "      <th>PrimaryCategory</th>\n",
       "      <th>SubCategoryId</th>\n",
       "      <th>...</th>\n",
       "      <th>CasNumber</th>\n",
       "      <th>ChemicalId</th>\n",
       "      <th>ChemicalName</th>\n",
       "      <th>InitialDateReported</th>\n",
       "      <th>MostRecentDateReported</th>\n",
       "      <th>DiscontinuedDate</th>\n",
       "      <th>ChemicalCreatedAt</th>\n",
       "      <th>ChemicalUpdatedAt</th>\n",
       "      <th>ChemicalDateRemoved</th>\n",
       "      <th>ChemicalCount</th>\n",
       "    </tr>\n",
       "  </thead>\n",
       "  <tbody>\n",
       "    <tr>\n",
       "      <th>0</th>\n",
       "      <td>2</td>\n",
       "      <td>ULTRA COLOR RICH EXTRA PLUMP LIPSTICK-ALL SHADES</td>\n",
       "      <td>-1.0</td>\n",
       "      <td></td>\n",
       "      <td>4</td>\n",
       "      <td>New Avon LLC</td>\n",
       "      <td>AVON</td>\n",
       "      <td>44</td>\n",
       "      <td>Makeup Products (non-permanent)</td>\n",
       "      <td>53</td>\n",
       "      <td>...</td>\n",
       "      <td>13463-67-7</td>\n",
       "      <td>6</td>\n",
       "      <td>Titanium dioxide</td>\n",
       "      <td>2009-06-17</td>\n",
       "      <td>2013-08-28</td>\n",
       "      <td>2011-02-01</td>\n",
       "      <td>2009-07-09</td>\n",
       "      <td>2009-07-09</td>\n",
       "      <td>1900-01-01</td>\n",
       "      <td>1</td>\n",
       "    </tr>\n",
       "    <tr>\n",
       "      <th>1</th>\n",
       "      <td>3</td>\n",
       "      <td>Glover's Medicated Shampoo</td>\n",
       "      <td>-1.0</td>\n",
       "      <td></td>\n",
       "      <td>338</td>\n",
       "      <td>J. Strickland &amp; Co.</td>\n",
       "      <td>Glover's</td>\n",
       "      <td>18</td>\n",
       "      <td>Hair Care Products (non-coloring)</td>\n",
       "      <td>25</td>\n",
       "      <td>...</td>\n",
       "      <td>65996-92-1</td>\n",
       "      <td>4</td>\n",
       "      <td>Distillates (coal tar)</td>\n",
       "      <td>2009-07-01</td>\n",
       "      <td>2009-07-01</td>\n",
       "      <td>1900-01-01</td>\n",
       "      <td>2009-07-01</td>\n",
       "      <td>2009-07-01</td>\n",
       "      <td>1900-01-01</td>\n",
       "      <td>2</td>\n",
       "    </tr>\n",
       "    <tr>\n",
       "      <th>2</th>\n",
       "      <td>3</td>\n",
       "      <td>Glover's Medicated Shampoo</td>\n",
       "      <td>-1.0</td>\n",
       "      <td></td>\n",
       "      <td>338</td>\n",
       "      <td>J. Strickland &amp; Co.</td>\n",
       "      <td>Glover's</td>\n",
       "      <td>18</td>\n",
       "      <td>Hair Care Products (non-coloring)</td>\n",
       "      <td>25</td>\n",
       "      <td>...</td>\n",
       "      <td>140-67-0</td>\n",
       "      <td>5</td>\n",
       "      <td>Estragole</td>\n",
       "      <td>2009-07-01</td>\n",
       "      <td>2009-07-01</td>\n",
       "      <td>1900-01-01</td>\n",
       "      <td>2009-07-02</td>\n",
       "      <td>2009-07-02</td>\n",
       "      <td>1900-01-01</td>\n",
       "      <td>2</td>\n",
       "    </tr>\n",
       "    <tr>\n",
       "      <th>3</th>\n",
       "      <td>4</td>\n",
       "      <td>PRECISION GLIMMER EYE LINER-ALL SHADES �</td>\n",
       "      <td>-1.0</td>\n",
       "      <td></td>\n",
       "      <td>4</td>\n",
       "      <td>New Avon LLC</td>\n",
       "      <td>AVON</td>\n",
       "      <td>44</td>\n",
       "      <td>Makeup Products (non-permanent)</td>\n",
       "      <td>46</td>\n",
       "      <td>...</td>\n",
       "      <td>13463-67-7</td>\n",
       "      <td>7</td>\n",
       "      <td>Titanium dioxide</td>\n",
       "      <td>2009-07-09</td>\n",
       "      <td>2013-08-28</td>\n",
       "      <td>1900-01-01</td>\n",
       "      <td>2009-07-09</td>\n",
       "      <td>2009-07-09</td>\n",
       "      <td>1900-01-01</td>\n",
       "      <td>1</td>\n",
       "    </tr>\n",
       "    <tr>\n",
       "      <th>4</th>\n",
       "      <td>5</td>\n",
       "      <td>AVON BRILLIANT SHINE LIP GLOSS-ALL SHADES �</td>\n",
       "      <td>-1.0</td>\n",
       "      <td></td>\n",
       "      <td>4</td>\n",
       "      <td>New Avon LLC</td>\n",
       "      <td>AVON</td>\n",
       "      <td>44</td>\n",
       "      <td>Makeup Products (non-permanent)</td>\n",
       "      <td>52</td>\n",
       "      <td>...</td>\n",
       "      <td>13463-67-7</td>\n",
       "      <td>8</td>\n",
       "      <td>Titanium dioxide</td>\n",
       "      <td>2009-07-09</td>\n",
       "      <td>2013-08-28</td>\n",
       "      <td>2011-02-01</td>\n",
       "      <td>2009-07-09</td>\n",
       "      <td>2009-07-09</td>\n",
       "      <td>1900-01-01</td>\n",
       "      <td>1</td>\n",
       "    </tr>\n",
       "  </tbody>\n",
       "</table>\n",
       "<p>5 rows × 22 columns</p>\n",
       "</div>"
      ],
      "text/plain": [
       "   CDPHId                                       ProductName  CSFId CSF  \\\n",
       "0       2  ULTRA COLOR RICH EXTRA PLUMP LIPSTICK-ALL SHADES   -1.0       \n",
       "1       3                        Glover's Medicated Shampoo   -1.0       \n",
       "2       3                        Glover's Medicated Shampoo   -1.0       \n",
       "3       4          PRECISION GLIMMER EYE LINER-ALL SHADES �   -1.0       \n",
       "4       5       AVON BRILLIANT SHINE LIP GLOSS-ALL SHADES �   -1.0       \n",
       "\n",
       "   CompanyId          CompanyName BrandName  PrimaryCategoryId  \\\n",
       "0          4         New Avon LLC      AVON                 44   \n",
       "1        338  J. Strickland & Co.  Glover's                 18   \n",
       "2        338  J. Strickland & Co.  Glover's                 18   \n",
       "3          4         New Avon LLC      AVON                 44   \n",
       "4          4         New Avon LLC      AVON                 44   \n",
       "\n",
       "                     PrimaryCategory  SubCategoryId      ...        CasNumber  \\\n",
       "0    Makeup Products (non-permanent)             53      ...       13463-67-7   \n",
       "1  Hair Care Products (non-coloring)             25      ...       65996-92-1   \n",
       "2  Hair Care Products (non-coloring)             25      ...         140-67-0   \n",
       "3    Makeup Products (non-permanent)             46      ...       13463-67-7   \n",
       "4    Makeup Products (non-permanent)             52      ...       13463-67-7   \n",
       "\n",
       "   ChemicalId            ChemicalName  InitialDateReported  \\\n",
       "0           6        Titanium dioxide           2009-06-17   \n",
       "1           4  Distillates (coal tar)           2009-07-01   \n",
       "2           5               Estragole           2009-07-01   \n",
       "3           7        Titanium dioxide           2009-07-09   \n",
       "4           8        Titanium dioxide           2009-07-09   \n",
       "\n",
       "  MostRecentDateReported DiscontinuedDate ChemicalCreatedAt ChemicalUpdatedAt  \\\n",
       "0             2013-08-28       2011-02-01        2009-07-09        2009-07-09   \n",
       "1             2009-07-01       1900-01-01        2009-07-01        2009-07-01   \n",
       "2             2009-07-01       1900-01-01        2009-07-02        2009-07-02   \n",
       "3             2013-08-28       1900-01-01        2009-07-09        2009-07-09   \n",
       "4             2013-08-28       2011-02-01        2009-07-09        2009-07-09   \n",
       "\n",
       "  ChemicalDateRemoved ChemicalCount  \n",
       "0          1900-01-01             1  \n",
       "1          1900-01-01             2  \n",
       "2          1900-01-01             2  \n",
       "3          1900-01-01             1  \n",
       "4          1900-01-01             1  \n",
       "\n",
       "[5 rows x 22 columns]"
      ]
     },
     "execution_count": 36,
     "metadata": {},
     "output_type": "execute_result"
    }
   ],
   "source": [
    "# Load data from data/ folder\n",
    "data = pd.read_csv('data/cscpopendata.csv', sep = ',', parse_dates = list_dates)\n",
    "\n",
    "# pd.isna() --> for NaN\n",
    "# <value> is pd.NaT --> for NaT\n",
    "\n",
    "# Fill NaT with 01/01/1900\n",
    "for date_column in list_dates :\n",
    "    data[date_column] = data[date_column].apply(lambda x: NAT_DATE if x is pd.NaT else x)\n",
    "    \n",
    "\n",
    "# Fill NA with ''\n",
    "data = data.fillna('')\n",
    "\n",
    "# Fill CSFId empty with -1\n",
    "data[CSFID_COLUMN] = data[CSFID_COLUMN].apply(lambda x: x if x != \"\" else CSFID_EMPTY_NUMBER)\n",
    "\n",
    "data.head()"
   ]
  },
  {
   "cell_type": "markdown",
   "metadata": {},
   "source": [
    "---"
   ]
  },
  {
   "cell_type": "markdown",
   "metadata": {},
   "source": [
    "### 1.2. Data aggregation "
   ]
  },
  {
   "cell_type": "code",
   "execution_count": 12,
   "metadata": {},
   "outputs": [],
   "source": [
    "# Remove all rows that have a cosmetic product discontinued\n",
    "to_aggregate = data[data[DISCONTINUEDDATE_COLUMN].apply(lambda x: x.year) == NAT_DATE.year]\n",
    "\n",
    "# Remove all rows that have a chemical removed\n",
    "to_aggregate = to_aggregate[to_aggregate[CHEMICALDATEREMOVED_COLUMN].apply(lambda x: x.year) == NAT_DATE.year]"
   ]
  },
  {
   "cell_type": "code",
   "execution_count": 13,
   "metadata": {},
   "outputs": [
    {
     "data": {
      "text/html": [
       "<div>\n",
       "<style scoped>\n",
       "    .dataframe tbody tr th:only-of-type {\n",
       "        vertical-align: middle;\n",
       "    }\n",
       "\n",
       "    .dataframe tbody tr th {\n",
       "        vertical-align: top;\n",
       "    }\n",
       "\n",
       "    .dataframe thead th {\n",
       "        text-align: right;\n",
       "    }\n",
       "</style>\n",
       "<table border=\"1\" class=\"dataframe\">\n",
       "  <thead>\n",
       "    <tr style=\"text-align: right;\">\n",
       "      <th></th>\n",
       "      <th>InitialDateReported</th>\n",
       "      <th>ChemicalCount</th>\n",
       "    </tr>\n",
       "  </thead>\n",
       "  <tbody>\n",
       "    <tr>\n",
       "      <th>0</th>\n",
       "      <td>2009-07-01</td>\n",
       "      <td>4</td>\n",
       "    </tr>\n",
       "    <tr>\n",
       "      <th>1</th>\n",
       "      <td>2009-07-09</td>\n",
       "      <td>1</td>\n",
       "    </tr>\n",
       "    <tr>\n",
       "      <th>2</th>\n",
       "      <td>2009-07-13</td>\n",
       "      <td>6</td>\n",
       "    </tr>\n",
       "    <tr>\n",
       "      <th>3</th>\n",
       "      <td>2009-07-14</td>\n",
       "      <td>18</td>\n",
       "    </tr>\n",
       "    <tr>\n",
       "      <th>4</th>\n",
       "      <td>2009-08-10</td>\n",
       "      <td>4</td>\n",
       "    </tr>\n",
       "  </tbody>\n",
       "</table>\n",
       "</div>"
      ],
      "text/plain": [
       "  InitialDateReported  ChemicalCount\n",
       "0          2009-07-01              4\n",
       "1          2009-07-09              1\n",
       "2          2009-07-13              6\n",
       "3          2009-07-14             18\n",
       "4          2009-08-10              4"
      ]
     },
     "execution_count": 13,
     "metadata": {},
     "output_type": "execute_result"
    }
   ],
   "source": [
    "# Aggregate InitialDateReported\n",
    "data_initialdate = pd.DataFrame(to_aggregate.groupby(INITIALDATEREPORTED_COLUMN, as_index = False)\n",
    "                                               .agg({CHEMICALCOUNT_COLUMN : 'sum'}))\n",
    "data_initialdate.head()"
   ]
  },
  {
   "cell_type": "code",
   "execution_count": 14,
   "metadata": {},
   "outputs": [
    {
     "data": {
      "text/html": [
       "<div>\n",
       "<style scoped>\n",
       "    .dataframe tbody tr th:only-of-type {\n",
       "        vertical-align: middle;\n",
       "    }\n",
       "\n",
       "    .dataframe tbody tr th {\n",
       "        vertical-align: top;\n",
       "    }\n",
       "\n",
       "    .dataframe thead th {\n",
       "        text-align: right;\n",
       "    }\n",
       "</style>\n",
       "<table border=\"1\" class=\"dataframe\">\n",
       "  <thead>\n",
       "    <tr style=\"text-align: right;\">\n",
       "      <th></th>\n",
       "      <th>MostRecentDateReported</th>\n",
       "      <th>ChemicalCount</th>\n",
       "    </tr>\n",
       "  </thead>\n",
       "  <tbody>\n",
       "    <tr>\n",
       "      <th>0</th>\n",
       "      <td>2009-07-01</td>\n",
       "      <td>4</td>\n",
       "    </tr>\n",
       "    <tr>\n",
       "      <th>1</th>\n",
       "      <td>2009-08-11</td>\n",
       "      <td>1</td>\n",
       "    </tr>\n",
       "    <tr>\n",
       "      <th>2</th>\n",
       "      <td>2009-08-18</td>\n",
       "      <td>1</td>\n",
       "    </tr>\n",
       "    <tr>\n",
       "      <th>3</th>\n",
       "      <td>2009-08-21</td>\n",
       "      <td>6</td>\n",
       "    </tr>\n",
       "    <tr>\n",
       "      <th>4</th>\n",
       "      <td>2009-08-24</td>\n",
       "      <td>1</td>\n",
       "    </tr>\n",
       "  </tbody>\n",
       "</table>\n",
       "</div>"
      ],
      "text/plain": [
       "  MostRecentDateReported  ChemicalCount\n",
       "0             2009-07-01              4\n",
       "1             2009-08-11              1\n",
       "2             2009-08-18              1\n",
       "3             2009-08-21              6\n",
       "4             2009-08-24              1"
      ]
     },
     "execution_count": 14,
     "metadata": {},
     "output_type": "execute_result"
    }
   ],
   "source": [
    "# Aggregate MostRecentDateReported\n",
    "data_mostrecentdate = pd.DataFrame(to_aggregate.groupby(MOSTRECENTDATEREPORTED_COLUMN, as_index = False)\n",
    "                                               .agg({CHEMICALCOUNT_COLUMN : 'sum'}))\n",
    "data_mostrecentdate.head()"
   ]
  },
  {
   "cell_type": "code",
   "execution_count": 15,
   "metadata": {},
   "outputs": [
    {
     "data": {
      "text/html": [
       "<div>\n",
       "<style scoped>\n",
       "    .dataframe tbody tr th:only-of-type {\n",
       "        vertical-align: middle;\n",
       "    }\n",
       "\n",
       "    .dataframe tbody tr th {\n",
       "        vertical-align: top;\n",
       "    }\n",
       "\n",
       "    .dataframe thead th {\n",
       "        text-align: right;\n",
       "    }\n",
       "</style>\n",
       "<table border=\"1\" class=\"dataframe\">\n",
       "  <thead>\n",
       "    <tr style=\"text-align: right;\">\n",
       "      <th></th>\n",
       "      <th>ChemicalUpdatedAt</th>\n",
       "      <th>ChemicalCount</th>\n",
       "    </tr>\n",
       "  </thead>\n",
       "  <tbody>\n",
       "    <tr>\n",
       "      <th>0</th>\n",
       "      <td>2009-07-01</td>\n",
       "      <td>2</td>\n",
       "    </tr>\n",
       "    <tr>\n",
       "      <th>1</th>\n",
       "      <td>2009-07-02</td>\n",
       "      <td>2</td>\n",
       "    </tr>\n",
       "    <tr>\n",
       "      <th>2</th>\n",
       "      <td>2009-07-09</td>\n",
       "      <td>1</td>\n",
       "    </tr>\n",
       "    <tr>\n",
       "      <th>3</th>\n",
       "      <td>2009-08-10</td>\n",
       "      <td>4</td>\n",
       "    </tr>\n",
       "    <tr>\n",
       "      <th>4</th>\n",
       "      <td>2009-08-16</td>\n",
       "      <td>8</td>\n",
       "    </tr>\n",
       "  </tbody>\n",
       "</table>\n",
       "</div>"
      ],
      "text/plain": [
       "  ChemicalUpdatedAt  ChemicalCount\n",
       "0        2009-07-01              2\n",
       "1        2009-07-02              2\n",
       "2        2009-07-09              1\n",
       "3        2009-08-10              4\n",
       "4        2009-08-16              8"
      ]
     },
     "execution_count": 15,
     "metadata": {},
     "output_type": "execute_result"
    }
   ],
   "source": [
    "# Aggregate ChemicalUpdatedAt\n",
    "data_updatedat = pd.DataFrame(to_aggregate.groupby(CHEMICALUPDATEDAT_COLUMN, as_index = False)\n",
    "                                               .agg({CHEMICALCOUNT_COLUMN : 'sum'}))\n",
    "data_updatedat.head()"
   ]
  },
  {
   "cell_type": "code",
   "execution_count": 57,
   "metadata": {},
   "outputs": [
    {
     "data": {
      "text/plain": [
       "736330"
      ]
     },
     "execution_count": 57,
     "metadata": {},
     "output_type": "execute_result"
    }
   ],
   "source": []
  },
  {
   "cell_type": "code",
   "execution_count": null,
   "metadata": {},
   "outputs": [],
   "source": []
  },
  {
   "cell_type": "code",
   "execution_count": 45,
   "metadata": {},
   "outputs": [],
   "source": [
    "y = pd.DataFrame(to_aggregate.groupby(INITIALDATEREPORTED_COLUMN)\n",
    "                                               .agg({CHEMICALCOUNT_COLUMN : 'sum'}))"
   ]
  },
  {
   "cell_type": "code",
   "execution_count": 59,
   "metadata": {},
   "outputs": [
    {
     "name": "stderr",
     "output_type": "stream",
     "text": [
      "/home/jmssalas/anaconda3/lib/python3.7/site-packages/statsmodels/tsa/base/tsa_model.py:225: ValueWarning:\n",
      "\n",
      "A date index has been provided, but it has no associated frequency information and so will be ignored when e.g. forecasting.\n",
      "\n"
     ]
    },
    {
     "name": "stdout",
     "output_type": "stream",
     "text": [
      "InitialDateReported\n",
      "2009-07-01      0.000000\n",
      "2009-07-09      6.004995\n",
      "2009-07-13     -1.746975\n",
      "2009-07-14      7.385601\n",
      "2009-08-10     22.754874\n",
      "2009-08-11      2.714339\n",
      "2009-08-16      1.450073\n",
      "2009-08-18      9.438886\n",
      "2009-08-21      0.586820\n",
      "2009-08-24      6.706012\n",
      "2009-08-25     12.089746\n",
      "2009-08-26    145.295817\n",
      "2009-08-27     29.103116\n",
      "2009-08-28     72.355696\n",
      "2009-08-31     33.871999\n",
      "2009-09-01     50.818523\n",
      "2009-09-02     67.122079\n",
      "2009-09-03     85.214087\n",
      "2009-09-04     69.737046\n",
      "2009-09-07     50.736538\n",
      "2009-09-08    540.300106\n",
      "2009-09-09     35.144306\n",
      "2009-09-10    121.284828\n",
      "2009-09-11    121.939234\n",
      "2009-09-14    725.601047\n",
      "2009-09-15    139.470189\n",
      "2009-09-16    255.308541\n",
      "2009-09-17    420.721316\n",
      "2009-09-18    171.359608\n",
      "2009-09-19    133.392657\n",
      "                 ...    \n",
      "2018-12-29     58.003863\n",
      "2018-12-30     18.511220\n",
      "2018-12-31     10.618548\n",
      "2019-01-01     87.090655\n",
      "2019-01-02     -1.092168\n",
      "2019-01-03     11.354449\n",
      "2019-01-04    179.692841\n",
      "2019-01-06     52.619184\n",
      "2019-01-07      3.654919\n",
      "2019-01-08     24.360447\n",
      "2019-01-09     41.044064\n",
      "2019-01-10     11.100422\n",
      "2019-01-11     43.208217\n",
      "2019-01-14     23.631265\n",
      "2019-01-15     21.281259\n",
      "2019-01-16     17.901394\n",
      "2019-01-17     30.582977\n",
      "2019-01-18     92.544448\n",
      "2019-01-21     22.293764\n",
      "2019-01-22      8.714585\n",
      "2019-01-23     30.467522\n",
      "2019-01-24      8.370271\n",
      "2019-01-25     57.417377\n",
      "2019-01-29     89.568669\n",
      "2019-01-30     38.295035\n",
      "2019-01-31     34.825942\n",
      "2019-02-01     46.664158\n",
      "2019-02-04     87.203830\n",
      "2019-02-05      1.763507\n",
      "2019-02-06     35.827649\n",
      "Length: 1855, dtype: float64\n"
     ]
    }
   ],
   "source": [
    "from statsmodels.tsa.statespace.sarimax import SARIMAX\n",
    "from random import random\n",
    "# contrived dataset\n",
    "data = y\n",
    "# fit model\n",
    "model = SARIMAX(data, order=(1, 1, 1), seasonal_order=(1, 1, 1, 1))\n",
    "model_fit = model.fit(disp=False)\n",
    "# make prediction\n",
    "yhat = model_fit.predict()\n",
    "print(yhat)"
   ]
  },
  {
   "cell_type": "code",
   "execution_count": 50,
   "metadata": {},
   "outputs": [
    {
     "data": {
      "text/plain": [
       "1855"
      ]
     },
     "execution_count": 50,
     "metadata": {},
     "output_type": "execute_result"
    }
   ],
   "source": [
    "len(data)"
   ]
  },
  {
   "cell_type": "code",
   "execution_count": null,
   "metadata": {},
   "outputs": [],
   "source": []
  },
  {
   "cell_type": "code",
   "execution_count": null,
   "metadata": {},
   "outputs": [],
   "source": []
  },
  {
   "cell_type": "code",
   "execution_count": null,
   "metadata": {},
   "outputs": [],
   "source": [
    "# Let's plot a histogram of CASID_COLUMN\n",
    "data_plot = [\n",
    "    go.Scatter(\n",
    "        x = data_initialdate[INITIALDATEREPORTED_COLUMN].apply(lambda x: datetime.datetime.strftime(x, '%Y-%m-%d')).values,\n",
    "        y = data_initialdate[CHEMICALCOUNT_COLUMN].values,\n",
    "        name = 'Initial Date Reported'\n",
    "    )#,\n",
    "#    go.Scatter(\n",
    "#        x = data_mostrecentdate[MOSTRECENTDATEREPORTED_COLUMN].apply(lambda x: datetime.datetime.strftime(x, '%Y-%m-%d')).values,\n",
    "#        y = data_mostrecentdate[CHEMICALCOUNT_COLUMN].values,\n",
    "#        name = 'Most Recent Date Reported'\n",
    "#    ),\n",
    "#    go.Scatter(\n",
    "#        x = data_updatedat[CHEMICALUPDATEDAT_COLUMN].apply(lambda x: datetime.datetime.strftime(x, '%Y-%m-%d')).values,\n",
    "#        y = data_updatedat[CHEMICALCOUNT_COLUMN].values,\n",
    "#        name = 'Chemical Updated At'\n",
    "#    )\n",
    "]\n",
    "\n",
    "layout = go.Layout(\n",
    "    title='Chemical Count in Cosmetic Products',\n",
    "    xaxis=dict(\n",
    "        title='Date'\n",
    "    ),\n",
    "    yaxis=dict(\n",
    "        title='Chemical Count'\n",
    "    ),\n",
    "    showlegend = True,\n",
    "    plot_bgcolor='rgba(240,240,240, 0.95)'\n",
    ")\n",
    "\n",
    "fig = go.Figure(data=data_plot, layout=layout)\n",
    "offline.iplot(fig)\n",
    "#pio.write_image(fig, get_path('histogram_casid_basic'))\n",
    "#Image(get_path('histogram_casid_basic'))"
   ]
  },
  {
   "cell_type": "code",
   "execution_count": null,
   "metadata": {},
   "outputs": [],
   "source": []
  },
  {
   "cell_type": "code",
   "execution_count": null,
   "metadata": {},
   "outputs": [],
   "source": []
  },
  {
   "cell_type": "code",
   "execution_count": null,
   "metadata": {},
   "outputs": [],
   "source": []
  },
  {
   "cell_type": "code",
   "execution_count": null,
   "metadata": {},
   "outputs": [],
   "source": []
  },
  {
   "cell_type": "code",
   "execution_count": null,
   "metadata": {},
   "outputs": [],
   "source": []
  },
  {
   "cell_type": "code",
   "execution_count": null,
   "metadata": {},
   "outputs": [],
   "source": []
  },
  {
   "cell_type": "code",
   "execution_count": null,
   "metadata": {},
   "outputs": [],
   "source": []
  },
  {
   "cell_type": "code",
   "execution_count": null,
   "metadata": {},
   "outputs": [],
   "source": []
  },
  {
   "cell_type": "code",
   "execution_count": null,
   "metadata": {},
   "outputs": [],
   "source": []
  },
  {
   "cell_type": "code",
   "execution_count": null,
   "metadata": {},
   "outputs": [],
   "source": []
  },
  {
   "cell_type": "code",
   "execution_count": null,
   "metadata": {},
   "outputs": [],
   "source": []
  },
  {
   "cell_type": "code",
   "execution_count": null,
   "metadata": {},
   "outputs": [],
   "source": []
  },
  {
   "cell_type": "code",
   "execution_count": null,
   "metadata": {},
   "outputs": [],
   "source": []
  },
  {
   "cell_type": "code",
   "execution_count": null,
   "metadata": {},
   "outputs": [],
   "source": []
  },
  {
   "cell_type": "code",
   "execution_count": null,
   "metadata": {},
   "outputs": [],
   "source": []
  },
  {
   "cell_type": "code",
   "execution_count": null,
   "metadata": {},
   "outputs": [],
   "source": []
  },
  {
   "cell_type": "code",
   "execution_count": null,
   "metadata": {},
   "outputs": [],
   "source": []
  },
  {
   "cell_type": "code",
   "execution_count": null,
   "metadata": {},
   "outputs": [],
   "source": []
  },
  {
   "cell_type": "code",
   "execution_count": null,
   "metadata": {},
   "outputs": [],
   "source": []
  },
  {
   "cell_type": "code",
   "execution_count": null,
   "metadata": {},
   "outputs": [],
   "source": []
  },
  {
   "cell_type": "code",
   "execution_count": null,
   "metadata": {},
   "outputs": [],
   "source": []
  },
  {
   "cell_type": "code",
   "execution_count": null,
   "metadata": {},
   "outputs": [],
   "source": []
  },
  {
   "cell_type": "code",
   "execution_count": null,
   "metadata": {},
   "outputs": [],
   "source": []
  },
  {
   "cell_type": "code",
   "execution_count": null,
   "metadata": {},
   "outputs": [],
   "source": []
  },
  {
   "cell_type": "code",
   "execution_count": null,
   "metadata": {},
   "outputs": [],
   "source": []
  },
  {
   "cell_type": "code",
   "execution_count": null,
   "metadata": {},
   "outputs": [],
   "source": []
  },
  {
   "cell_type": "code",
   "execution_count": null,
   "metadata": {},
   "outputs": [],
   "source": []
  },
  {
   "cell_type": "code",
   "execution_count": null,
   "metadata": {},
   "outputs": [],
   "source": []
  },
  {
   "cell_type": "code",
   "execution_count": null,
   "metadata": {},
   "outputs": [],
   "source": []
  },
  {
   "cell_type": "code",
   "execution_count": null,
   "metadata": {},
   "outputs": [],
   "source": []
  },
  {
   "cell_type": "code",
   "execution_count": null,
   "metadata": {},
   "outputs": [],
   "source": []
  },
  {
   "cell_type": "code",
   "execution_count": null,
   "metadata": {},
   "outputs": [],
   "source": []
  },
  {
   "cell_type": "code",
   "execution_count": null,
   "metadata": {},
   "outputs": [],
   "source": []
  },
  {
   "cell_type": "code",
   "execution_count": null,
   "metadata": {},
   "outputs": [],
   "source": []
  },
  {
   "cell_type": "code",
   "execution_count": null,
   "metadata": {},
   "outputs": [],
   "source": []
  },
  {
   "cell_type": "code",
   "execution_count": null,
   "metadata": {},
   "outputs": [],
   "source": []
  },
  {
   "cell_type": "code",
   "execution_count": null,
   "metadata": {},
   "outputs": [],
   "source": []
  },
  {
   "cell_type": "code",
   "execution_count": null,
   "metadata": {},
   "outputs": [],
   "source": []
  },
  {
   "cell_type": "code",
   "execution_count": null,
   "metadata": {},
   "outputs": [],
   "source": []
  },
  {
   "cell_type": "code",
   "execution_count": null,
   "metadata": {},
   "outputs": [],
   "source": []
  },
  {
   "cell_type": "code",
   "execution_count": null,
   "metadata": {},
   "outputs": [],
   "source": []
  },
  {
   "cell_type": "code",
   "execution_count": null,
   "metadata": {},
   "outputs": [],
   "source": []
  },
  {
   "cell_type": "code",
   "execution_count": null,
   "metadata": {},
   "outputs": [],
   "source": []
  },
  {
   "cell_type": "code",
   "execution_count": null,
   "metadata": {},
   "outputs": [],
   "source": []
  },
  {
   "cell_type": "code",
   "execution_count": null,
   "metadata": {},
   "outputs": [],
   "source": []
  },
  {
   "cell_type": "code",
   "execution_count": null,
   "metadata": {},
   "outputs": [],
   "source": []
  },
  {
   "cell_type": "code",
   "execution_count": null,
   "metadata": {},
   "outputs": [],
   "source": []
  },
  {
   "cell_type": "code",
   "execution_count": null,
   "metadata": {},
   "outputs": [],
   "source": []
  },
  {
   "cell_type": "code",
   "execution_count": null,
   "metadata": {},
   "outputs": [],
   "source": []
  },
  {
   "cell_type": "code",
   "execution_count": null,
   "metadata": {},
   "outputs": [],
   "source": []
  },
  {
   "cell_type": "code",
   "execution_count": null,
   "metadata": {},
   "outputs": [],
   "source": []
  },
  {
   "cell_type": "code",
   "execution_count": null,
   "metadata": {},
   "outputs": [],
   "source": []
  },
  {
   "cell_type": "code",
   "execution_count": null,
   "metadata": {},
   "outputs": [],
   "source": []
  },
  {
   "cell_type": "code",
   "execution_count": null,
   "metadata": {},
   "outputs": [],
   "source": []
  },
  {
   "cell_type": "code",
   "execution_count": null,
   "metadata": {},
   "outputs": [],
   "source": []
  },
  {
   "cell_type": "code",
   "execution_count": null,
   "metadata": {},
   "outputs": [],
   "source": []
  },
  {
   "cell_type": "code",
   "execution_count": null,
   "metadata": {},
   "outputs": [],
   "source": []
  },
  {
   "cell_type": "code",
   "execution_count": null,
   "metadata": {},
   "outputs": [],
   "source": []
  },
  {
   "cell_type": "code",
   "execution_count": null,
   "metadata": {},
   "outputs": [],
   "source": []
  },
  {
   "cell_type": "code",
   "execution_count": null,
   "metadata": {},
   "outputs": [],
   "source": []
  },
  {
   "cell_type": "code",
   "execution_count": null,
   "metadata": {},
   "outputs": [],
   "source": []
  },
  {
   "cell_type": "code",
   "execution_count": null,
   "metadata": {},
   "outputs": [],
   "source": []
  },
  {
   "cell_type": "code",
   "execution_count": null,
   "metadata": {},
   "outputs": [],
   "source": []
  },
  {
   "cell_type": "code",
   "execution_count": null,
   "metadata": {},
   "outputs": [],
   "source": []
  },
  {
   "cell_type": "code",
   "execution_count": null,
   "metadata": {},
   "outputs": [],
   "source": []
  },
  {
   "cell_type": "code",
   "execution_count": null,
   "metadata": {},
   "outputs": [],
   "source": []
  },
  {
   "cell_type": "code",
   "execution_count": null,
   "metadata": {},
   "outputs": [],
   "source": []
  },
  {
   "cell_type": "code",
   "execution_count": null,
   "metadata": {},
   "outputs": [],
   "source": []
  },
  {
   "cell_type": "code",
   "execution_count": null,
   "metadata": {},
   "outputs": [],
   "source": []
  },
  {
   "cell_type": "code",
   "execution_count": null,
   "metadata": {},
   "outputs": [],
   "source": []
  },
  {
   "cell_type": "code",
   "execution_count": null,
   "metadata": {},
   "outputs": [],
   "source": []
  },
  {
   "cell_type": "code",
   "execution_count": null,
   "metadata": {},
   "outputs": [],
   "source": []
  },
  {
   "cell_type": "code",
   "execution_count": null,
   "metadata": {},
   "outputs": [],
   "source": []
  },
  {
   "cell_type": "code",
   "execution_count": null,
   "metadata": {},
   "outputs": [],
   "source": []
  }
 ],
 "metadata": {
  "kernelspec": {
   "display_name": "Python 3",
   "language": "python",
   "name": "python3"
  },
  "language_info": {
   "codemirror_mode": {
    "name": "ipython",
    "version": 3
   },
   "file_extension": ".py",
   "mimetype": "text/x-python",
   "name": "python",
   "nbconvert_exporter": "python",
   "pygments_lexer": "ipython3",
   "version": "3.7.2"
  }
 },
 "nbformat": 4,
 "nbformat_minor": 2
}
