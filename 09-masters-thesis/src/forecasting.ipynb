{
 "cells": [
  {
   "cell_type": "markdown",
   "metadata": {},
   "source": [
    "# Analysis of Chemicals in Cosmetic Products\n",
    "# Forecasting\n",
    "___"
   ]
  },
  {
   "cell_type": "markdown",
   "metadata": {},
   "source": [
    "Some steps and codes of this notebook is based on the tutorial `Time Series Forecast Study with Python: Monthly Sales of French Champagne` (https://machinelearningmastery.com/time-series-forecast-study-python-monthly-sales-french-champagne/)"
   ]
  },
  {
   "cell_type": "markdown",
   "metadata": {},
   "source": [
    "## 1. Load data and Creation of Validation Dataset"
   ]
  },
  {
   "cell_type": "markdown",
   "metadata": {},
   "source": [
    "#### Import libraries"
   ]
  },
  {
   "cell_type": "code",
   "execution_count": 1,
   "metadata": {},
   "outputs": [
    {
     "name": "stdout",
     "output_type": "stream",
     "text": [
      "Using matplotlib backend: Qt5Agg\n",
      "Populating the interactive namespace from numpy and matplotlib\n"
     ]
    }
   ],
   "source": [
    "%pylab\n",
    "%matplotlib inline\n",
    "\n",
    "%config InlineBackend.figure_format = 'retina'\n",
    "\n",
    "import os\n",
    "import sys\n",
    "import numpy    as np\n",
    "import pandas   as pd\n",
    "import datetime\n",
    "import warnings\n",
    "\n",
    "from matplotlib                   import pyplot\n",
    "from dateutil.relativedelta       import relativedelta\n",
    "from statsmodels.tsa.arima_model  import ARIMA\n",
    "from sklearn.metrics              import mean_squared_error\n",
    "from math                         import sqrt"
   ]
  },
  {
   "cell_type": "markdown",
   "metadata": {},
   "source": [
    "#### Declare constants "
   ]
  },
  {
   "cell_type": "code",
   "execution_count": 2,
   "metadata": {},
   "outputs": [],
   "source": [
    "# Variables with the names of each column in data\n",
    "CDPHID_COLUMN                 = 'CDPHId'\n",
    "PRODUCTNAME_COLUMN            = 'ProductName'\n",
    "CSFID_COLUMN                  = 'CSFId'\n",
    "CSF_COLUMN                    = 'CSF'\n",
    "COMPANYID_COLUMN              = 'CompanyId'\n",
    "COMPANYNAME_COLUMN            = 'CompanyName'\n",
    "BRANDNAME_COLUMN              = 'BrandName'\n",
    "PRIMARYCATEGORYID_COLUMN      = 'PrimaryCategoryId'\n",
    "PRIMARYCATEGORY_COLUMN        = 'PrimaryCategory'\n",
    "SUBCATEGORYID_COLUMN          = 'SubCategoryId'\n",
    "SUBCATEGORY_COLUMN            = 'SubCategory'\n",
    "CASID_COLUMN                  = 'CasId'\n",
    "CASNUMBER_COLUMN              = 'CasNumber'\n",
    "CHEMICALID_COLUMN             = 'ChemicalId'\n",
    "CHEMICALNAME_COLUMN           = 'ChemicalName'\n",
    "INITIALDATEREPORTED_COLUMN    = 'InitialDateReported'\n",
    "MOSTRECENTDATEREPORTED_COLUMN = 'MostRecentDateReported'\n",
    "DISCONTINUEDDATE_COLUMN       = 'DiscontinuedDate'\n",
    "CHEMICALCREATEDAT_COLUMN      = 'ChemicalCreatedAt'\n",
    "CHEMICALUPDATEDAT_COLUMN      = 'ChemicalUpdatedAt'\n",
    "CHEMICALDATEREMOVED_COLUMN    = 'ChemicalDateRemoved'\n",
    "CHEMICALCOUNT_COLUMN          = 'ChemicalCount'\n",
    "\n",
    "# Number to replace empty value in CSFId column\n",
    "CSFID_EMPTY_NUMBER  = -1\n",
    "# Date value which means NaT \n",
    "NAT_DATE            = datetime.date(1900,1,1)\n",
    "\n",
    "# List of columns which contains a Names\n",
    "list_names = [ PRODUCTNAME_COLUMN, CSF_COLUMN, COMPANYNAME_COLUMN, BRANDNAME_COLUMN, \n",
    "               PRIMARYCATEGORY_COLUMN, SUBCATEGORY_COLUMN, CHEMICALNAME_COLUMN ]\n",
    "\n",
    "# List of columns which contains a Dates\n",
    "list_dates = [ INITIALDATEREPORTED_COLUMN, MOSTRECENTDATEREPORTED_COLUMN, DISCONTINUEDDATE_COLUMN,\n",
    "               CHEMICALCREATEDAT_COLUMN, CHEMICALUPDATEDAT_COLUMN, CHEMICALDATEREMOVED_COLUMN ]\n",
    "\n",
    "# Other columns\n",
    "list_ids   = [ CDPHID_COLUMN, CSFID_COLUMN, COMPANYID_COLUMN, PRIMARYCATEGORYID_COLUMN, \n",
    "               SUBCATEGORYID_COLUMN, CASID_COLUMN, CHEMICALID_COLUMN ]\n",
    "\n",
    "# Path to save the images\n",
    "IMAGES_PATH   = 'img'\n",
    "\n",
    "# Format of images\n",
    "IMAGES_FORMAT = '.png'\n",
    "\n",
    "# Path where is the dataset\n",
    "DATA_PATH = 'data'\n",
    "\n",
    "# Path where is the backup dataset\n",
    "DATA_BACKUP_PATH = 'data_backup'\n",
    "\n",
    "# File name of dataset\n",
    "DATA_NAME = 'cscpopendata.csv'"
   ]
  },
  {
   "cell_type": "markdown",
   "metadata": {},
   "source": [
    "---"
   ]
  },
  {
   "cell_type": "markdown",
   "metadata": {},
   "source": [
    "### 1.1. Load data"
   ]
  },
  {
   "cell_type": "markdown",
   "metadata": {},
   "source": [
    "#### From data/ folder "
   ]
  },
  {
   "cell_type": "code",
   "execution_count": 3,
   "metadata": {},
   "outputs": [],
   "source": [
    "# Load data from data/ folder\n",
    "data = pd.read_csv(os.path.join(DATA_PATH, DATA_NAME), sep = ',', parse_dates = list_dates)\n",
    "\n",
    "# pd.isna() --> for NaN\n",
    "# <value> is pd.NaT --> for NaT\n",
    "\n",
    "# Fill NaT with 01/01/1900\n",
    "for date_column in list_dates :\n",
    "    data[date_column] = data[date_column].apply(lambda x: NAT_DATE if x is pd.NaT else x)\n",
    "    \n",
    "\n",
    "# Fill NA with ''\n",
    "data = data.fillna('')\n",
    "\n",
    "# Fill CSFId empty with -1\n",
    "data[CSFID_COLUMN] = data[CSFID_COLUMN].apply(lambda x: x if x != \"\" else CSFID_EMPTY_NUMBER)\n",
    "\n",
    "# Remove all rows that have a cosmetic product discontinued\n",
    "data = data[data[DISCONTINUEDDATE_COLUMN].apply(lambda x: x.year) == NAT_DATE.year]\n",
    "\n",
    "# Remove all rows that have a chemical removed\n",
    "data = data[data[CHEMICALDATEREMOVED_COLUMN].apply(lambda x: x.year) == NAT_DATE.year]\n",
    "\n",
    "# Group by InitialDateReported and sum ChemicalCount\n",
    "data = pd.DataFrame(data.groupby(INITIALDATEREPORTED_COLUMN)\n",
    "                    .agg({CHEMICALCOUNT_COLUMN : 'sum'}))"
   ]
  },
  {
   "cell_type": "markdown",
   "metadata": {},
   "source": [
    "#### From data_backup/ folder "
   ]
  },
  {
   "cell_type": "code",
   "execution_count": 4,
   "metadata": {},
   "outputs": [],
   "source": [
    "# Load data from data_backup/ folder\n",
    "data_backup = pd.read_csv(os.path.join(DATA_BACKUP_PATH, DATA_NAME), sep = ',', parse_dates = list_dates)"
   ]
  },
  {
   "cell_type": "markdown",
   "metadata": {},
   "source": [
    "---"
   ]
  },
  {
   "cell_type": "markdown",
   "metadata": {},
   "source": [
    "### 1.2. Creation of Validation Dataset"
   ]
  },
  {
   "cell_type": "markdown",
   "metadata": {},
   "source": [
    "As the dataset is updated frequently, we are going to use it to create a validation dataset with the new data. We storage two data version: \n",
    "\n",
    "- The last data version in `data/` folder.\n",
    "- The previous data version in `data_backup/` folder.\n",
    "\n",
    "With that, we are going to split data as following:\n",
    "\n",
    "- `dataset` variable will be the dataset with we are going to fit the model. This dataset will contain all data until the 5 previous months from the current month. Meaning, if the current month is 02/19 (Feb, 2019), this dataset will be contain all data until the month 09/18 (Sept, 2018): the last date in dataset will be 31/08/18 (Aug 31, 2018).\n",
    "- `validation` variable will be the dataset with we are going to validate the model. This dataset will contain the rest of data.\n",
    "\n",
    "Let's create both datasets:"
   ]
  },
  {
   "cell_type": "code",
   "execution_count": 5,
   "metadata": {},
   "outputs": [
    {
     "name": "stdout",
     "output_type": "stream",
     "text": [
      "data        | Max InitialDateReported =  2019-02-21 00:00:00\n",
      "data_backup | Max InitialDateReported =  2019-02-06 00:00:00\n"
     ]
    }
   ],
   "source": [
    "# Get the max InitialDateReported from data\n",
    "data_max = max(data.index)\n",
    "\n",
    "# Get the max InitialDateReported from data_backup\n",
    "data_backup_max = max(data_backup[INITIALDATEREPORTED_COLUMN])\n",
    "\n",
    "print('data        | Max InitialDateReported = ', data_max)\n",
    "print('data_backup | Max InitialDateReported = ', data_backup_max)"
   ]
  },
  {
   "cell_type": "code",
   "execution_count": 6,
   "metadata": {},
   "outputs": [
    {
     "name": "stdout",
     "output_type": "stream",
     "text": [
      "Current month = 2019-02-01 00:00:00\n",
      "Dataset limit = 2018-09-01 00:00:00\n"
     ]
    }
   ],
   "source": [
    "# Set the dataset_limit\n",
    "dataset_limit = datetime.datetime(data_backup_max.year, data_backup_max.month, 1) - relativedelta(months=5)\n",
    "\n",
    "print('Current month =', datetime.datetime(data_backup_max.year, data_backup_max.month, 1))\n",
    "print('Dataset limit =', dataset_limit)"
   ]
  },
  {
   "cell_type": "code",
   "execution_count": 74,
   "metadata": {},
   "outputs": [
    {
     "name": "stdout",
     "output_type": "stream",
     "text": [
      "Len(dataset) = 1749\n",
      "Len(validation) = 114\n"
     ]
    }
   ],
   "source": [
    "# Set the datasets with the dataset_limit\n",
    "dataset = data[data.index < dataset_limit]\n",
    "validation = data[data.index >= dataset_limit]\n",
    "\n",
    "print('Len(dataset) =', len(dataset))\n",
    "print('Len(validation) =', len(validation))"
   ]
  },
  {
   "cell_type": "markdown",
   "metadata": {},
   "source": [
    "Our current datetime data can be tricky to work with, therefore, we will use the averages daily chemical count for that month instead, and we are using the start of each month as the timestamp."
   ]
  },
  {
   "cell_type": "code",
   "execution_count": 75,
   "metadata": {},
   "outputs": [
    {
     "data": {
      "text/html": [
       "<div>\n",
       "<style scoped>\n",
       "    .dataframe tbody tr th:only-of-type {\n",
       "        vertical-align: middle;\n",
       "    }\n",
       "\n",
       "    .dataframe tbody tr th {\n",
       "        vertical-align: top;\n",
       "    }\n",
       "\n",
       "    .dataframe thead th {\n",
       "        text-align: right;\n",
       "    }\n",
       "</style>\n",
       "<table border=\"1\" class=\"dataframe\">\n",
       "  <thead>\n",
       "    <tr style=\"text-align: right;\">\n",
       "      <th></th>\n",
       "      <th>ChemicalCount</th>\n",
       "    </tr>\n",
       "    <tr>\n",
       "      <th>InitialDateReported</th>\n",
       "      <th></th>\n",
       "    </tr>\n",
       "  </thead>\n",
       "  <tbody>\n",
       "    <tr>\n",
       "      <th>2009-07-01</th>\n",
       "      <td>4</td>\n",
       "    </tr>\n",
       "    <tr>\n",
       "      <th>2009-07-09</th>\n",
       "      <td>1</td>\n",
       "    </tr>\n",
       "    <tr>\n",
       "      <th>2009-07-13</th>\n",
       "      <td>6</td>\n",
       "    </tr>\n",
       "    <tr>\n",
       "      <th>2009-07-14</th>\n",
       "      <td>18</td>\n",
       "    </tr>\n",
       "    <tr>\n",
       "      <th>2009-08-10</th>\n",
       "      <td>4</td>\n",
       "    </tr>\n",
       "  </tbody>\n",
       "</table>\n",
       "</div>"
      ],
      "text/plain": [
       "                     ChemicalCount\n",
       "InitialDateReported               \n",
       "2009-07-01                       4\n",
       "2009-07-09                       1\n",
       "2009-07-13                       6\n",
       "2009-07-14                      18\n",
       "2009-08-10                       4"
      ]
     },
     "execution_count": 75,
     "metadata": {},
     "output_type": "execute_result"
    }
   ],
   "source": [
    "dataset.head()"
   ]
  },
  {
   "cell_type": "code",
   "execution_count": 78,
   "metadata": {},
   "outputs": [
    {
     "name": "stdout",
     "output_type": "stream",
     "text": [
      "Len(dataset) = 223\n",
      "Len(validation) = 12\n"
     ]
    },
    {
     "data": {
      "text/html": [
       "<div>\n",
       "<style scoped>\n",
       "    .dataframe tbody tr th:only-of-type {\n",
       "        vertical-align: middle;\n",
       "    }\n",
       "\n",
       "    .dataframe tbody tr th {\n",
       "        vertical-align: top;\n",
       "    }\n",
       "\n",
       "    .dataframe thead th {\n",
       "        text-align: right;\n",
       "    }\n",
       "</style>\n",
       "<table border=\"1\" class=\"dataframe\">\n",
       "  <thead>\n",
       "    <tr style=\"text-align: right;\">\n",
       "      <th></th>\n",
       "      <th>ChemicalCount</th>\n",
       "    </tr>\n",
       "    <tr>\n",
       "      <th>InitialDateReported</th>\n",
       "      <th></th>\n",
       "    </tr>\n",
       "  </thead>\n",
       "  <tbody>\n",
       "    <tr>\n",
       "      <th>2009-07-01</th>\n",
       "      <td>7.250000</td>\n",
       "    </tr>\n",
       "    <tr>\n",
       "      <th>2009-07-29</th>\n",
       "      <td>2.500000</td>\n",
       "    </tr>\n",
       "    <tr>\n",
       "      <th>2009-08-12</th>\n",
       "      <td>38.125000</td>\n",
       "    </tr>\n",
       "    <tr>\n",
       "      <th>2009-08-26</th>\n",
       "      <td>194.800000</td>\n",
       "    </tr>\n",
       "    <tr>\n",
       "      <th>2009-09-09</th>\n",
       "      <td>201.692308</td>\n",
       "    </tr>\n",
       "  </tbody>\n",
       "</table>\n",
       "</div>"
      ],
      "text/plain": [
       "                     ChemicalCount\n",
       "InitialDateReported               \n",
       "2009-07-01                7.250000\n",
       "2009-07-29                2.500000\n",
       "2009-08-12               38.125000\n",
       "2009-08-26              194.800000\n",
       "2009-09-09              201.692308"
      ]
     },
     "execution_count": 78,
     "metadata": {},
     "output_type": "execute_result"
    }
   ],
   "source": [
    "dataset = dataset.resample('7D').mean().dropna()\n",
    "validation = validation.resample('7D').mean().dropna()\n",
    "\n",
    "print('Len(dataset) =', len(dataset))\n",
    "print('Len(validation) =', len(validation))\n",
    "dataset.head()"
   ]
  },
  {
   "cell_type": "markdown",
   "metadata": {},
   "source": [
    "---"
   ]
  },
  {
   "cell_type": "markdown",
   "metadata": {},
   "source": [
    "## 2. Grid Search ARIMA Hyperparameters "
   ]
  },
  {
   "cell_type": "markdown",
   "metadata": {},
   "source": [
    "#### Functions definition "
   ]
  },
  {
   "cell_type": "code",
   "execution_count": 53,
   "metadata": {},
   "outputs": [],
   "source": [
    "# create a differenced series\n",
    "def difference(dataset, interval=1):\n",
    "    diff = list()\n",
    "    for i in range(interval, len(dataset)):\n",
    "        value = dataset[i] - dataset[i - interval]\n",
    "        diff.append(value)\n",
    "    return np.array(diff)\n",
    " \n",
    "# invert differenced value\n",
    "def inverse_difference(history, yhat, interval=1):\n",
    "    return yhat + history[-interval]\n",
    " \n",
    "# evaluate an ARIMA model for a given order (p,d,q) and return RMSE\n",
    "def evaluate_arima_model(X, arima_order):\n",
    "    # prepare training dataset\n",
    "    X = X.astype('float32')\n",
    "    train_size = int(len(X) * 0.50)\n",
    "    train, test = X[0:train_size], X[train_size:]\n",
    "    history = [x for x in train]\n",
    "    # make predictions\n",
    "    predictions = list()\n",
    "    for t in range(len(test)):\n",
    "        # difference data\n",
    "        months_in_year = 12\n",
    "        diff = difference(history, months_in_year)\n",
    "        model = ARIMA(diff, order=arima_order)\n",
    "        model_fit = model.fit(trend='nc', disp=0)\n",
    "        yhat = model_fit.forecast()[0]\n",
    "        yhat = inverse_difference(history, yhat, months_in_year)\n",
    "        predictions.append(yhat)\n",
    "        history.append(test[t])\n",
    "    # calculate out of sample error\n",
    "    mse = mean_squared_error(test, predictions)\n",
    "    rmse = sqrt(mse)\n",
    "    return rmse\n",
    " \n",
    "# evaluate combinations of p, d and q values for an ARIMA model\n",
    "def evaluate_models(dataset, p_values, d_values, q_values):\n",
    "    dataset = dataset.astype('float32')\n",
    "    best_score, best_cfg = float(\"inf\"), None\n",
    "    for p in p_values:\n",
    "        for d in d_values:\n",
    "            for q in q_values:\n",
    "                order = (p,d,q)\n",
    "                try:\n",
    "                    mse = evaluate_arima_model(dataset, order)\n",
    "                    if mse < best_score:\n",
    "                        best_score, best_cfg = mse, order\n",
    "                    print('ARIMA%s RMSE=%.3f' % (order,mse))\n",
    "                except:\n",
    "                    continue\n",
    "    print('Best ARIMA%s RMSE=%.3f' % (best_cfg, best_score))\n",
    "    return best_cfg"
   ]
  },
  {
   "cell_type": "markdown",
   "metadata": {},
   "source": [
    "---"
   ]
  },
  {
   "cell_type": "markdown",
   "metadata": {},
   "source": [
    "#### Search hyperparameters "
   ]
  },
  {
   "cell_type": "markdown",
   "metadata": {},
   "source": [
    "We will search all combinations of the following parameters:\n",
    "\n",
    "- p: 0 to 3.\n",
    "- d: 0 to 2.\n",
    "- q: 0 to 3.\n",
    "\n",
    "This is (4 * 3 * 4), or 48, potential runs of the test harness."
   ]
  },
  {
   "cell_type": "code",
   "execution_count": 61,
   "metadata": {
    "scrolled": true
   },
   "outputs": [
    {
     "name": "stdout",
     "output_type": "stream",
     "text": [
      "ARIMA(0, 0, 1) RMSE=91.902\n",
      "ARIMA(0, 0, 2) RMSE=92.984\n",
      "ARIMA(0, 1, 1) RMSE=90.804\n",
      "ARIMA(0, 1, 2) RMSE=92.524\n",
      "ARIMA(0, 1, 3) RMSE=93.346\n",
      "ARIMA(1, 0, 0) RMSE=86.997\n",
      "ARIMA(1, 0, 1) RMSE=92.028\n",
      "ARIMA(1, 0, 2) RMSE=92.981\n",
      "ARIMA(1, 0, 3) RMSE=92.815\n",
      "ARIMA(1, 1, 0) RMSE=100.235\n",
      "ARIMA(1, 1, 2) RMSE=92.225\n",
      "ARIMA(1, 1, 3) RMSE=93.281\n",
      "ARIMA(2, 0, 0) RMSE=90.863\n",
      "ARIMA(2, 0, 1) RMSE=92.133\n",
      "ARIMA(2, 0, 2) RMSE=91.906\n",
      "ARIMA(2, 0, 3) RMSE=93.240\n",
      "ARIMA(2, 1, 0) RMSE=103.707\n",
      "ARIMA(2, 1, 1) RMSE=91.945\n",
      "ARIMA(3, 0, 0) RMSE=92.944\n",
      "ARIMA(3, 0, 1) RMSE=92.836\n",
      "ARIMA(3, 0, 2) RMSE=93.646\n",
      "ARIMA(3, 1, 0) RMSE=100.337\n",
      "ARIMA(3, 1, 1) RMSE=93.139\n",
      "ARIMA(3, 1, 2) RMSE=91.102\n",
      "ARIMA(3, 1, 3) RMSE=90.299\n",
      "Best ARIMA(1, 0, 0) RMSE=86.997\n"
     ]
    }
   ],
   "source": [
    "# evaluate parameters\n",
    "p_values = range(0, 4)\n",
    "d_values = range(0, 2)\n",
    "q_values = range(0, 4)\n",
    "warnings.filterwarnings(\"ignore\")\n",
    "best_cfg = evaluate_models(dataset.values, p_values, d_values, q_values)"
   ]
  },
  {
   "cell_type": "markdown",
   "metadata": {},
   "source": [
    "We will select this ARIMA(1, 0, 0) model going forward."
   ]
  },
  {
   "cell_type": "markdown",
   "metadata": {},
   "source": [
    "---"
   ]
  },
  {
   "cell_type": "markdown",
   "metadata": {},
   "source": [
    "## 3. Review Residual Errors"
   ]
  },
  {
   "cell_type": "markdown",
   "metadata": {},
   "source": [
    "A good final check of a model is to review residual forecast errors.\n",
    "\n",
    "Ideally, the distribution of residual errors should be a Gaussian with a zero mean.\n",
    "\n",
    "We can check this by using summary statistics and plots to investigate the residual errors from the ARIMA(1, 0, 0) model. Let's calculate and summarize the residual forecast errors:"
   ]
  },
  {
   "cell_type": "code",
   "execution_count": 62,
   "metadata": {},
   "outputs": [
    {
     "name": "stdout",
     "output_type": "stream",
     "text": [
      "                0\n",
      "count  234.000000\n",
      "mean     1.468930\n",
      "std     87.171005\n",
      "min   -517.111450\n",
      "25%    -28.148905\n",
      "50%     -0.974329\n",
      "75%     22.583191\n",
      "max    572.245422\n"
     ]
    },
    {
     "data": {
      "image/png": "[encoded data removed]",
      "text/plain": [
       "<Figure size 432x288 with 2 Axes>"
      ]
     },
     "metadata": {
      "image/png": {
       "height": 263,
       "width": 407
      },
      "needs_background": "light"
     },
     "output_type": "display_data"
    }
   ],
   "source": [
    "# prepare data\n",
    "X = dataset.values\n",
    "X = X.astype('float32')\n",
    "train_size = int(len(X) * 0.50)\n",
    "train, test = X[0:train_size], X[train_size:]\n",
    "# walk-forward validation\n",
    "history = [x for x in train]\n",
    "predictions = list()\n",
    "for i in range(len(test)):\n",
    "    # difference data\n",
    "    months_in_year = 12\n",
    "    diff = difference(history, months_in_year)\n",
    "    # predict\n",
    "    model = ARIMA(diff, order=best_cfg)\n",
    "    model_fit = model.fit(trend='nc', disp=0)\n",
    "    yhat = model_fit.forecast()[0]\n",
    "    yhat = inverse_difference(history, yhat, months_in_year)\n",
    "    predictions.append(yhat)\n",
    "    # observation\n",
    "    obs = test[i]\n",
    "    history.append(obs)\n",
    "# errors\n",
    "residuals = [test[i]-predictions[i] for i in range(len(test))]\n",
    "residuals = pd.DataFrame(residuals)\n",
    "print(residuals.describe())\n",
    "# plot\n",
    "pyplot.figure()\n",
    "pyplot.subplot(211)\n",
    "residuals.hist(ax=pyplot.gca())\n",
    "pyplot.subplot(212)\n",
    "residuals.plot(kind='kde', ax=pyplot.gca())\n",
    "pyplot.show()"
   ]
  },
  {
   "cell_type": "markdown",
   "metadata": {},
   "source": [
    "The summary of the forecast residual errors shows that the mean was indeed moved to a value very close to zero. So, the predictions are not biased."
   ]
  },
  {
   "cell_type": "markdown",
   "metadata": {},
   "source": [
    "---"
   ]
  },
  {
   "cell_type": "markdown",
   "metadata": {},
   "source": [
    "## 4. Model Validation "
   ]
  },
  {
   "cell_type": "markdown",
   "metadata": {},
   "source": [
    "### 4.1. Finalize Model "
   ]
  },
  {
   "cell_type": "code",
   "execution_count": 63,
   "metadata": {},
   "outputs": [],
   "source": [
    "# prepare data\n",
    "X = dataset.values\n",
    "X = X.astype('float32')\n",
    "\n",
    "# difference data\n",
    "months_in_year = 12\n",
    "diff = difference(X, months_in_year)\n",
    "\n",
    "# fit model\n",
    "model = ARIMA(diff, order=best_cfg)\n",
    "model_fit = model.fit(trend='nc', disp=0)"
   ]
  },
  {
   "cell_type": "markdown",
   "metadata": {},
   "source": [
    "### 4.2. Make Prediction "
   ]
  },
  {
   "cell_type": "code",
   "execution_count": 64,
   "metadata": {},
   "outputs": [
    {
     "name": "stdout",
     "output_type": "stream",
     "text": [
      "Predicted: 70.676\n"
     ]
    }
   ],
   "source": [
    "yhat = float(model_fit.forecast()[0])\n",
    "yhat = inverse_difference(dataset.values, yhat, months_in_year)\n",
    "print('Predicted: %.3f' % yhat)"
   ]
  },
  {
   "cell_type": "code",
   "execution_count": 65,
   "metadata": {},
   "outputs": [
    {
     "data": {
      "text/plain": [
       "34.2"
      ]
     },
     "execution_count": 65,
     "metadata": {},
     "output_type": "execute_result"
    }
   ],
   "source": [
    "validation[CHEMICALCOUNT_COLUMN][0]"
   ]
  },
  {
   "cell_type": "code",
   "execution_count": null,
   "metadata": {},
   "outputs": [],
   "source": []
  },
  {
   "cell_type": "code",
   "execution_count": null,
   "metadata": {},
   "outputs": [],
   "source": []
  },
  {
   "cell_type": "code",
   "execution_count": 66,
   "metadata": {},
   "outputs": [
    {
     "name": "stdout",
     "output_type": "stream",
     "text": [
      ">Predicted=70.676, Expected= 34\n",
      ">Predicted=45.427, Expected= 45\n",
      ">Predicted=54.303, Expected=274\n",
      ">Predicted=176.014, Expected= 21\n",
      ">Predicted=84.851, Expected= 28\n",
      ">Predicted=127.601, Expected= 16\n",
      ">Predicted=-40.231, Expected= 32\n",
      ">Predicted=169.103, Expected=  6\n",
      ">Predicted=113.507, Expected= 20\n",
      ">Predicted=-9.896, Expected= 24\n",
      ">Predicted=-7.783, Expected= 38\n",
      ">Predicted=128.983, Expected= 20\n",
      ">Predicted=-12.371, Expected= 43\n",
      ">Predicted=49.168, Expected= 33\n",
      ">Predicted=268.317, Expected= 22\n",
      ">Predicted=-98.459, Expected= 47\n",
      ">Predicted=40.370, Expected= 56\n",
      ">Predicted=29.532, Expected= 65\n",
      ">Predicted=55.213, Expected= 32\n",
      ">Predicted=5.406, Expected= 44\n",
      ">Predicted=37.547, Expected=208\n",
      ">Predicted=112.715, Expected= 60\n",
      ">Predicted=55.422, Expected=125\n",
      ">Predicted=60.023, Expected= 30\n",
      ">Predicted=48.071, Expected= 10\n",
      "RMSE: 104.489\n"
     ]
    },
    {
     "data": {
      "image/png": "[encoded data removed]",
      "text/plain": [
       "<Figure size 432x288 with 1 Axes>"
      ]
     },
     "metadata": {
      "image/png": {
       "height": 250,
       "width": 387
      },
      "needs_background": "light"
     },
     "output_type": "display_data"
    }
   ],
   "source": [
    "# prepare datasets\n",
    "X = dataset.values.astype('float32')\n",
    "history = [x for x in X]\n",
    "months_in_year = 12\n",
    "y = validation.values.astype('float32')\n",
    "\n",
    "# make first prediction\n",
    "predictions = list()\n",
    "yhat = float(model_fit.forecast()[0])\n",
    "yhat = inverse_difference(history, yhat, months_in_year)\n",
    "predictions.append(yhat)\n",
    "history.append(y[0])\n",
    "print('>Predicted=%.3f, Expected=%3.f' % (yhat, y[0]))\n",
    "\n",
    "# rolling forecasts\n",
    "for i in range(1, len(y)):\n",
    "    # difference data\n",
    "    months_in_year = 12\n",
    "    diff = difference(history, months_in_year)\n",
    "    # predict\n",
    "    model = ARIMA(diff, order=best_cfg)\n",
    "    model_fit = model.fit(trend='nc', disp=0)\n",
    "    yhat = model_fit.forecast()[0]\n",
    "    yhat = inverse_difference(history, yhat, months_in_year)\n",
    "    predictions.append(yhat)\n",
    "    # observation\n",
    "    obs = y[i]\n",
    "    history.append(obs)\n",
    "    print('>Predicted=%.3f, Expected=%3.f' % (yhat, obs))\n",
    "    \n",
    "# report performance\n",
    "mse = mean_squared_error(y, predictions)\n",
    "rmse = sqrt(mse)\n",
    "print('RMSE: %.3f' % rmse)\n",
    "pyplot.plot(y)\n",
    "pyplot.plot(predictions, color='red')\n",
    "pyplot.show()"
   ]
  },
  {
   "cell_type": "code",
   "execution_count": null,
   "metadata": {},
   "outputs": [],
   "source": []
  },
  {
   "cell_type": "code",
   "execution_count": null,
   "metadata": {},
   "outputs": [],
   "source": []
  },
  {
   "cell_type": "code",
   "execution_count": null,
   "metadata": {},
   "outputs": [],
   "source": []
  },
  {
   "cell_type": "code",
   "execution_count": null,
   "metadata": {},
   "outputs": [],
   "source": []
  },
  {
   "cell_type": "code",
   "execution_count": null,
   "metadata": {},
   "outputs": [],
   "source": []
  },
  {
   "cell_type": "code",
   "execution_count": null,
   "metadata": {},
   "outputs": [],
   "source": []
  },
  {
   "cell_type": "code",
   "execution_count": null,
   "metadata": {},
   "outputs": [],
   "source": []
  },
  {
   "cell_type": "code",
   "execution_count": null,
   "metadata": {},
   "outputs": [],
   "source": []
  },
  {
   "cell_type": "code",
   "execution_count": null,
   "metadata": {},
   "outputs": [],
   "source": []
  },
  {
   "cell_type": "code",
   "execution_count": null,
   "metadata": {},
   "outputs": [],
   "source": []
  },
  {
   "cell_type": "code",
   "execution_count": null,
   "metadata": {},
   "outputs": [],
   "source": []
  },
  {
   "cell_type": "code",
   "execution_count": null,
   "metadata": {},
   "outputs": [],
   "source": []
  },
  {
   "cell_type": "code",
   "execution_count": null,
   "metadata": {},
   "outputs": [],
   "source": []
  },
  {
   "cell_type": "code",
   "execution_count": null,
   "metadata": {},
   "outputs": [],
   "source": []
  },
  {
   "cell_type": "code",
   "execution_count": null,
   "metadata": {},
   "outputs": [],
   "source": []
  },
  {
   "cell_type": "code",
   "execution_count": null,
   "metadata": {},
   "outputs": [],
   "source": []
  },
  {
   "cell_type": "code",
   "execution_count": null,
   "metadata": {},
   "outputs": [],
   "source": []
  },
  {
   "cell_type": "code",
   "execution_count": null,
   "metadata": {},
   "outputs": [],
   "source": []
  },
  {
   "cell_type": "code",
   "execution_count": null,
   "metadata": {},
   "outputs": [],
   "source": []
  },
  {
   "cell_type": "code",
   "execution_count": null,
   "metadata": {},
   "outputs": [],
   "source": []
  },
  {
   "cell_type": "code",
   "execution_count": null,
   "metadata": {},
   "outputs": [],
   "source": []
  },
  {
   "cell_type": "code",
   "execution_count": null,
   "metadata": {},
   "outputs": [],
   "source": []
  },
  {
   "cell_type": "code",
   "execution_count": null,
   "metadata": {},
   "outputs": [],
   "source": []
  },
  {
   "cell_type": "code",
   "execution_count": null,
   "metadata": {},
   "outputs": [],
   "source": []
  },
  {
   "cell_type": "code",
   "execution_count": null,
   "metadata": {},
   "outputs": [],
   "source": []
  },
  {
   "cell_type": "code",
   "execution_count": null,
   "metadata": {},
   "outputs": [],
   "source": []
  },
  {
   "cell_type": "code",
   "execution_count": null,
   "metadata": {},
   "outputs": [],
   "source": []
  },
  {
   "cell_type": "code",
   "execution_count": null,
   "metadata": {},
   "outputs": [],
   "source": []
  },
  {
   "cell_type": "code",
   "execution_count": null,
   "metadata": {},
   "outputs": [],
   "source": []
  },
  {
   "cell_type": "code",
   "execution_count": null,
   "metadata": {},
   "outputs": [],
   "source": []
  },
  {
   "cell_type": "code",
   "execution_count": null,
   "metadata": {},
   "outputs": [],
   "source": []
  },
  {
   "cell_type": "code",
   "execution_count": null,
   "metadata": {},
   "outputs": [],
   "source": []
  },
  {
   "cell_type": "code",
   "execution_count": null,
   "metadata": {},
   "outputs": [],
   "source": []
  },
  {
   "cell_type": "code",
   "execution_count": null,
   "metadata": {},
   "outputs": [],
   "source": []
  },
  {
   "cell_type": "code",
   "execution_count": null,
   "metadata": {},
   "outputs": [],
   "source": []
  },
  {
   "cell_type": "code",
   "execution_count": null,
   "metadata": {},
   "outputs": [],
   "source": []
  },
  {
   "cell_type": "code",
   "execution_count": null,
   "metadata": {},
   "outputs": [],
   "source": []
  },
  {
   "cell_type": "code",
   "execution_count": null,
   "metadata": {},
   "outputs": [],
   "source": []
  },
  {
   "cell_type": "code",
   "execution_count": null,
   "metadata": {},
   "outputs": [],
   "source": []
  },
  {
   "cell_type": "code",
   "execution_count": null,
   "metadata": {},
   "outputs": [],
   "source": []
  },
  {
   "cell_type": "code",
   "execution_count": null,
   "metadata": {},
   "outputs": [],
   "source": []
  },
  {
   "cell_type": "code",
   "execution_count": null,
   "metadata": {},
   "outputs": [],
   "source": []
  },
  {
   "cell_type": "code",
   "execution_count": null,
   "metadata": {},
   "outputs": [],
   "source": []
  },
  {
   "cell_type": "code",
   "execution_count": null,
   "metadata": {},
   "outputs": [],
   "source": []
  },
  {
   "cell_type": "code",
   "execution_count": null,
   "metadata": {},
   "outputs": [],
   "source": []
  },
  {
   "cell_type": "code",
   "execution_count": null,
   "metadata": {},
   "outputs": [],
   "source": []
  },
  {
   "cell_type": "code",
   "execution_count": null,
   "metadata": {},
   "outputs": [],
   "source": []
  },
  {
   "cell_type": "code",
   "execution_count": null,
   "metadata": {},
   "outputs": [],
   "source": []
  },
  {
   "cell_type": "code",
   "execution_count": null,
   "metadata": {},
   "outputs": [],
   "source": []
  },
  {
   "cell_type": "code",
   "execution_count": null,
   "metadata": {},
   "outputs": [],
   "source": []
  },
  {
   "cell_type": "code",
   "execution_count": null,
   "metadata": {},
   "outputs": [],
   "source": []
  },
  {
   "cell_type": "code",
   "execution_count": null,
   "metadata": {},
   "outputs": [],
   "source": []
  }
 ],
 "metadata": {
  "kernelspec": {
   "display_name": "Python 3",
   "language": "python",
   "name": "python3"
  },
  "language_info": {
   "codemirror_mode": {
    "name": "ipython",
    "version": 3
   },
   "file_extension": ".py",
   "mimetype": "text/x-python",
   "name": "python",
   "nbconvert_exporter": "python",
   "pygments_lexer": "ipython3",
   "version": "3.7.2"
  }
 },
 "nbformat": 4,
 "nbformat_minor": 2
}
