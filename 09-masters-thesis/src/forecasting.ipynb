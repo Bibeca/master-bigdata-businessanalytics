{
 "cells": [
  {
   "cell_type": "markdown",
   "metadata": {},
   "source": [
    "# Analysis of Chemicals in Cosmetic Products\n",
    "# Forecasting\n",
    "___"
   ]
  },
  {
   "cell_type": "markdown",
   "metadata": {},
   "source": [
    "## 1. Load data"
   ]
  },
  {
   "cell_type": "markdown",
   "metadata": {},
   "source": [
    "#### Import libraries"
   ]
  },
  {
   "cell_type": "code",
   "execution_count": 1,
   "metadata": {},
   "outputs": [
    {
     "name": "stdout",
     "output_type": "stream",
     "text": [
      "Using matplotlib backend: Qt5Agg\n",
      "Populating the interactive namespace from numpy and matplotlib\n"
     ]
    },
    {
     "data": {
      "text/html": [
       "<script type=\"text/javascript\">window.PlotlyConfig = {MathJaxConfig: 'local'};</script><script type=\"text/javascript\">if (window.MathJax) {MathJax.Hub.Config({SVG: {font: \"STIX-Web\"}});}</script><script>requirejs.config({paths: { 'plotly': ['https://cdn.plot.ly/plotly-latest.min']},});if(!window._Plotly) {require(['plotly'],function(plotly) {window._Plotly=plotly;});}</script>"
      ],
      "text/vnd.plotly.v1+html": [
       "<script type=\"text/javascript\">window.PlotlyConfig = {MathJaxConfig: 'local'};</script><script type=\"text/javascript\">if (window.MathJax) {MathJax.Hub.Config({SVG: {font: \"STIX-Web\"}});}</script><script>requirejs.config({paths: { 'plotly': ['https://cdn.plot.ly/plotly-latest.min']},});if(!window._Plotly) {require(['plotly'],function(plotly) {window._Plotly=plotly;});}</script>"
      ]
     },
     "metadata": {},
     "output_type": "display_data"
    }
   ],
   "source": [
    "%pylab\n",
    "%matplotlib inline\n",
    "\n",
    "%config InlineBackend.figure_format = 'retina'\n",
    "\n",
    "import os\n",
    "import sys\n",
    "import numpy    as np\n",
    "import pandas   as pd\n",
    "import datetime\n",
    "\n",
    "# Use Plotly for statistics graphics\n",
    "import plotly.plotly         as py\n",
    "import plotly.graph_objs     as go\n",
    "import plotly.offline        as offline\n",
    "import plotly.io             as pio\n",
    "\n",
    "# Set notebook mode = True\n",
    "offline.init_notebook_mode(connected=True)\n",
    "\n",
    "from sklearn.cluster       import KMeans\n",
    "from sklearn.metrics       import silhouette_score\n",
    "from sklearn.linear_model  import LinearRegression\n",
    "from IPython.display       import Image"
   ]
  },
  {
   "cell_type": "markdown",
   "metadata": {},
   "source": [
    "#### Declare constants "
   ]
  },
  {
   "cell_type": "code",
   "execution_count": 2,
   "metadata": {},
   "outputs": [],
   "source": [
    "# Variables with the names of each column in data\n",
    "CDPHID_COLUMN                 = 'CDPHId'\n",
    "PRODUCTNAME_COLUMN            = 'ProductName'\n",
    "CSFID_COLUMN                  = 'CSFId'\n",
    "CSF_COLUMN                    = 'CSF'\n",
    "COMPANYID_COLUMN              = 'CompanyId'\n",
    "COMPANYNAME_COLUMN            = 'CompanyName'\n",
    "BRANDNAME_COLUMN              = 'BrandName'\n",
    "PRIMARYCATEGORYID_COLUMN      = 'PrimaryCategoryId'\n",
    "PRIMARYCATEGORY_COLUMN        = 'PrimaryCategory'\n",
    "SUBCATEGORYID_COLUMN          = 'SubCategoryId'\n",
    "SUBCATEGORY_COLUMN            = 'SubCategory'\n",
    "CASID_COLUMN                  = 'CasId'\n",
    "CASNUMBER_COLUMN              = 'CasNumber'\n",
    "CHEMICALID_COLUMN             = 'ChemicalId'\n",
    "CHEMICALNAME_COLUMN           = 'ChemicalName'\n",
    "INITIALDATEREPORTED_COLUMN    = 'InitialDateReported'\n",
    "MOSTRECENTDATEREPORTED_COLUMN = 'MostRecentDateReported'\n",
    "DISCONTINUEDDATE_COLUMN       = 'DiscontinuedDate'\n",
    "CHEMICALCREATEDAT_COLUMN      = 'ChemicalCreatedAt'\n",
    "CHEMICALUPDATEDAT_COLUMN      = 'ChemicalUpdatedAt'\n",
    "CHEMICALDATEREMOVED_COLUMN    = 'ChemicalDateRemoved'\n",
    "CHEMICALCOUNT_COLUMN          = 'ChemicalCount'\n",
    "\n",
    "# Number to replace empty value in CSFId column\n",
    "CSFID_EMPTY_NUMBER  = -1\n",
    "# Date value which means NaT \n",
    "NAT_DATE            = datetime.date(1900,1,1)\n",
    "\n",
    "# List of columns which contains a Names\n",
    "list_names = [ PRODUCTNAME_COLUMN, CSF_COLUMN, COMPANYNAME_COLUMN, BRANDNAME_COLUMN, \n",
    "               PRIMARYCATEGORY_COLUMN, SUBCATEGORY_COLUMN, CHEMICALNAME_COLUMN ]\n",
    "\n",
    "# List of columns which contains a Dates\n",
    "list_dates = [ INITIALDATEREPORTED_COLUMN, MOSTRECENTDATEREPORTED_COLUMN, DISCONTINUEDDATE_COLUMN,\n",
    "               CHEMICALCREATEDAT_COLUMN, CHEMICALUPDATEDAT_COLUMN, CHEMICALDATEREMOVED_COLUMN ]\n",
    "\n",
    "# Other columns\n",
    "list_ids   = [ CDPHID_COLUMN, CSFID_COLUMN, COMPANYID_COLUMN, PRIMARYCATEGORYID_COLUMN, \n",
    "               SUBCATEGORYID_COLUMN, CASID_COLUMN, CHEMICALID_COLUMN ]\n",
    "\n",
    "# Path to save the images\n",
    "IMAGES_PATH   = 'img'\n",
    "\n",
    "# Format of images\n",
    "IMAGES_FORMAT = '.png'\n",
    "\n",
    "# Path where is the dataset\n",
    "DATA_PATH = 'data'\n",
    "\n",
    "# File name of dataset\n",
    "DATA_NAME = 'cscpopendata.csv'"
   ]
  },
  {
   "cell_type": "markdown",
   "metadata": {},
   "source": [
    "---"
   ]
  },
  {
   "cell_type": "markdown",
   "metadata": {},
   "source": [
    "#### Load data"
   ]
  },
  {
   "cell_type": "code",
   "execution_count": 3,
   "metadata": {},
   "outputs": [
    {
     "data": {
      "text/html": [
       "<div>\n",
       "<style scoped>\n",
       "    .dataframe tbody tr th:only-of-type {\n",
       "        vertical-align: middle;\n",
       "    }\n",
       "\n",
       "    .dataframe tbody tr th {\n",
       "        vertical-align: top;\n",
       "    }\n",
       "\n",
       "    .dataframe thead th {\n",
       "        text-align: right;\n",
       "    }\n",
       "</style>\n",
       "<table border=\"1\" class=\"dataframe\">\n",
       "  <thead>\n",
       "    <tr style=\"text-align: right;\">\n",
       "      <th></th>\n",
       "      <th>CDPHId</th>\n",
       "      <th>ProductName</th>\n",
       "      <th>CSFId</th>\n",
       "      <th>CSF</th>\n",
       "      <th>CompanyId</th>\n",
       "      <th>CompanyName</th>\n",
       "      <th>BrandName</th>\n",
       "      <th>PrimaryCategoryId</th>\n",
       "      <th>PrimaryCategory</th>\n",
       "      <th>SubCategoryId</th>\n",
       "      <th>...</th>\n",
       "      <th>CasNumber</th>\n",
       "      <th>ChemicalId</th>\n",
       "      <th>ChemicalName</th>\n",
       "      <th>InitialDateReported</th>\n",
       "      <th>MostRecentDateReported</th>\n",
       "      <th>DiscontinuedDate</th>\n",
       "      <th>ChemicalCreatedAt</th>\n",
       "      <th>ChemicalUpdatedAt</th>\n",
       "      <th>ChemicalDateRemoved</th>\n",
       "      <th>ChemicalCount</th>\n",
       "    </tr>\n",
       "  </thead>\n",
       "  <tbody>\n",
       "    <tr>\n",
       "      <th>0</th>\n",
       "      <td>2</td>\n",
       "      <td>ULTRA COLOR RICH EXTRA PLUMP LIPSTICK-ALL SHADES</td>\n",
       "      <td>-1.0</td>\n",
       "      <td></td>\n",
       "      <td>4</td>\n",
       "      <td>New Avon LLC</td>\n",
       "      <td>AVON</td>\n",
       "      <td>44</td>\n",
       "      <td>Makeup Products (non-permanent)</td>\n",
       "      <td>53</td>\n",
       "      <td>...</td>\n",
       "      <td>13463-67-7</td>\n",
       "      <td>6</td>\n",
       "      <td>Titanium dioxide</td>\n",
       "      <td>2009-06-17</td>\n",
       "      <td>2013-08-28</td>\n",
       "      <td>2011-02-01</td>\n",
       "      <td>2009-07-09</td>\n",
       "      <td>2009-07-09</td>\n",
       "      <td>1900-01-01</td>\n",
       "      <td>1</td>\n",
       "    </tr>\n",
       "    <tr>\n",
       "      <th>1</th>\n",
       "      <td>3</td>\n",
       "      <td>Glover's Medicated Shampoo</td>\n",
       "      <td>-1.0</td>\n",
       "      <td></td>\n",
       "      <td>338</td>\n",
       "      <td>J. Strickland &amp; Co.</td>\n",
       "      <td>Glover's</td>\n",
       "      <td>18</td>\n",
       "      <td>Hair Care Products (non-coloring)</td>\n",
       "      <td>25</td>\n",
       "      <td>...</td>\n",
       "      <td>65996-92-1</td>\n",
       "      <td>4</td>\n",
       "      <td>Distillates (coal tar)</td>\n",
       "      <td>2009-07-01</td>\n",
       "      <td>2009-07-01</td>\n",
       "      <td>1900-01-01</td>\n",
       "      <td>2009-07-01</td>\n",
       "      <td>2009-07-01</td>\n",
       "      <td>1900-01-01</td>\n",
       "      <td>2</td>\n",
       "    </tr>\n",
       "    <tr>\n",
       "      <th>2</th>\n",
       "      <td>3</td>\n",
       "      <td>Glover's Medicated Shampoo</td>\n",
       "      <td>-1.0</td>\n",
       "      <td></td>\n",
       "      <td>338</td>\n",
       "      <td>J. Strickland &amp; Co.</td>\n",
       "      <td>Glover's</td>\n",
       "      <td>18</td>\n",
       "      <td>Hair Care Products (non-coloring)</td>\n",
       "      <td>25</td>\n",
       "      <td>...</td>\n",
       "      <td>140-67-0</td>\n",
       "      <td>5</td>\n",
       "      <td>Estragole</td>\n",
       "      <td>2009-07-01</td>\n",
       "      <td>2009-07-01</td>\n",
       "      <td>1900-01-01</td>\n",
       "      <td>2009-07-02</td>\n",
       "      <td>2009-07-02</td>\n",
       "      <td>1900-01-01</td>\n",
       "      <td>2</td>\n",
       "    </tr>\n",
       "    <tr>\n",
       "      <th>3</th>\n",
       "      <td>4</td>\n",
       "      <td>PRECISION GLIMMER EYE LINER-ALL SHADES �</td>\n",
       "      <td>-1.0</td>\n",
       "      <td></td>\n",
       "      <td>4</td>\n",
       "      <td>New Avon LLC</td>\n",
       "      <td>AVON</td>\n",
       "      <td>44</td>\n",
       "      <td>Makeup Products (non-permanent)</td>\n",
       "      <td>46</td>\n",
       "      <td>...</td>\n",
       "      <td>13463-67-7</td>\n",
       "      <td>7</td>\n",
       "      <td>Titanium dioxide</td>\n",
       "      <td>2009-07-09</td>\n",
       "      <td>2013-08-28</td>\n",
       "      <td>1900-01-01</td>\n",
       "      <td>2009-07-09</td>\n",
       "      <td>2009-07-09</td>\n",
       "      <td>1900-01-01</td>\n",
       "      <td>1</td>\n",
       "    </tr>\n",
       "    <tr>\n",
       "      <th>4</th>\n",
       "      <td>5</td>\n",
       "      <td>AVON BRILLIANT SHINE LIP GLOSS-ALL SHADES �</td>\n",
       "      <td>-1.0</td>\n",
       "      <td></td>\n",
       "      <td>4</td>\n",
       "      <td>New Avon LLC</td>\n",
       "      <td>AVON</td>\n",
       "      <td>44</td>\n",
       "      <td>Makeup Products (non-permanent)</td>\n",
       "      <td>52</td>\n",
       "      <td>...</td>\n",
       "      <td>13463-67-7</td>\n",
       "      <td>8</td>\n",
       "      <td>Titanium dioxide</td>\n",
       "      <td>2009-07-09</td>\n",
       "      <td>2013-08-28</td>\n",
       "      <td>2011-02-01</td>\n",
       "      <td>2009-07-09</td>\n",
       "      <td>2009-07-09</td>\n",
       "      <td>1900-01-01</td>\n",
       "      <td>1</td>\n",
       "    </tr>\n",
       "  </tbody>\n",
       "</table>\n",
       "<p>5 rows × 22 columns</p>\n",
       "</div>"
      ],
      "text/plain": [
       "   CDPHId                                       ProductName  CSFId CSF  \\\n",
       "0       2  ULTRA COLOR RICH EXTRA PLUMP LIPSTICK-ALL SHADES   -1.0       \n",
       "1       3                        Glover's Medicated Shampoo   -1.0       \n",
       "2       3                        Glover's Medicated Shampoo   -1.0       \n",
       "3       4          PRECISION GLIMMER EYE LINER-ALL SHADES �   -1.0       \n",
       "4       5       AVON BRILLIANT SHINE LIP GLOSS-ALL SHADES �   -1.0       \n",
       "\n",
       "   CompanyId          CompanyName BrandName  PrimaryCategoryId  \\\n",
       "0          4         New Avon LLC      AVON                 44   \n",
       "1        338  J. Strickland & Co.  Glover's                 18   \n",
       "2        338  J. Strickland & Co.  Glover's                 18   \n",
       "3          4         New Avon LLC      AVON                 44   \n",
       "4          4         New Avon LLC      AVON                 44   \n",
       "\n",
       "                     PrimaryCategory  SubCategoryId      ...        CasNumber  \\\n",
       "0    Makeup Products (non-permanent)             53      ...       13463-67-7   \n",
       "1  Hair Care Products (non-coloring)             25      ...       65996-92-1   \n",
       "2  Hair Care Products (non-coloring)             25      ...         140-67-0   \n",
       "3    Makeup Products (non-permanent)             46      ...       13463-67-7   \n",
       "4    Makeup Products (non-permanent)             52      ...       13463-67-7   \n",
       "\n",
       "   ChemicalId            ChemicalName  InitialDateReported  \\\n",
       "0           6        Titanium dioxide           2009-06-17   \n",
       "1           4  Distillates (coal tar)           2009-07-01   \n",
       "2           5               Estragole           2009-07-01   \n",
       "3           7        Titanium dioxide           2009-07-09   \n",
       "4           8        Titanium dioxide           2009-07-09   \n",
       "\n",
       "  MostRecentDateReported DiscontinuedDate ChemicalCreatedAt ChemicalUpdatedAt  \\\n",
       "0             2013-08-28       2011-02-01        2009-07-09        2009-07-09   \n",
       "1             2009-07-01       1900-01-01        2009-07-01        2009-07-01   \n",
       "2             2009-07-01       1900-01-01        2009-07-02        2009-07-02   \n",
       "3             2013-08-28       1900-01-01        2009-07-09        2009-07-09   \n",
       "4             2013-08-28       2011-02-01        2009-07-09        2009-07-09   \n",
       "\n",
       "  ChemicalDateRemoved ChemicalCount  \n",
       "0          1900-01-01             1  \n",
       "1          1900-01-01             2  \n",
       "2          1900-01-01             2  \n",
       "3          1900-01-01             1  \n",
       "4          1900-01-01             1  \n",
       "\n",
       "[5 rows x 22 columns]"
      ]
     },
     "execution_count": 3,
     "metadata": {},
     "output_type": "execute_result"
    }
   ],
   "source": [
    "# Load data from data/ folder\n",
    "data = pd.read_csv(os.path.join(DATA_PATH, DATA_NAME), sep = ',', parse_dates = list_dates)\n",
    "\n",
    "# pd.isna() --> for NaN\n",
    "# <value> is pd.NaT --> for NaT\n",
    "\n",
    "# Fill NaT with 01/01/1900\n",
    "for date_column in list_dates :\n",
    "    data[date_column] = data[date_column].apply(lambda x: NAT_DATE if x is pd.NaT else x)\n",
    "    \n",
    "\n",
    "# Fill NA with ''\n",
    "data = data.fillna('')\n",
    "\n",
    "# Fill CSFId empty with -1\n",
    "data[CSFID_COLUMN] = data[CSFID_COLUMN].apply(lambda x: x if x != \"\" else CSFID_EMPTY_NUMBER)\n",
    "\n",
    "data.head()"
   ]
  },
  {
   "cell_type": "markdown",
   "metadata": {},
   "source": [
    "---"
   ]
  },
  {
   "cell_type": "code",
   "execution_count": null,
   "metadata": {},
   "outputs": [],
   "source": []
  },
  {
   "cell_type": "code",
   "execution_count": null,
   "metadata": {},
   "outputs": [],
   "source": []
  },
  {
   "cell_type": "code",
   "execution_count": null,
   "metadata": {},
   "outputs": [],
   "source": []
  },
  {
   "cell_type": "code",
   "execution_count": null,
   "metadata": {},
   "outputs": [],
   "source": []
  },
  {
   "cell_type": "code",
   "execution_count": null,
   "metadata": {},
   "outputs": [],
   "source": []
  },
  {
   "cell_type": "code",
   "execution_count": null,
   "metadata": {},
   "outputs": [],
   "source": []
  },
  {
   "cell_type": "code",
   "execution_count": null,
   "metadata": {},
   "outputs": [],
   "source": []
  },
  {
   "cell_type": "code",
   "execution_count": null,
   "metadata": {},
   "outputs": [],
   "source": []
  },
  {
   "cell_type": "code",
   "execution_count": null,
   "metadata": {},
   "outputs": [],
   "source": []
  },
  {
   "cell_type": "code",
   "execution_count": null,
   "metadata": {},
   "outputs": [],
   "source": []
  },
  {
   "cell_type": "code",
   "execution_count": null,
   "metadata": {},
   "outputs": [],
   "source": []
  },
  {
   "cell_type": "code",
   "execution_count": null,
   "metadata": {},
   "outputs": [],
   "source": []
  },
  {
   "cell_type": "code",
   "execution_count": null,
   "metadata": {},
   "outputs": [],
   "source": []
  },
  {
   "cell_type": "code",
   "execution_count": null,
   "metadata": {},
   "outputs": [],
   "source": []
  },
  {
   "cell_type": "code",
   "execution_count": null,
   "metadata": {},
   "outputs": [],
   "source": []
  },
  {
   "cell_type": "code",
   "execution_count": null,
   "metadata": {},
   "outputs": [],
   "source": []
  },
  {
   "cell_type": "code",
   "execution_count": null,
   "metadata": {},
   "outputs": [],
   "source": []
  },
  {
   "cell_type": "code",
   "execution_count": null,
   "metadata": {},
   "outputs": [],
   "source": []
  },
  {
   "cell_type": "code",
   "execution_count": null,
   "metadata": {},
   "outputs": [],
   "source": []
  },
  {
   "cell_type": "code",
   "execution_count": null,
   "metadata": {},
   "outputs": [],
   "source": []
  },
  {
   "cell_type": "code",
   "execution_count": null,
   "metadata": {},
   "outputs": [],
   "source": []
  },
  {
   "cell_type": "code",
   "execution_count": null,
   "metadata": {},
   "outputs": [],
   "source": []
  },
  {
   "cell_type": "code",
   "execution_count": null,
   "metadata": {},
   "outputs": [],
   "source": []
  },
  {
   "cell_type": "code",
   "execution_count": null,
   "metadata": {},
   "outputs": [],
   "source": []
  },
  {
   "cell_type": "code",
   "execution_count": null,
   "metadata": {},
   "outputs": [],
   "source": []
  },
  {
   "cell_type": "code",
   "execution_count": null,
   "metadata": {},
   "outputs": [],
   "source": []
  },
  {
   "cell_type": "code",
   "execution_count": null,
   "metadata": {},
   "outputs": [],
   "source": []
  },
  {
   "cell_type": "code",
   "execution_count": null,
   "metadata": {},
   "outputs": [],
   "source": []
  },
  {
   "cell_type": "code",
   "execution_count": null,
   "metadata": {},
   "outputs": [],
   "source": []
  },
  {
   "cell_type": "code",
   "execution_count": null,
   "metadata": {},
   "outputs": [],
   "source": []
  },
  {
   "cell_type": "code",
   "execution_count": null,
   "metadata": {},
   "outputs": [],
   "source": []
  },
  {
   "cell_type": "code",
   "execution_count": null,
   "metadata": {},
   "outputs": [],
   "source": []
  },
  {
   "cell_type": "code",
   "execution_count": null,
   "metadata": {},
   "outputs": [],
   "source": []
  },
  {
   "cell_type": "code",
   "execution_count": null,
   "metadata": {},
   "outputs": [],
   "source": []
  },
  {
   "cell_type": "code",
   "execution_count": null,
   "metadata": {},
   "outputs": [],
   "source": []
  },
  {
   "cell_type": "code",
   "execution_count": null,
   "metadata": {},
   "outputs": [],
   "source": []
  },
  {
   "cell_type": "code",
   "execution_count": null,
   "metadata": {},
   "outputs": [],
   "source": []
  },
  {
   "cell_type": "code",
   "execution_count": null,
   "metadata": {},
   "outputs": [],
   "source": []
  },
  {
   "cell_type": "code",
   "execution_count": null,
   "metadata": {},
   "outputs": [],
   "source": []
  },
  {
   "cell_type": "code",
   "execution_count": null,
   "metadata": {},
   "outputs": [],
   "source": []
  },
  {
   "cell_type": "code",
   "execution_count": null,
   "metadata": {},
   "outputs": [],
   "source": []
  },
  {
   "cell_type": "code",
   "execution_count": null,
   "metadata": {},
   "outputs": [],
   "source": []
  },
  {
   "cell_type": "code",
   "execution_count": null,
   "metadata": {},
   "outputs": [],
   "source": []
  },
  {
   "cell_type": "code",
   "execution_count": null,
   "metadata": {},
   "outputs": [],
   "source": []
  },
  {
   "cell_type": "code",
   "execution_count": null,
   "metadata": {},
   "outputs": [],
   "source": []
  },
  {
   "cell_type": "code",
   "execution_count": null,
   "metadata": {},
   "outputs": [],
   "source": []
  },
  {
   "cell_type": "code",
   "execution_count": null,
   "metadata": {},
   "outputs": [],
   "source": []
  },
  {
   "cell_type": "code",
   "execution_count": null,
   "metadata": {},
   "outputs": [],
   "source": []
  },
  {
   "cell_type": "code",
   "execution_count": null,
   "metadata": {},
   "outputs": [],
   "source": []
  },
  {
   "cell_type": "code",
   "execution_count": null,
   "metadata": {},
   "outputs": [],
   "source": []
  },
  {
   "cell_type": "code",
   "execution_count": null,
   "metadata": {},
   "outputs": [],
   "source": []
  },
  {
   "cell_type": "code",
   "execution_count": null,
   "metadata": {},
   "outputs": [],
   "source": []
  },
  {
   "cell_type": "code",
   "execution_count": null,
   "metadata": {},
   "outputs": [],
   "source": []
  },
  {
   "cell_type": "code",
   "execution_count": null,
   "metadata": {},
   "outputs": [],
   "source": []
  },
  {
   "cell_type": "code",
   "execution_count": null,
   "metadata": {},
   "outputs": [],
   "source": []
  },
  {
   "cell_type": "code",
   "execution_count": null,
   "metadata": {},
   "outputs": [],
   "source": []
  },
  {
   "cell_type": "code",
   "execution_count": null,
   "metadata": {},
   "outputs": [],
   "source": []
  },
  {
   "cell_type": "code",
   "execution_count": null,
   "metadata": {},
   "outputs": [],
   "source": []
  },
  {
   "cell_type": "code",
   "execution_count": null,
   "metadata": {},
   "outputs": [],
   "source": []
  },
  {
   "cell_type": "code",
   "execution_count": null,
   "metadata": {},
   "outputs": [],
   "source": []
  },
  {
   "cell_type": "code",
   "execution_count": null,
   "metadata": {},
   "outputs": [],
   "source": []
  },
  {
   "cell_type": "code",
   "execution_count": null,
   "metadata": {},
   "outputs": [],
   "source": []
  },
  {
   "cell_type": "code",
   "execution_count": null,
   "metadata": {},
   "outputs": [],
   "source": []
  },
  {
   "cell_type": "code",
   "execution_count": null,
   "metadata": {},
   "outputs": [],
   "source": []
  },
  {
   "cell_type": "code",
   "execution_count": null,
   "metadata": {},
   "outputs": [],
   "source": []
  },
  {
   "cell_type": "code",
   "execution_count": null,
   "metadata": {},
   "outputs": [],
   "source": []
  },
  {
   "cell_type": "code",
   "execution_count": null,
   "metadata": {},
   "outputs": [],
   "source": []
  },
  {
   "cell_type": "code",
   "execution_count": null,
   "metadata": {},
   "outputs": [],
   "source": []
  },
  {
   "cell_type": "code",
   "execution_count": null,
   "metadata": {},
   "outputs": [],
   "source": []
  }
 ],
 "metadata": {
  "kernelspec": {
   "display_name": "Python 3",
   "language": "python",
   "name": "python3"
  },
  "language_info": {
   "codemirror_mode": {
    "name": "ipython",
    "version": 3
   },
   "file_extension": ".py",
   "mimetype": "text/x-python",
   "name": "python",
   "nbconvert_exporter": "python",
   "pygments_lexer": "ipython3",
   "version": "3.7.2"
  }
 },
 "nbformat": 4,
 "nbformat_minor": 2
}
