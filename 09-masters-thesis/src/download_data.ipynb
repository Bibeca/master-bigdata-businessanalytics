{
 "cells": [
  {
   "cell_type": "code",
   "execution_count": 1,
   "metadata": {},
   "outputs": [],
   "source": [
    "# Import libraries\n",
    "import os\n",
    "import json\n",
    "import urllib.error\n",
    "import shutil\n",
    "\n",
    "from datetime import datetime, timedelta\n",
    "from urllib.request import urlopen, urlretrieve"
   ]
  },
  {
   "cell_type": "code",
   "execution_count": 2,
   "metadata": {},
   "outputs": [],
   "source": [
    "# Data API URL \n",
    "api_url = \"https://healthdata.gov/api/3/action/package_show?id=\"\n",
    "data_id = \"596b5eed-31de-4fd8-a645-249f3f9b19c4\"\n",
    "data_url = api_url + data_id\n",
    "\n",
    "# Max days between current data's date from URL and local data's date\n",
    "max_days = 15\n",
    "\n",
    "# Data paths\n",
    "data_path = \"data/\"\n",
    "data_info_path = \"data/info/\"\n",
    "data_backup_path = \"data_backup/\"\n",
    "local_data_date_name = \"local_data_date\"\n",
    "\n",
    "\n",
    "# Set data name \n",
    "data_name = \"cscpopendata.csv\"\n",
    "\n",
    "# Load Local Data's Date\n",
    "date_format = \"%d/%m/%Y - %H:%M\"\n",
    "local_data_file = open(data_path+local_data_date_name, \"r\")\n",
    "local_data_date = datetime.strptime(local_data_file.read(), date_format)\n",
    "local_data_file.close()"
   ]
  },
  {
   "cell_type": "code",
   "execution_count": 3,
   "metadata": {},
   "outputs": [],
   "source": [
    "# Get data from API\n",
    "try :\n",
    "    jsonurl = urlopen(data_url)\n",
    "    data_json = json.loads(jsonurl.read())\n",
    "    \n",
    "except urllib.error.URLError as err:\n",
    "    raise Exception(\"There is an error with the URL: \" + str(err))\n",
    "    \n",
    "except Exception as err:\n",
    "    raise Exception(\"There is an unexpected error: \" + str(err))"
   ]
  },
  {
   "cell_type": "code",
   "execution_count": 4,
   "metadata": {},
   "outputs": [],
   "source": [
    "# Function to check if the request data has been successfull\n",
    "def checkSuccessfullRequest(data_json) :\n",
    "    if not 'help' in data_json.keys() :\n",
    "        return [False, \"'help' key does not exists in JSON data\"]\n",
    "\n",
    "    if not 'success' in data_json.keys() :\n",
    "        return [False, \"'success' key does not exists in JSON data\"]\n",
    "\n",
    "    if not 'result' in data_json.keys() :\n",
    "        [False, \"'result' key does not exists in JSON data\"]\n",
    "    \n",
    "    if (data_json['success']) :\n",
    "        return [data_json['success'], \"Request data is successfull\"]\n",
    "    else :\n",
    "        return [data_json['success'], \"Request data is not successfull\"]"
   ]
  },
  {
   "cell_type": "code",
   "execution_count": 5,
   "metadata": {},
   "outputs": [],
   "source": [
    "# Check if the operation has been succesfull\n",
    "check = checkSuccessfullRequest(data_json)\n",
    "\n",
    "# If it is not successfull, exit\n",
    "if not check[0] :\n",
    "    raise Exception(check[1])"
   ]
  },
  {
   "cell_type": "code",
   "execution_count": 6,
   "metadata": {},
   "outputs": [
    {
     "name": "stdout",
     "output_type": "stream",
     "text": [
      "Max days: 1\n",
      "Local Date: 2019-02-10 02:46:00\n",
      "Current Date: 2019-02-10 02:46:00\n",
      "\n",
      "The download is not necessary\n"
     ]
    }
   ],
   "source": [
    "# Tranform 'revision_timestamp' string value to date value\n",
    "date = datetime.strptime(data_json['result'][0]['revision_timestamp'], \"%a, %m/%d/%Y - %H:%M\")\n",
    "\n",
    "print(\"Max days: \" + str(max_days))\n",
    "print(\"Local Date: \" + str(local_data_date))\n",
    "print(\"Current Date: \" + str(date) + \"\\n\")\n",
    "\n",
    "\n",
    "# If the days between current data's date and local data's date is higher than 'max_days'\n",
    "#  then we update local data\n",
    "if (date - local_data_date) > timedelta(days = max_days) :\n",
    "    print(\"Removing \" + data_backup_path + \"...\")\n",
    "    shutil.rmtree(data_backup_path, ignore_errors=True)\n",
    "    \n",
    "    print(\"Moving \" + data_path + \" to \" + data_backup_path + \"...\")\n",
    "    os.rename(data_path, data_backup_path)\n",
    "    \n",
    "    print(\"Creating \" + data_path + \"...\")\n",
    "    os.mkdir(data_path)\n",
    "    \n",
    "    print(\"Creating \" + data_info_path + \"...\\n\")\n",
    "    os.mkdir(data_info_path)\n",
    "\n",
    "    # For each resource\n",
    "    for resource in data_json['result'][0]['resources'] :    \n",
    "        # Print the resource's name and its last_modified date\n",
    "        print(\"Downloading \" + resource['name'] + \"...\")\n",
    "        \n",
    "        # Get the resource's url\n",
    "        url = resource['url']\n",
    "        start = url.find(\"https:\")\n",
    "        end = url[start:].find(\"<\")\n",
    "        url = url[start:(start+end)]\n",
    "        \n",
    "        print(\"\\tURL: \" + url)\n",
    "        \n",
    "        if resource['format'] == 'csv' :\n",
    "            destination = data_path + data_name\n",
    "        \n",
    "        else :\n",
    "            destination = data_info_path + resource['name'] + \".\" + resource['format']\n",
    "            \n",
    "        print(\"\\tDestination: \" + destination)\n",
    "        urlretrieve(url, destination)\n",
    "        print()\n",
    "        \n",
    "    print(\"Storing new Local Data's Date into \" + data_path+local_data_date_name + \"...\")\n",
    "    local_data_file = open(data_path+local_data_date_name, \"w\")\n",
    "    local_data_file.write(datetime.strftime(date, date_format))\n",
    "    local_data_file.close()\n",
    "            \n",
    "else :\n",
    "    print(\"The download is not necessary\")"
   ]
  }
 ],
 "metadata": {
  "kernelspec": {
   "display_name": "Python 3",
   "language": "python",
   "name": "python3"
  },
  "language_info": {
   "codemirror_mode": {
    "name": "ipython",
    "version": 3
   },
   "file_extension": ".py",
   "mimetype": "text/x-python",
   "name": "python",
   "nbconvert_exporter": "python",
   "pygments_lexer": "ipython3",
   "version": "3.7.2"
  }
 },
 "nbformat": 4,
 "nbformat_minor": 2
}
